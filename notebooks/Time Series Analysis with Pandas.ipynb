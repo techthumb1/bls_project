{
 "cells": [
  {
   "cell_type": "markdown",
   "metadata": {},
   "source": [
    "\n",
    "# Time Series Analysis with Pandas\n",
    "\n",
    "\n",
    "**[Python Data Science Handbook](https://jakevdp.github.io/PythonDataScienceHandbook/)**: Python Data Science Handbook<br>\n",
    "**[Python Data Science Handbook](https://jakevdp.github.io/PythonDataScienceHandbook/03.11-working-with-time-series.html)**: Working with Time Series<br>\n",
    "**[Consumer Price Index](https://beta.bls.gov/dataViewer/view)**: All items in U.S. city average, all urban consumers, not seasonally adjusted\n",
    "\n",
    "\n"
   ]
  },
  {
   "cell_type": "code",
   "execution_count": 1,
   "metadata": {},
   "outputs": [],
   "source": [
    "from datetime import datetime\n",
    "from dateutil import parser\n",
    "import numpy as np\n",
    "import pandas as pd\n",
    "from pandas.tseries.offsets import BDay\n",
    "from pandas_datareader import data\n",
    "%matplotlib inline\n",
    "import matplotlib.pyplot as plt\n",
    "import seaborn; seaborn.set()"
   ]
  },
  {
   "cell_type": "code",
   "execution_count": null,
   "metadata": {},
   "outputs": [],
   "source": [
    "pip install pand"
   ]
  },
  {
   "cell_type": "code",
   "execution_count": 6,
   "metadata": {},
   "outputs": [
    {
     "data": {
      "text/html": [
       "<div>\n",
       "<style scoped>\n",
       "    .dataframe tbody tr th:only-of-type {\n",
       "        vertical-align: middle;\n",
       "    }\n",
       "\n",
       "    .dataframe tbody tr th {\n",
       "        vertical-align: top;\n",
       "    }\n",
       "\n",
       "    .dataframe thead th {\n",
       "        text-align: right;\n",
       "    }\n",
       "</style>\n",
       "<table border=\"1\" class=\"dataframe\">\n",
       "  <thead>\n",
       "    <tr style=\"text-align: right;\">\n",
       "      <th></th>\n",
       "      <th>Series ID</th>\n",
       "      <th>Year</th>\n",
       "      <th>Period</th>\n",
       "      <th>Label</th>\n",
       "      <th>Value</th>\n",
       "    </tr>\n",
       "  </thead>\n",
       "  <tbody>\n",
       "    <tr>\n",
       "      <th>0</th>\n",
       "      <td>CUUR0000SA0</td>\n",
       "      <td>2012</td>\n",
       "      <td>M01</td>\n",
       "      <td>2012 Jan</td>\n",
       "      <td>226.665</td>\n",
       "    </tr>\n",
       "    <tr>\n",
       "      <th>1</th>\n",
       "      <td>CUUR0000SA0</td>\n",
       "      <td>2012</td>\n",
       "      <td>M02</td>\n",
       "      <td>2012 Feb</td>\n",
       "      <td>227.663</td>\n",
       "    </tr>\n",
       "    <tr>\n",
       "      <th>2</th>\n",
       "      <td>CUUR0000SA0</td>\n",
       "      <td>2012</td>\n",
       "      <td>M03</td>\n",
       "      <td>2012 Mar</td>\n",
       "      <td>229.392</td>\n",
       "    </tr>\n",
       "    <tr>\n",
       "      <th>3</th>\n",
       "      <td>CUUR0000SA0</td>\n",
       "      <td>2012</td>\n",
       "      <td>M04</td>\n",
       "      <td>2012 Apr</td>\n",
       "      <td>230.085</td>\n",
       "    </tr>\n",
       "    <tr>\n",
       "      <th>4</th>\n",
       "      <td>CUUR0000SA0</td>\n",
       "      <td>2012</td>\n",
       "      <td>M05</td>\n",
       "      <td>2012 May</td>\n",
       "      <td>229.815</td>\n",
       "    </tr>\n",
       "  </tbody>\n",
       "</table>\n",
       "</div>"
      ],
      "text/plain": [
       "     Series ID  Year Period     Label    Value\n",
       "0  CUUR0000SA0  2012    M01  2012 Jan  226.665\n",
       "1  CUUR0000SA0  2012    M02  2012 Feb  227.663\n",
       "2  CUUR0000SA0  2012    M03  2012 Mar  229.392\n",
       "3  CUUR0000SA0  2012    M04  2012 Apr  230.085\n",
       "4  CUUR0000SA0  2012    M05  2012 May  229.815"
      ]
     },
     "execution_count": 6,
     "metadata": {},
     "output_type": "execute_result"
    }
   ],
   "source": [
    "df = pd.read_csv('/Users/jasonrobinson/Downloads/cpi_latest.csv')\n",
    "df.head()"
   ]
  },
  {
   "cell_type": "code",
   "execution_count": 7,
   "metadata": {},
   "outputs": [
    {
     "data": {
      "text/html": [
       "<div>\n",
       "<style scoped>\n",
       "    .dataframe tbody tr th:only-of-type {\n",
       "        vertical-align: middle;\n",
       "    }\n",
       "\n",
       "    .dataframe tbody tr th {\n",
       "        vertical-align: top;\n",
       "    }\n",
       "\n",
       "    .dataframe thead th {\n",
       "        text-align: right;\n",
       "    }\n",
       "</style>\n",
       "<table border=\"1\" class=\"dataframe\">\n",
       "  <thead>\n",
       "    <tr style=\"text-align: right;\">\n",
       "      <th></th>\n",
       "      <th>Series ID</th>\n",
       "      <th>Year</th>\n",
       "      <th>Period</th>\n",
       "      <th>Label</th>\n",
       "      <th>Value</th>\n",
       "    </tr>\n",
       "  </thead>\n",
       "  <tbody>\n",
       "    <tr>\n",
       "      <th>0</th>\n",
       "      <td>CUUR0000SA0</td>\n",
       "      <td>2012</td>\n",
       "      <td>M01</td>\n",
       "      <td>2012-01-01</td>\n",
       "      <td>226.665</td>\n",
       "    </tr>\n",
       "    <tr>\n",
       "      <th>1</th>\n",
       "      <td>CUUR0000SA0</td>\n",
       "      <td>2012</td>\n",
       "      <td>M02</td>\n",
       "      <td>2012-02-01</td>\n",
       "      <td>227.663</td>\n",
       "    </tr>\n",
       "    <tr>\n",
       "      <th>2</th>\n",
       "      <td>CUUR0000SA0</td>\n",
       "      <td>2012</td>\n",
       "      <td>M03</td>\n",
       "      <td>2012-03-01</td>\n",
       "      <td>229.392</td>\n",
       "    </tr>\n",
       "    <tr>\n",
       "      <th>3</th>\n",
       "      <td>CUUR0000SA0</td>\n",
       "      <td>2012</td>\n",
       "      <td>M04</td>\n",
       "      <td>2012-04-01</td>\n",
       "      <td>230.085</td>\n",
       "    </tr>\n",
       "    <tr>\n",
       "      <th>4</th>\n",
       "      <td>CUUR0000SA0</td>\n",
       "      <td>2012</td>\n",
       "      <td>M05</td>\n",
       "      <td>2012-05-01</td>\n",
       "      <td>229.815</td>\n",
       "    </tr>\n",
       "  </tbody>\n",
       "</table>\n",
       "</div>"
      ],
      "text/plain": [
       "     Series ID  Year Period      Label    Value\n",
       "0  CUUR0000SA0  2012    M01 2012-01-01  226.665\n",
       "1  CUUR0000SA0  2012    M02 2012-02-01  227.663\n",
       "2  CUUR0000SA0  2012    M03 2012-03-01  229.392\n",
       "3  CUUR0000SA0  2012    M04 2012-04-01  230.085\n",
       "4  CUUR0000SA0  2012    M05 2012-05-01  229.815"
      ]
     },
     "execution_count": 7,
     "metadata": {},
     "output_type": "execute_result"
    }
   ],
   "source": [
    "df = pd.read_csv('/Users/jasonrobinson/Downloads/cpi_latest.csv', parse_dates=['Label'])\n",
    "df.head()"
   ]
  },
  {
   "cell_type": "code",
   "execution_count": 44,
   "metadata": {},
   "outputs": [
    {
     "name": "stdout",
     "output_type": "stream",
     "text": [
      "<class 'pandas.core.frame.DataFrame'>\n",
      "RangeIndex: 123 entries, 0 to 122\n",
      "Data columns (total 5 columns):\n",
      " #   Column     Non-Null Count  Dtype         \n",
      "---  ------     --------------  -----         \n",
      " 0   Series ID  123 non-null    object        \n",
      " 1   Year       123 non-null    int64         \n",
      " 2   Period     123 non-null    object        \n",
      " 3   Label      123 non-null    datetime64[ns]\n",
      " 4   Value      123 non-null    float64       \n",
      "dtypes: datetime64[ns](1), float64(1), int64(1), object(2)\n",
      "memory usage: 4.9+ KB\n"
     ]
    }
   ],
   "source": [
    "df.info()"
   ]
  },
  {
   "cell_type": "code",
   "execution_count": 16,
   "metadata": {},
   "outputs": [],
   "source": [
    "label_value = df[['Label', 'Value']]\n",
    "index = pd.DatetimeIndex(label_value['Label'])"
   ]
  },
  {
   "cell_type": "code",
   "execution_count": 47,
   "metadata": {},
   "outputs": [
    {
     "data": {
      "text/plain": [
       "Label\n",
       "2012-01-01      0\n",
       "2012-02-01      1\n",
       "2012-03-01      2\n",
       "2012-04-01      3\n",
       "2012-05-01      4\n",
       "             ... \n",
       "2021-11-01    118\n",
       "2021-12-01    119\n",
       "2022-01-01    120\n",
       "2022-02-01    121\n",
       "2022-03-01    122\n",
       "Length: 123, dtype: int64"
      ]
     },
     "execution_count": 47,
     "metadata": {},
     "output_type": "execute_result"
    }
   ],
   "source": [
    "data = pd.Series(np.arange(0,123), index=index)\n",
    "data"
   ]
  },
  {
   "cell_type": "code",
   "execution_count": 48,
   "metadata": {},
   "outputs": [
    {
     "data": {
      "text/plain": [
       "Label\n",
       "2015-09-01    44\n",
       "2015-10-01    45\n",
       "2015-11-01    46\n",
       "2015-12-01    47\n",
       "2016-01-01    48\n",
       "2016-02-01    49\n",
       "2016-03-01    50\n",
       "2016-04-01    51\n",
       "2016-05-01    52\n",
       "2016-06-01    53\n",
       "2016-07-01    54\n",
       "2016-08-01    55\n",
       "2016-09-01    56\n",
       "2016-10-01    57\n",
       "2016-11-01    58\n",
       "2016-12-01    59\n",
       "2017-01-01    60\n",
       "2017-02-01    61\n",
       "2017-03-01    62\n",
       "2017-04-01    63\n",
       "2017-05-01    64\n",
       "2017-06-01    65\n",
       "2017-07-01    66\n",
       "2017-08-01    67\n",
       "2017-09-01    68\n",
       "2017-10-01    69\n",
       "2017-11-01    70\n",
       "2017-12-01    71\n",
       "2018-01-01    72\n",
       "2018-02-01    73\n",
       "2018-03-01    74\n",
       "2018-04-01    75\n",
       "2018-05-01    76\n",
       "2018-06-01    77\n",
       "2018-07-01    78\n",
       "2018-08-01    79\n",
       "2018-09-01    80\n",
       "2018-10-01    81\n",
       "2018-11-01    82\n",
       "2018-12-01    83\n",
       "2019-01-01    84\n",
       "2019-02-01    85\n",
       "2019-03-01    86\n",
       "2019-04-01    87\n",
       "2019-05-01    88\n",
       "2019-06-01    89\n",
       "2019-07-01    90\n",
       "2019-08-01    91\n",
       "dtype: int64"
      ]
     },
     "execution_count": 48,
     "metadata": {},
     "output_type": "execute_result"
    }
   ],
   "source": [
    "data['2015-08-12':'2019-08-12']"
   ]
  },
  {
   "cell_type": "code",
   "execution_count": 49,
   "metadata": {},
   "outputs": [
    {
     "data": {
      "text/plain": [
       "Label\n",
       "2022-01-01    120\n",
       "2022-02-01    121\n",
       "2022-03-01    122\n",
       "dtype: int64"
      ]
     },
     "execution_count": 49,
     "metadata": {},
     "output_type": "execute_result"
    }
   ],
   "source": [
    "data['2022']"
   ]
  },
  {
   "cell_type": "code",
   "execution_count": 52,
   "metadata": {},
   "outputs": [
    {
     "data": {
      "text/plain": [
       "Label\n",
       "2012-01-01      0\n",
       "2012-02-01      1\n",
       "2012-03-01      2\n",
       "2012-04-01      3\n",
       "2012-05-01      4\n",
       "             ... \n",
       "2021-11-01    118\n",
       "2021-12-01    119\n",
       "2022-01-01    120\n",
       "2022-02-01    121\n",
       "2022-03-01    122\n",
       "Freq: D, Length: 123, dtype: int64"
      ]
     },
     "execution_count": 52,
     "metadata": {},
     "output_type": "execute_result"
    }
   ],
   "source": [
    "# Get our daily dates\n",
    "data.to_period('D')"
   ]
  },
  {
   "cell_type": "code",
   "execution_count": 53,
   "metadata": {},
   "outputs": [
    {
     "data": {
      "text/plain": [
       "Label\n",
       "2012-01      0\n",
       "2012-02      1\n",
       "2012-03      2\n",
       "2012-04      3\n",
       "2012-05      4\n",
       "          ... \n",
       "2021-11    118\n",
       "2021-12    119\n",
       "2022-01    120\n",
       "2022-02    121\n",
       "2022-03    122\n",
       "Freq: M, Length: 123, dtype: int64"
      ]
     },
     "execution_count": 53,
     "metadata": {},
     "output_type": "execute_result"
    }
   ],
   "source": [
    "# Get our monthly dates\n",
    "data.to_period('M')"
   ]
  },
  {
   "cell_type": "code",
   "execution_count": 55,
   "metadata": {},
   "outputs": [
    {
     "data": {
      "text/plain": [
       "Label\n",
       "2012-01-01      0\n",
       "2012-02-01      1\n",
       "2012-03-01      2\n",
       "2012-04-01      3\n",
       "2012-05-01      4\n",
       "             ... \n",
       "2021-11-01    118\n",
       "2021-12-01    119\n",
       "2022-01-01    120\n",
       "2022-02-01    121\n",
       "2022-03-01    122\n",
       "Length: 123, dtype: int64"
      ]
     },
     "execution_count": 55,
     "metadata": {},
     "output_type": "execute_result"
    }
   ],
   "source": [
    "data - data[0]"
   ]
  },
  {
   "cell_type": "code",
   "execution_count": 60,
   "metadata": {},
   "outputs": [
    {
     "data": {
      "text/plain": [
       "DatetimeIndex(['2015-08-12', '2015-08-13', '2015-08-14', '2015-08-15',\n",
       "               '2015-08-16', '2015-08-17', '2015-08-18', '2015-08-19',\n",
       "               '2015-08-20', '2015-08-21',\n",
       "               ...\n",
       "               '2019-08-03', '2019-08-04', '2019-08-05', '2019-08-06',\n",
       "               '2019-08-07', '2019-08-08', '2019-08-09', '2019-08-10',\n",
       "               '2019-08-11', '2019-08-12'],\n",
       "              dtype='datetime64[ns]', length=1462, freq='D')"
      ]
     },
     "execution_count": 60,
     "metadata": {},
     "output_type": "execute_result"
    }
   ],
   "source": [
    "label.date_range('2015-08-12','2019-08-12')"
   ]
  },
  {
   "cell_type": "code",
   "execution_count": 61,
   "metadata": {},
   "outputs": [
    {
     "data": {
      "text/plain": [
       "TimedeltaIndex(['00:00:00', '02:30:00', '05:00:00', '07:30:00', '10:00:00',\n",
       "                '12:30:00', '15:00:00', '17:30:00', '20:00:00'],\n",
       "               dtype='timedelta64[ns]', freq='150T')"
      ]
     },
     "execution_count": 61,
     "metadata": {},
     "output_type": "execute_result"
    }
   ],
   "source": [
    "pd.timedelta_range(0, periods=9, freq=\"2H30T\")"
   ]
  },
  {
   "cell_type": "code",
   "execution_count": 84,
   "metadata": {},
   "outputs": [
    {
     "data": {
      "text/html": [
       "<div>\n",
       "<style scoped>\n",
       "    .dataframe tbody tr th:only-of-type {\n",
       "        vertical-align: middle;\n",
       "    }\n",
       "\n",
       "    .dataframe tbody tr th {\n",
       "        vertical-align: top;\n",
       "    }\n",
       "\n",
       "    .dataframe thead th {\n",
       "        text-align: right;\n",
       "    }\n",
       "</style>\n",
       "<table border=\"1\" class=\"dataframe\">\n",
       "  <thead>\n",
       "    <tr style=\"text-align: right;\">\n",
       "      <th></th>\n",
       "      <th>GS10</th>\n",
       "    </tr>\n",
       "    <tr>\n",
       "      <th>DATE</th>\n",
       "      <th></th>\n",
       "    </tr>\n",
       "  </thead>\n",
       "  <tbody>\n",
       "    <tr>\n",
       "      <th>2017-05-01</th>\n",
       "      <td>2.30</td>\n",
       "    </tr>\n",
       "    <tr>\n",
       "      <th>2017-06-01</th>\n",
       "      <td>2.19</td>\n",
       "    </tr>\n",
       "    <tr>\n",
       "      <th>2017-07-01</th>\n",
       "      <td>2.32</td>\n",
       "    </tr>\n",
       "    <tr>\n",
       "      <th>2017-08-01</th>\n",
       "      <td>2.21</td>\n",
       "    </tr>\n",
       "    <tr>\n",
       "      <th>2017-09-01</th>\n",
       "      <td>2.20</td>\n",
       "    </tr>\n",
       "  </tbody>\n",
       "</table>\n",
       "</div>"
      ],
      "text/plain": [
       "            GS10\n",
       "DATE            \n",
       "2017-05-01  2.30\n",
       "2017-06-01  2.19\n",
       "2017-07-01  2.32\n",
       "2017-08-01  2.21\n",
       "2017-09-01  2.20"
      ]
     },
     "execution_count": 84,
     "metadata": {},
     "output_type": "execute_result"
    }
   ],
   "source": [
    "from pandas_datareader import data\n",
    "import pandas_datareader as DataReader\n",
    "import pandas_datareader.fred as FredReader\n",
    "pdr.get_data_fred('GS10')[:5]\n"
   ]
  },
  {
   "cell_type": "code",
   "execution_count": 78,
   "metadata": {
    "collapsed": true
   },
   "outputs": [
    {
     "ename": "TypeError",
     "evalue": "'module' object is not callable",
     "output_type": "error",
     "traceback": [
      "\u001b[0;31m---------------------------------------------------------------------------\u001b[0m",
      "\u001b[0;31mTypeError\u001b[0m                                 Traceback (most recent call last)",
      "\u001b[0;32m/var/folders/q3/0g1f31211lbgj741dfjd4r5c0000gn/T/ipykernel_30588/351568731.py\u001b[0m in \u001b[0;36m<module>\u001b[0;34m\u001b[0m\n\u001b[0;32m----> 1\u001b[0;31m FredReader('AAPL', start='2019-08-12', end='2019-08-15',\n\u001b[0m\u001b[1;32m      2\u001b[0m            \u001b[0mretry_count\u001b[0m\u001b[0;34m=\u001b[0m\u001b[0;36m3\u001b[0m\u001b[0;34m,\u001b[0m\u001b[0;34m\u001b[0m\u001b[0;34m\u001b[0m\u001b[0m\n\u001b[1;32m      3\u001b[0m            \u001b[0mpause\u001b[0m\u001b[0;34m=\u001b[0m\u001b[0;36m0.1\u001b[0m\u001b[0;34m,\u001b[0m\u001b[0;34m\u001b[0m\u001b[0;34m\u001b[0m\u001b[0m\n\u001b[1;32m      4\u001b[0m            \u001b[0mtimeout\u001b[0m\u001b[0;34m=\u001b[0m\u001b[0;36m30\u001b[0m\u001b[0;34m,\u001b[0m\u001b[0;34m\u001b[0m\u001b[0;34m\u001b[0m\u001b[0m\n\u001b[1;32m      5\u001b[0m            \u001b[0msession\u001b[0m\u001b[0;34m=\u001b[0m\u001b[0;32mNone\u001b[0m\u001b[0;34m,\u001b[0m\u001b[0;34m\u001b[0m\u001b[0;34m\u001b[0m\u001b[0m\n",
      "\u001b[0;31mTypeError\u001b[0m: 'module' object is not callable"
     ]
    }
   ],
   "source": [
    " FredReader('AAPL', start='2019-08-12', end='2019-08-15',\n",
    "            retry_count=3, \n",
    "            pause=0.1, \n",
    "            timeout=30, \n",
    "            session=None, \n",
    "            freq='H')"
   ]
  },
  {
   "cell_type": "code",
   "execution_count": 80,
   "metadata": {},
   "outputs": [],
   "source": [
    "def dataset_loader(stock_name):\n",
    "    \n",
    "    dataset = data_reader.pdr(stock_name , data_source = 'yahoo')\n",
    "    \n",
    "    start_date = str(dataset.index[0]).split()[0]\n",
    "    end_date = str(dataset.index[-1]).split()[0]\n",
    "    \n",
    "    close = dataset['Close']\n",
    "    return close  "
   ]
  },
  {
   "cell_type": "code",
   "execution_count": null,
   "metadata": {},
   "outputs": [],
   "source": []
  }
 ],
 "metadata": {
  "kernelspec": {
   "display_name": "Python 3",
   "language": "python",
   "name": "python3"
  },
  "language_info": {
   "codemirror_mode": {
    "name": "ipython",
    "version": 3
   },
   "file_extension": ".py",
   "mimetype": "text/x-python",
   "name": "python",
   "nbconvert_exporter": "python",
   "pygments_lexer": "ipython3",
   "version": "3.8.3"
  }
 },
 "nbformat": 4,
 "nbformat_minor": 4
}
