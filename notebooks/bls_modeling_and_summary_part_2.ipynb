{
 "cells": [
  {
   "cell_type": "markdown",
   "metadata": {},
   "source": [
    "\n",
    "## PART II - Modeling and Summary\n",
    "\n",
    "Determine the type of algorithms that will be in use. Create a list of thoughts and ideas here:\n",
    "1. What type of output are we expecting?\n",
    "2. Could we predict the outcome for a change in cpi and ppi?\n",
    "3. Could we predict the outcome for a change in wages and ces?\n",
    "4. What effects from other features have correalation?\n",
    "5. Some algos: (LR, RR, NNR, Lasso, Decision Tree, RF, KNN, SVM)?  \n",
    "6. White male earnings?\n",
    "7. African-American missing information or how classified?\n",
    "8. What features share a colinear relationship?\n",
    "9. \n",
    "10. \n",
    "11. \n",
    "12. \n",
    "13. \n",
    "14. \n",
    "15. \n",
    "16. \n",
    "17. \n",
    "18. \n",
    "19. \n",
    "20. "
   ]
  },
  {
   "cell_type": "markdown",
   "metadata": {},
   "source": [
    "\n",
    "### Measures and Characteristics\n",
    "\n",
    "Here we have our measures for which we will reduce down to categories:\n",
    "> - Consumer Asset and Liabilities\n",
    "> - Consumer Spending\n",
    "> - Pay and Benefits\n",
    "> - People and Families"
   ]
  },
  {
   "cell_type": "code",
   "execution_count": null,
   "metadata": {},
   "outputs": [],
   "source": [
    "# Split data - train, val, test"
   ]
  },
  {
   "cell_type": "code",
   "execution_count": null,
   "metadata": {},
   "outputs": [],
   "source": [
    "# Normalize"
   ]
  },
  {
   "cell_type": "code",
   "execution_count": null,
   "metadata": {},
   "outputs": [],
   "source": [
    "# Begin with baseline linear regression"
   ]
  },
  {
   "cell_type": "code",
   "execution_count": null,
   "metadata": {},
   "outputs": [],
   "source": [
    "# Random Forest"
   ]
  },
  {
   "cell_type": "code",
   "execution_count": null,
   "metadata": {},
   "outputs": [],
   "source": [
    "# Perform PCA if we create more features"
   ]
  },
  {
   "cell_type": "code",
   "execution_count": null,
   "metadata": {},
   "outputs": [],
   "source": [
    "# Support Vector Machines"
   ]
  },
  {
   "cell_type": "code",
   "execution_count": null,
   "metadata": {},
   "outputs": [],
   "source": []
  }
 ],
 "metadata": {
  "kernelspec": {
   "display_name": "Python 3",
   "language": "python",
   "name": "python3"
  },
  "language_info": {
   "codemirror_mode": {
    "name": "ipython",
    "version": 3
   },
   "file_extension": ".py",
   "mimetype": "text/x-python",
   "name": "python",
   "nbconvert_exporter": "python",
   "pygments_lexer": "ipython3",
   "version": "3.8.3"
  }
 },
 "nbformat": 4,
 "nbformat_minor": 4
}
