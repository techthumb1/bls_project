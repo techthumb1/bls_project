{
 "cells": [
  {
   "cell_type": "markdown",
   "metadata": {},
   "source": [
    "\n",
    "# Bureau of Labor and Statistics\n",
    "\n",
    "Consumer Price Index<br>\n",
    "Consumer Expenditure Survey\n"
   ]
  },
  {
   "cell_type": "markdown",
   "metadata": {},
   "source": [
    "\n",
    "## EDA"
   ]
  },
  {
   "cell_type": "code",
   "execution_count": 1,
   "metadata": {},
   "outputs": [],
   "source": [
    "# Import our libraries\n",
    "import pandas as pd\n",
    "import numpy as np\n",
    "import matplotlib.pyplot as plt\n",
    "import seaborn as sns\n",
    "import plotly.express as px"
   ]
  },
  {
   "cell_type": "markdown",
   "metadata": {},
   "source": [
    "\n",
    "<h2 id=\"moduleSubTitle\"> Consumer Price Index </h2>\n",
    "\n",
    "The Consumer Price Index (CPI) is a measure of the average change overtime in the prices paid by urban consumers for a market basket of consumer goods and services (BLS 2022).\n",
    "\n",
    "<h2 id=\"moduleSubTitle\"> CPI Market Basket </h2>\n",
    "\n",
    "**Shelter** is a major part of the market basket, and the two measures of price change for CPI are that of _Owners' equivalent rent of primary residence and Rent of primary residence_. The Market Basket consists of the daily consumption rate for goods and services.\n",
    "\n",
    "CPI data for rent collection is derived from a bi-annual schedule every 6 months from start date, allowing for a much larger sample. According to the CPI Housing Survey, \"The CPI divides each area’s rent sample into six sub-samples called _panels.\"_ The overall design of the survey is complex, and for the purpose of this small project we will limit deep exploration to grab a general understanding of the relationships.\n",
    "\n",
    "Using data from the Census, there are 87 different pricing areas, for which the CPI further sections off areas according to _segments_. **Segments** are determined using a stratified sampling of proportion approach to calculate the total spending for each segment.\n",
    "\n",
    "The samples are weighted for each housing unit and is relative the owner and renter's spending divided equally the sample units. A portion of the weight is applied to the owner, and a part to the renter.\n",
    "\n",
    "Ua,i\n",
    "αi,a,\n",
    "(1- αi,a)\n",
    "Ua,i"
   ]
  },
  {
   "cell_type": "markdown",
   "metadata": {},
   "source": [
    "\n",
    "### BLS Analysis\n"
   ]
  },
  {
   "cell_type": "code",
   "execution_count": 3,
   "metadata": {},
   "outputs": [],
   "source": [
    "# Load data\n",
    "\n",
    "export_mnth = pd.read_csv('/Users/jasonrobinson/Documents/Projects/bls_project/data/export_monthly.csv')\n",
    "import_mnth = pd.read_csv('/Users/jasonrobinson/Documents/Projects/bls_project/data/import_monthly.csv')\n",
    "midwest_cpi = pd.read_csv('/Users/jasonrobinson/Documents/Projects/bls_project/data/midwest-cpi.csv')\n",
    "emp_levels = pd.read_csv('/Users/jasonrobinson/Documents/Projects/bls_project/data/eployment_levels_seas.csv')\n",
    "labor_stats = pd.read_csv('/Users/jasonrobinson/Documents/Projects/bls_project/data/labor_force_stats.csv')\n",
    "emp_seas = pd.read_csv('/Users/jasonrobinson/Documents/Projects/bls_project/data/all_employees_seas.csv')\n",
    "mort_paid = pd.read_csv('/Users/jasonrobinson/Documents/Projects/bls_project/data/mortgage_principal_paid.csv')\n",
    "cpi_urban = pd.read_csv('/Users/jasonrobinson/Documents/Projects/bls_project/data/cpi_all_urban_cpiu.csv')\n",
    "ann_income = pd.read_csv('/Users/jasonrobinson/Documents/Projects/bls_project/data/annl_expend_income_all_units.csv')\n",
    "wages_age = pd.read_csv('/Users/jasonrobinson/Documents/Projects/bls_project/data/wages_salaries_age.csv')\n",
    "wages_occ = pd.read_csv('/Users/jasonrobinson/Documents/Projects/bls_project/data/wages_salaries_occupation.csv')\n",
    "wages_hours = pd.read_csv('/Users/jasonrobinson/Documents/Projects/bls_project/data/Employment, Hours, and Earnings...(National).csv')"
   ]
  },
  {
   "cell_type": "code",
   "execution_count": 4,
   "metadata": {},
   "outputs": [
    {
     "name": "stdout",
     "output_type": "stream",
     "text": [
      "\n",
      " Export Month: (121, 5) \n",
      " Import Month: (121, 5) \n",
      " Midwest CPI: (870, 5) \n",
      " Employee Levels: (121, 5) \n",
      " Labor Statistics: (145, 5) \n",
      " Employee Seasonal: (242, 5) \n",
      " Mortgage Paid: (121, 5) \n",
      " CPI Urban: (121, 5) \n",
      " Annual Income: (22, 5) \n",
      " Wages by Age: (22, 5) \n",
      " Wages by Occupation: (11, 5) \n",
      " Wages Hours: (363, 5)\n"
     ]
    }
   ],
   "source": [
    "# Let's take a look at the shape of our datasets\n",
    "# Group like shapes\n",
    "# Each of these datasets can represent our features in custom dataset\n",
    "print('\\n', 'Export Month:', export_mnth.shape, '\\n',\n",
    "      'Import Month:', import_mnth.shape,  '\\n', 'Midwest CPI:', midwest_cpi.shape,  '\\n',\n",
    "      'Employee Levels:', emp_levels.shape,  '\\n', 'Labor Statistics:', labor_stats.shape, '\\n',\n",
    "      'Employee Seasonal:', emp_seas.shape,  '\\n', 'Mortgage Paid:', mort_paid.shape,  '\\n', \n",
    "      'CPI Urban:', cpi_urban.shape, '\\n', 'Annual Income:', ann_income.shape,  '\\n', \n",
    "      'Wages by Age:', wages_age.shape,  '\\n', 'Wages by Occupation:', wages_occ.shape, '\\n',\n",
    "      'Wages Hours:', wages_hours.shape)"
   ]
  },
  {
   "cell_type": "code",
   "execution_count": 5,
   "metadata": {},
   "outputs": [
    {
     "data": {
      "text/html": [
       "<div>\n",
       "<style scoped>\n",
       "    .dataframe tbody tr th:only-of-type {\n",
       "        vertical-align: middle;\n",
       "    }\n",
       "\n",
       "    .dataframe tbody tr th {\n",
       "        vertical-align: top;\n",
       "    }\n",
       "\n",
       "    .dataframe thead th {\n",
       "        text-align: right;\n",
       "    }\n",
       "</style>\n",
       "<table border=\"1\" class=\"dataframe\">\n",
       "  <thead>\n",
       "    <tr style=\"text-align: right;\">\n",
       "      <th></th>\n",
       "      <th>Series ID</th>\n",
       "      <th>Year</th>\n",
       "      <th>Period</th>\n",
       "      <th>Label</th>\n",
       "      <th>Value</th>\n",
       "    </tr>\n",
       "  </thead>\n",
       "  <tbody>\n",
       "    <tr>\n",
       "      <th>0</th>\n",
       "      <td>CUUR0000SA0</td>\n",
       "      <td>2012</td>\n",
       "      <td>M01</td>\n",
       "      <td>2012 Jan</td>\n",
       "      <td>226.665</td>\n",
       "    </tr>\n",
       "    <tr>\n",
       "      <th>1</th>\n",
       "      <td>CUUR0000SA0</td>\n",
       "      <td>2012</td>\n",
       "      <td>M02</td>\n",
       "      <td>2012 Feb</td>\n",
       "      <td>227.663</td>\n",
       "    </tr>\n",
       "    <tr>\n",
       "      <th>2</th>\n",
       "      <td>CUUR0000SA0</td>\n",
       "      <td>2012</td>\n",
       "      <td>M03</td>\n",
       "      <td>2012 Mar</td>\n",
       "      <td>229.392</td>\n",
       "    </tr>\n",
       "    <tr>\n",
       "      <th>3</th>\n",
       "      <td>CUUR0000SA0</td>\n",
       "      <td>2012</td>\n",
       "      <td>M04</td>\n",
       "      <td>2012 Apr</td>\n",
       "      <td>230.085</td>\n",
       "    </tr>\n",
       "    <tr>\n",
       "      <th>4</th>\n",
       "      <td>CUUR0000SA0</td>\n",
       "      <td>2012</td>\n",
       "      <td>M05</td>\n",
       "      <td>2012 May</td>\n",
       "      <td>229.815</td>\n",
       "    </tr>\n",
       "  </tbody>\n",
       "</table>\n",
       "</div>"
      ],
      "text/plain": [
       "     Series ID  Year Period     Label    Value\n",
       "0  CUUR0000SA0  2012    M01  2012 Jan  226.665\n",
       "1  CUUR0000SA0  2012    M02  2012 Feb  227.663\n",
       "2  CUUR0000SA0  2012    M03  2012 Mar  229.392\n",
       "3  CUUR0000SA0  2012    M04  2012 Apr  230.085\n",
       "4  CUUR0000SA0  2012    M05  2012 May  229.815"
      ]
     },
     "execution_count": 5,
     "metadata": {},
     "output_type": "execute_result"
    }
   ],
   "source": [
    "# Consumer spending on goods and services\n",
    "# Same as cpi in CPI Model Training\n",
    "cpi_urban.head()"
   ]
  },
  {
   "cell_type": "code",
   "execution_count": 6,
   "metadata": {},
   "outputs": [
    {
     "data": {
      "text/html": [
       "<div>\n",
       "<style scoped>\n",
       "    .dataframe tbody tr th:only-of-type {\n",
       "        vertical-align: middle;\n",
       "    }\n",
       "\n",
       "    .dataframe tbody tr th {\n",
       "        vertical-align: top;\n",
       "    }\n",
       "\n",
       "    .dataframe thead th {\n",
       "        text-align: right;\n",
       "    }\n",
       "</style>\n",
       "<table border=\"1\" class=\"dataframe\">\n",
       "  <thead>\n",
       "    <tr style=\"text-align: right;\">\n",
       "      <th></th>\n",
       "      <th>Series ID</th>\n",
       "      <th>Year</th>\n",
       "      <th>Period</th>\n",
       "      <th>Label</th>\n",
       "      <th>Value</th>\n",
       "    </tr>\n",
       "  </thead>\n",
       "  <tbody>\n",
       "    <tr>\n",
       "      <th>0</th>\n",
       "      <td>LNS12000000</td>\n",
       "      <td>2012</td>\n",
       "      <td>M01</td>\n",
       "      <td>2012 Jan</td>\n",
       "      <td>141584</td>\n",
       "    </tr>\n",
       "    <tr>\n",
       "      <th>1</th>\n",
       "      <td>LNS12000000</td>\n",
       "      <td>2012</td>\n",
       "      <td>M02</td>\n",
       "      <td>2012 Feb</td>\n",
       "      <td>141858</td>\n",
       "    </tr>\n",
       "    <tr>\n",
       "      <th>2</th>\n",
       "      <td>LNS12000000</td>\n",
       "      <td>2012</td>\n",
       "      <td>M03</td>\n",
       "      <td>2012 Mar</td>\n",
       "      <td>142036</td>\n",
       "    </tr>\n",
       "    <tr>\n",
       "      <th>3</th>\n",
       "      <td>LNS12000000</td>\n",
       "      <td>2012</td>\n",
       "      <td>M04</td>\n",
       "      <td>2012 Apr</td>\n",
       "      <td>141899</td>\n",
       "    </tr>\n",
       "    <tr>\n",
       "      <th>4</th>\n",
       "      <td>LNS12000000</td>\n",
       "      <td>2012</td>\n",
       "      <td>M05</td>\n",
       "      <td>2012 May</td>\n",
       "      <td>142206</td>\n",
       "    </tr>\n",
       "  </tbody>\n",
       "</table>\n",
       "</div>"
      ],
      "text/plain": [
       "     Series ID  Year Period     Label   Value\n",
       "0  LNS12000000  2012    M01  2012 Jan  141584\n",
       "1  LNS12000000  2012    M02  2012 Feb  141858\n",
       "2  LNS12000000  2012    M03  2012 Mar  142036\n",
       "3  LNS12000000  2012    M04  2012 Apr  141899\n",
       "4  LNS12000000  2012    M05  2012 May  142206"
      ]
     },
     "execution_count": 6,
     "metadata": {},
     "output_type": "execute_result"
    }
   ],
   "source": [
    "emp_levels.head()"
   ]
  },
  {
   "cell_type": "code",
   "execution_count": 7,
   "metadata": {},
   "outputs": [
    {
     "data": {
      "text/html": [
       "<div>\n",
       "<style scoped>\n",
       "    .dataframe tbody tr th:only-of-type {\n",
       "        vertical-align: middle;\n",
       "    }\n",
       "\n",
       "    .dataframe tbody tr th {\n",
       "        vertical-align: top;\n",
       "    }\n",
       "\n",
       "    .dataframe thead th {\n",
       "        text-align: right;\n",
       "    }\n",
       "</style>\n",
       "<table border=\"1\" class=\"dataframe\">\n",
       "  <thead>\n",
       "    <tr style=\"text-align: right;\">\n",
       "      <th></th>\n",
       "      <th>Series ID</th>\n",
       "      <th>Year</th>\n",
       "      <th>Period</th>\n",
       "      <th>Label</th>\n",
       "      <th>Value</th>\n",
       "    </tr>\n",
       "  </thead>\n",
       "  <tbody>\n",
       "    <tr>\n",
       "      <th>0</th>\n",
       "      <td>CUUR0000SA0</td>\n",
       "      <td>2012</td>\n",
       "      <td>M01</td>\n",
       "      <td>2012 Jan</td>\n",
       "      <td>226.665</td>\n",
       "    </tr>\n",
       "    <tr>\n",
       "      <th>1</th>\n",
       "      <td>CUUR0000SA0</td>\n",
       "      <td>2012</td>\n",
       "      <td>M02</td>\n",
       "      <td>2012 Feb</td>\n",
       "      <td>227.663</td>\n",
       "    </tr>\n",
       "    <tr>\n",
       "      <th>2</th>\n",
       "      <td>CUUR0000SA0</td>\n",
       "      <td>2012</td>\n",
       "      <td>M03</td>\n",
       "      <td>2012 Mar</td>\n",
       "      <td>229.392</td>\n",
       "    </tr>\n",
       "    <tr>\n",
       "      <th>3</th>\n",
       "      <td>CUUR0000SA0</td>\n",
       "      <td>2012</td>\n",
       "      <td>M04</td>\n",
       "      <td>2012 Apr</td>\n",
       "      <td>230.085</td>\n",
       "    </tr>\n",
       "    <tr>\n",
       "      <th>4</th>\n",
       "      <td>CUUR0000SA0</td>\n",
       "      <td>2012</td>\n",
       "      <td>M05</td>\n",
       "      <td>2012 May</td>\n",
       "      <td>229.815</td>\n",
       "    </tr>\n",
       "  </tbody>\n",
       "</table>\n",
       "</div>"
      ],
      "text/plain": [
       "     Series ID  Year Period     Label    Value\n",
       "0  CUUR0000SA0  2012    M01  2012 Jan  226.665\n",
       "1  CUUR0000SA0  2012    M02  2012 Feb  227.663\n",
       "2  CUUR0000SA0  2012    M03  2012 Mar  229.392\n",
       "3  CUUR0000SA0  2012    M04  2012 Apr  230.085\n",
       "4  CUUR0000SA0  2012    M05  2012 May  229.815"
      ]
     },
     "execution_count": 7,
     "metadata": {},
     "output_type": "execute_result"
    }
   ],
   "source": [
    "mort_paid.head()"
   ]
  },
  {
   "cell_type": "code",
   "execution_count": 8,
   "metadata": {},
   "outputs": [
    {
     "data": {
      "text/html": [
       "<div>\n",
       "<style scoped>\n",
       "    .dataframe tbody tr th:only-of-type {\n",
       "        vertical-align: middle;\n",
       "    }\n",
       "\n",
       "    .dataframe tbody tr th {\n",
       "        vertical-align: top;\n",
       "    }\n",
       "\n",
       "    .dataframe thead th {\n",
       "        text-align: right;\n",
       "    }\n",
       "</style>\n",
       "<table border=\"1\" class=\"dataframe\">\n",
       "  <thead>\n",
       "    <tr style=\"text-align: right;\">\n",
       "      <th></th>\n",
       "      <th>Series ID</th>\n",
       "      <th>Year</th>\n",
       "      <th>Period</th>\n",
       "      <th>Label</th>\n",
       "      <th>Value</th>\n",
       "    </tr>\n",
       "  </thead>\n",
       "  <tbody>\n",
       "    <tr>\n",
       "      <th>0</th>\n",
       "      <td>CXU900000LB0401M</td>\n",
       "      <td>2010</td>\n",
       "      <td>A01</td>\n",
       "      <td>2010 Annual</td>\n",
       "      <td>49568</td>\n",
       "    </tr>\n",
       "    <tr>\n",
       "      <th>1</th>\n",
       "      <td>CXU900000LB0401M</td>\n",
       "      <td>2011</td>\n",
       "      <td>A01</td>\n",
       "      <td>2011 Annual</td>\n",
       "      <td>49805</td>\n",
       "    </tr>\n",
       "    <tr>\n",
       "      <th>2</th>\n",
       "      <td>CXU900000LB0401M</td>\n",
       "      <td>2012</td>\n",
       "      <td>A01</td>\n",
       "      <td>2012 Annual</td>\n",
       "      <td>51730</td>\n",
       "    </tr>\n",
       "    <tr>\n",
       "      <th>3</th>\n",
       "      <td>CXU900000LB0401M</td>\n",
       "      <td>2013</td>\n",
       "      <td>A01</td>\n",
       "      <td>2013 Annual</td>\n",
       "      <td>50168</td>\n",
       "    </tr>\n",
       "    <tr>\n",
       "      <th>4</th>\n",
       "      <td>CXU900000LB0401M</td>\n",
       "      <td>2014</td>\n",
       "      <td>A01</td>\n",
       "      <td>2014 Annual</td>\n",
       "      <td>51889</td>\n",
       "    </tr>\n",
       "  </tbody>\n",
       "</table>\n",
       "</div>"
      ],
      "text/plain": [
       "          Series ID  Year Period        Label  Value\n",
       "0  CXU900000LB0401M  2010    A01  2010 Annual  49568\n",
       "1  CXU900000LB0401M  2011    A01  2011 Annual  49805\n",
       "2  CXU900000LB0401M  2012    A01  2012 Annual  51730\n",
       "3  CXU900000LB0401M  2013    A01  2013 Annual  50168\n",
       "4  CXU900000LB0401M  2014    A01  2014 Annual  51889"
      ]
     },
     "execution_count": 8,
     "metadata": {},
     "output_type": "execute_result"
    }
   ],
   "source": [
    "wages_age.head()"
   ]
  },
  {
   "cell_type": "code",
   "execution_count": 178,
   "metadata": {},
   "outputs": [
    {
     "data": {
      "image/png": "[encoded data removed]",
      "text/plain": [
       "<Figure size 432x288 with 1 Axes>"
      ]
     },
     "metadata": {
      "needs_background": "light"
     },
     "output_type": "display_data"
    }
   ],
   "source": [
    "# \n",
    "sns.lineplot(wages_age['Year'], wages_age['Value']);"
   ]
  },
  {
   "cell_type": "markdown",
   "metadata": {},
   "source": []
  },
  {
   "cell_type": "code",
   "execution_count": 184,
   "metadata": {},
   "outputs": [],
   "source": [
    "merged_bls = pd.concat(\n",
    "                map(pd.read_csv, [\n",
    "                '/Users/jasonrobinson/Documents/Projects/bls_project/data/export_monthly.csv',\n",
    "                '/Users/jasonrobinson/Documents/Projects/bls_project/data/import_monthly.csv',\n",
    "                '/Users/jasonrobinson/Documents/Projects/bls_project/data/midwest-cpi.csv',\n",
    "                '/Users/jasonrobinson/Documents/Projects/bls_project/data/eployment_levels_seas.csv',\n",
    "                '/Users/jasonrobinson/Documents/Projects/bls_project/data/labor_force_stats.csv',\n",
    "                '/Users/jasonrobinson/Documents/Projects/bls_project/data/all_employees_seas.csv',\n",
    "                '/Users/jasonrobinson/Documents/Projects/bls_project/data/mortgage_principal_paid.csv',\n",
    "                '/Users/jasonrobinson/Documents/Projects/bls_project/data/cpi_all_urban_cpiu.csv',\n",
    "                '/Users/jasonrobinson/Documents/Projects/bls_project/data/annl_expend_income_all_units.csv',\n",
    "                '/Users/jasonrobinson/Documents/Projects/bls_project/data/wages_salaries_age.csv',\n",
    "                '/Users/jasonrobinson/Documents/Projects/bls_project/data/wages_salaries_occupation.csv',\n",
    "                '/Users/jasonrobinson/Documents/Projects/bls_project/data/Employment, Hours, and Earnings...(National).csv'\n",
    "                ]),ignore_index=True)"
   ]
  },
  {
   "cell_type": "code",
   "execution_count": 185,
   "metadata": {},
   "outputs": [
    {
     "data": {
      "text/html": [
       "<div>\n",
       "<style scoped>\n",
       "    .dataframe tbody tr th:only-of-type {\n",
       "        vertical-align: middle;\n",
       "    }\n",
       "\n",
       "    .dataframe tbody tr th {\n",
       "        vertical-align: top;\n",
       "    }\n",
       "\n",
       "    .dataframe thead th {\n",
       "        text-align: right;\n",
       "    }\n",
       "</style>\n",
       "<table border=\"1\" class=\"dataframe\">\n",
       "  <thead>\n",
       "    <tr style=\"text-align: right;\">\n",
       "      <th></th>\n",
       "      <th>0</th>\n",
       "      <th>1</th>\n",
       "      <th>2</th>\n",
       "      <th>3</th>\n",
       "      <th>4</th>\n",
       "    </tr>\n",
       "  </thead>\n",
       "  <tbody>\n",
       "    <tr>\n",
       "      <th>Series ID</th>\n",
       "      <td>EIUIQ</td>\n",
       "      <td>EIUIQ</td>\n",
       "      <td>EIUIQ</td>\n",
       "      <td>EIUIQ</td>\n",
       "      <td>EIUIQ</td>\n",
       "    </tr>\n",
       "    <tr>\n",
       "      <th>Year</th>\n",
       "      <td>2012</td>\n",
       "      <td>2012</td>\n",
       "      <td>2012</td>\n",
       "      <td>2012</td>\n",
       "      <td>2012</td>\n",
       "    </tr>\n",
       "    <tr>\n",
       "      <th>Period</th>\n",
       "      <td>M01</td>\n",
       "      <td>M02</td>\n",
       "      <td>M03</td>\n",
       "      <td>M04</td>\n",
       "      <td>M05</td>\n",
       "    </tr>\n",
       "    <tr>\n",
       "      <th>Label</th>\n",
       "      <td>2012 Jan</td>\n",
       "      <td>2012 Feb</td>\n",
       "      <td>2012 Mar</td>\n",
       "      <td>2012 Apr</td>\n",
       "      <td>2012 May</td>\n",
       "    </tr>\n",
       "    <tr>\n",
       "      <th>Value</th>\n",
       "      <td>132.5</td>\n",
       "      <td>133.1</td>\n",
       "      <td>134.1</td>\n",
       "      <td>134.7</td>\n",
       "      <td>134</td>\n",
       "    </tr>\n",
       "  </tbody>\n",
       "</table>\n",
       "</div>"
      ],
      "text/plain": [
       "                  0         1         2         3         4\n",
       "Series ID     EIUIQ     EIUIQ     EIUIQ     EIUIQ     EIUIQ\n",
       "Year           2012      2012      2012      2012      2012\n",
       "Period          M01       M02       M03       M04       M05\n",
       "Label      2012 Jan  2012 Feb  2012 Mar  2012 Apr  2012 May\n",
       "Value         132.5     133.1     134.1     134.7       134"
      ]
     },
     "execution_count": 185,
     "metadata": {},
     "output_type": "execute_result"
    }
   ],
   "source": [
    "#print(merged_bls.shape)\n",
    "merged_bls=merged_bls.head().T\n",
    "merged_bls"
   ]
  },
  {
   "cell_type": "code",
   "execution_count": null,
   "metadata": {},
   "outputs": [],
   "source": [
    "# Rename headers\n",
    "bls_clean = merged_bls.drop(merged_bls[:0], axis=0)\n",
    "bls_clean"
   ]
  },
  {
   "cell_type": "code",
   "execution_count": 181,
   "metadata": {},
   "outputs": [],
   "source": [
    "# Look at our unique values for series id\n",
    "#merged_bls['Series ID'].unique()"
   ]
  },
  {
   "cell_type": "code",
   "execution_count": 182,
   "metadata": {},
   "outputs": [
    {
     "data": {
      "text/html": [
       "<div>\n",
       "<style scoped>\n",
       "    .dataframe tbody tr th:only-of-type {\n",
       "        vertical-align: middle;\n",
       "    }\n",
       "\n",
       "    .dataframe tbody tr th {\n",
       "        vertical-align: top;\n",
       "    }\n",
       "\n",
       "    .dataframe thead th {\n",
       "        text-align: right;\n",
       "    }\n",
       "</style>\n",
       "<table border=\"1\" class=\"dataframe\">\n",
       "  <thead>\n",
       "    <tr style=\"text-align: right;\">\n",
       "      <th></th>\n",
       "      <th>Year</th>\n",
       "      <th>Value</th>\n",
       "    </tr>\n",
       "  </thead>\n",
       "  <tbody>\n",
       "    <tr>\n",
       "      <th>count</th>\n",
       "      <td>870.000000</td>\n",
       "      <td>870.000000</td>\n",
       "    </tr>\n",
       "    <tr>\n",
       "      <th>mean</th>\n",
       "      <td>2015.544828</td>\n",
       "      <td>137.076269</td>\n",
       "    </tr>\n",
       "    <tr>\n",
       "      <th>std</th>\n",
       "      <td>3.483935</td>\n",
       "      <td>52.541142</td>\n",
       "    </tr>\n",
       "    <tr>\n",
       "      <th>min</th>\n",
       "      <td>2010.000000</td>\n",
       "      <td>77.400000</td>\n",
       "    </tr>\n",
       "    <tr>\n",
       "      <th>25%</th>\n",
       "      <td>2013.000000</td>\n",
       "      <td>90.851000</td>\n",
       "    </tr>\n",
       "    <tr>\n",
       "      <th>50%</th>\n",
       "      <td>2016.000000</td>\n",
       "      <td>131.733000</td>\n",
       "    </tr>\n",
       "    <tr>\n",
       "      <th>75%</th>\n",
       "      <td>2019.000000</td>\n",
       "      <td>141.703500</td>\n",
       "    </tr>\n",
       "    <tr>\n",
       "      <th>max</th>\n",
       "      <td>2022.000000</td>\n",
       "      <td>281.148000</td>\n",
       "    </tr>\n",
       "  </tbody>\n",
       "</table>\n",
       "</div>"
      ],
      "text/plain": [
       "              Year       Value\n",
       "count   870.000000  870.000000\n",
       "mean   2015.544828  137.076269\n",
       "std       3.483935   52.541142\n",
       "min    2010.000000   77.400000\n",
       "25%    2013.000000   90.851000\n",
       "50%    2016.000000  131.733000\n",
       "75%    2019.000000  141.703500\n",
       "max    2022.000000  281.148000"
      ]
     },
     "execution_count": 182,
     "metadata": {},
     "output_type": "execute_result"
    }
   ],
   "source": [
    "# wide distribution or variance?\n",
    "midwest_cpi.describe()"
   ]
  },
  {
   "cell_type": "code",
   "execution_count": 183,
   "metadata": {},
   "outputs": [],
   "source": [
    "def pathFinder():\n",
    "    \"\"\"\n",
    "    Create a funtion that will iterate through the datasets and combine\n",
    "    or join datasets\n",
    "    \n",
    "    Params:\n",
    "    \n",
    "    Returns:\n",
    "    \"\"\"\n",
    "    pass"
   ]
  },
  {
   "cell_type": "code",
   "execution_count": null,
   "metadata": {},
   "outputs": [],
   "source": [
    "print(export.shape)\n",
    "export.head()"
   ]
  },
  {
   "cell_type": "code",
   "execution_count": null,
   "metadata": {},
   "outputs": [],
   "source": [
    "import_monthly.describe()"
   ]
  },
  {
   "cell_type": "code",
   "execution_count": null,
   "metadata": {},
   "outputs": [],
   "source": [
    "export.describe()"
   ]
  },
  {
   "cell_type": "code",
   "execution_count": null,
   "metadata": {},
   "outputs": [],
   "source": []
  },
  {
   "cell_type": "code",
   "execution_count": null,
   "metadata": {},
   "outputs": [],
   "source": []
  },
  {
   "cell_type": "code",
   "execution_count": null,
   "metadata": {},
   "outputs": [],
   "source": [
    "cpi.head()"
   ]
  },
  {
   "cell_type": "code",
   "execution_count": null,
   "metadata": {},
   "outputs": [],
   "source": [
    "curr_emp.head()"
   ]
  },
  {
   "cell_type": "code",
   "execution_count": null,
   "metadata": {},
   "outputs": [],
   "source": [
    "wages_hours.head()"
   ]
  },
  {
   "cell_type": "code",
   "execution_count": null,
   "metadata": {},
   "outputs": [],
   "source": [
    "print('ppi_commodity Shape', ppi_commodity.shape)\n",
    "print('consumer_pi Shape', consumer_pi.shape)\n",
    "print('current_employment Shape', current_employment.shape)\n",
    "print('wages_hours Shape', wages_hours.shape)      "
   ]
  },
  {
   "cell_type": "code",
   "execution_count": null,
   "metadata": {},
   "outputs": [],
   "source": [
    "# Consumer spending in the midwest\n",
    "sns.lineplot(midwest_cpi['Year'], midwest_cpi['Value']);"
   ]
  },
  {
   "cell_type": "code",
   "execution_count": null,
   "metadata": {},
   "outputs": [],
   "source": [
    "sns.lineplot(cpi['Year'], cpi['Value']);"
   ]
  },
  {
   "cell_type": "code",
   "execution_count": null,
   "metadata": {},
   "outputs": [],
   "source": [
    "sns.lineplot(wages_hours['Year'], wages_hours['Value']);"
   ]
  },
  {
   "cell_type": "code",
   "execution_count": null,
   "metadata": {},
   "outputs": [],
   "source": [
    "sns.lineplot(cpi['Year'], cpi['Value']);"
   ]
  },
  {
   "cell_type": "code",
   "execution_count": null,
   "metadata": {},
   "outputs": [],
   "source": [
    "sns.lineplot(ceu['Year'], ceu['Value']);"
   ]
  },
  {
   "cell_type": "code",
   "execution_count": null,
   "metadata": {},
   "outputs": [],
   "source": [
    "sns.lineplot(ppi['Year'], ppi['Value']);"
   ]
  },
  {
   "cell_type": "code",
   "execution_count": null,
   "metadata": {},
   "outputs": [],
   "source": [
    "ppi_commodity = ppi_commodity[3][1:122]"
   ]
  },
  {
   "cell_type": "code",
   "execution_count": null,
   "metadata": {},
   "outputs": [],
   "source": [
    "ppi_commodity"
   ]
  },
  {
   "cell_type": "code",
   "execution_count": null,
   "metadata": {},
   "outputs": [],
   "source": [
    "for i in range(len(ppi_commodity)):\n",
    "    vect = ppi_commodity[i]\n",
    "    print(vect)"
   ]
  },
  {
   "cell_type": "markdown",
   "metadata": {},
   "source": [
    "\n",
    "## Notes\n",
    "\n",
    "Understand the source of where the data is coming from. If Census, account for the error or disparity in under representative populations.\n",
    "\n",
    "- Around 14,500 families are surveyed by phone for TPOPS (Telephone Point-of-Purchase Survey)?\n",
    "\n",
    "Does not seem representative, will determine after anaysis."
   ]
  },
  {
   "cell_type": "markdown",
   "metadata": {},
   "source": [
    "\n",
    "## Current Population Survey\n",
    "\n",
    "The Current Population Survey (CPS) is a monthly survey of households conducted by the Bureau of Census for the Bureau of Labor Statistics. It provides a comprehensive body of data on the [labor force](https://www.bls.gov/cps/lfcharacteristics.htm#laborforce), [employment](https://www.bls.gov/cps/lfcharacteristics.htm#emp), [unemployment](https://www.bls.gov/cps/lfcharacteristics.htm#unemp), persons [not in the labor force](https://www.bls.gov/cps/lfcharacteristics.htm#nlf), [hours of work](https://www.bls.gov/cps/lfcharacteristics.htm#hours), [earnings](https://www.bls.gov/cps/earnings.htm), and other [demographic](https://www.bls.gov/cps/demographics.htm) and[ labor force characteristics](https://www.bls.gov/cps/lfcharacteristics.htm).\n",
    "\n",
    "#### CPS Databases include:\n",
    "- **Labor Force Statistics**\n",
    "- **Weekly and Hourly Earnings**\n",
    "- **Union Affiliation Data** - (Not included in this analysis)\n",
    "- **Marital and Family Labor Statistics** - (Not included in this analysis)"
   ]
  },
  {
   "cell_type": "code",
   "execution_count": 1,
   "metadata": {},
   "outputs": [],
   "source": [
    "\"\"\"\n",
    "For the labor force stats we will examiine the following areas of the \n",
    "labor force: \n",
    "                ***All are Seasonly Adjusted***\n",
    "                \n",
    "Unemployment Rate, Labor Force Participation Rate,\n",
    "Employment Level , Unemployment Level, Unemployment Rate -Black,\n",
    "Labor Force Participation Rate - Men 20+, Unemployment White, \n",
    "Unemployment Asian, Labor Force Participation Rate - Women 20+,\n",
    "Unemployment Rate - 20 yrs. & over, Men, Unemployment Rate - Hispanic or Latino,\n",
    "Employment-Population Ratio, Not in Labor Force, Employment-Population Ratio-25-54yrs,\n",
    "Labor Force Participation Rate - 25-54 yrs.\n",
    "\n",
    "\"\"\"\n",
    "def seasonality():\n",
    "    pass"
   ]
  },
  {
   "cell_type": "code",
   "execution_count": null,
   "metadata": {},
   "outputs": [],
   "source": [
    "#df = pd.read_csv('/Users/jasonrobinson/Documents/Projects/bls_project/data/cpi_analysis_22.csv')\n",
    "#print(df.shape)\n",
    "#df.head()"
   ]
  },
  {
   "cell_type": "markdown",
   "metadata": {},
   "source": [
    "\n",
    "#### HOUSEHOLD DATA\n",
    "\n",
    "ANNUAL AVERAGES\n",
    "Employment status of the civilian noninstitutional population, 1951 to date [Numbers in thousands]"
   ]
  },
  {
   "cell_type": "code",
   "execution_count": 4,
   "metadata": {},
   "outputs": [
    {
     "name": "stdout",
     "output_type": "stream",
     "text": [
      "(68, 13)\n"
     ]
    },
    {
     "data": {
      "text/html": [
       "<div>\n",
       "<style scoped>\n",
       "    .dataframe tbody tr th:only-of-type {\n",
       "        vertical-align: middle;\n",
       "    }\n",
       "\n",
       "    .dataframe tbody tr th {\n",
       "        vertical-align: top;\n",
       "    }\n",
       "\n",
       "    .dataframe thead th {\n",
       "        text-align: right;\n",
       "    }\n",
       "</style>\n",
       "<table border=\"1\" class=\"dataframe\">\n",
       "  <thead>\n",
       "    <tr style=\"text-align: right;\">\n",
       "      <th></th>\n",
       "      <th>1954</th>\n",
       "      <th>27.1</th>\n",
       "      <th>27.1.1</th>\n",
       "      <th>27</th>\n",
       "      <th>27.1</th>\n",
       "      <th>27.1.2</th>\n",
       "      <th>27.1.3</th>\n",
       "      <th>27.1.4</th>\n",
       "      <th>27.1.5</th>\n",
       "      <th>27.2</th>\n",
       "      <th>26.9</th>\n",
       "      <th>27.3</th>\n",
       "      <th>26.9.1</th>\n",
       "    </tr>\n",
       "  </thead>\n",
       "  <tbody>\n",
       "    <tr>\n",
       "      <th>0</th>\n",
       "      <td>1955</td>\n",
       "      <td>26.9</td>\n",
       "      <td>26.9</td>\n",
       "      <td>26.9</td>\n",
       "      <td>26.9</td>\n",
       "      <td>26.9</td>\n",
       "      <td>26.9</td>\n",
       "      <td>27.0</td>\n",
       "      <td>26.9</td>\n",
       "      <td>27.0</td>\n",
       "      <td>27.0</td>\n",
       "      <td>27.1</td>\n",
       "      <td>27.0</td>\n",
       "    </tr>\n",
       "    <tr>\n",
       "      <th>1</th>\n",
       "      <td>1956</td>\n",
       "      <td>27.0</td>\n",
       "      <td>27.0</td>\n",
       "      <td>27.0</td>\n",
       "      <td>27.0</td>\n",
       "      <td>27.2</td>\n",
       "      <td>27.3</td>\n",
       "      <td>27.5</td>\n",
       "      <td>27.5</td>\n",
       "      <td>27.5</td>\n",
       "      <td>27.7</td>\n",
       "      <td>27.7</td>\n",
       "      <td>27.8</td>\n",
       "    </tr>\n",
       "    <tr>\n",
       "      <th>2</th>\n",
       "      <td>1957</td>\n",
       "      <td>27.8</td>\n",
       "      <td>27.9</td>\n",
       "      <td>28.0</td>\n",
       "      <td>28.1</td>\n",
       "      <td>28.1</td>\n",
       "      <td>28.3</td>\n",
       "      <td>28.4</td>\n",
       "      <td>28.5</td>\n",
       "      <td>28.5</td>\n",
       "      <td>28.5</td>\n",
       "      <td>28.6</td>\n",
       "      <td>28.6</td>\n",
       "    </tr>\n",
       "    <tr>\n",
       "      <th>3</th>\n",
       "      <td>1958</td>\n",
       "      <td>28.8</td>\n",
       "      <td>28.8</td>\n",
       "      <td>29.0</td>\n",
       "      <td>29.1</td>\n",
       "      <td>29.1</td>\n",
       "      <td>29.1</td>\n",
       "      <td>29.1</td>\n",
       "      <td>29.1</td>\n",
       "      <td>29.1</td>\n",
       "      <td>29.1</td>\n",
       "      <td>29.1</td>\n",
       "      <td>29.1</td>\n",
       "    </tr>\n",
       "    <tr>\n",
       "      <th>4</th>\n",
       "      <td>1959</td>\n",
       "      <td>29.1</td>\n",
       "      <td>29.1</td>\n",
       "      <td>29.1</td>\n",
       "      <td>29.1</td>\n",
       "      <td>29.2</td>\n",
       "      <td>29.3</td>\n",
       "      <td>29.4</td>\n",
       "      <td>29.3</td>\n",
       "      <td>29.4</td>\n",
       "      <td>29.5</td>\n",
       "      <td>29.5</td>\n",
       "      <td>29.5</td>\n",
       "    </tr>\n",
       "  </tbody>\n",
       "</table>\n",
       "</div>"
      ],
      "text/plain": [
       "   1954  27.1  27.1.1    27  27.1  27.1.2  27.1.3  27.1.4  27.1.5  27.2  26.9  \\\n",
       "0  1955  26.9    26.9  26.9  26.9    26.9    26.9    27.0    26.9  27.0  27.0   \n",
       "1  1956  27.0    27.0  27.0  27.0    27.2    27.3    27.5    27.5  27.5  27.7   \n",
       "2  1957  27.8    27.9  28.0  28.1    28.1    28.3    28.4    28.5  28.5  28.5   \n",
       "3  1958  28.8    28.8  29.0  29.1    29.1    29.1    29.1    29.1  29.1  29.1   \n",
       "4  1959  29.1    29.1  29.1  29.1    29.2    29.3    29.4    29.3  29.4  29.5   \n",
       "\n",
       "   27.3  26.9.1  \n",
       "0  27.1    27.0  \n",
       "1  27.7    27.8  \n",
       "2  28.6    28.6  \n",
       "3  29.1    29.1  \n",
       "4  29.5    29.5  "
      ]
     },
     "execution_count": 4,
     "metadata": {},
     "output_type": "execute_result"
    }
   ],
   "source": [
    "# Labor force statistics form the current population survey\n",
    "labor_force = pd.read_excel('/Users/jasonrobinson/Documents/Projects/bls_project/data_2/SeriesReport-cpi-urbwage-notadj.48.xlsx', skiprows=7)\n",
    "print(labor_force.shape)\n",
    "labor_force.head()"
   ]
  },
  {
   "cell_type": "code",
   "execution_count": null,
   "metadata": {},
   "outputs": [],
   "source": [
    "labor_force['Unnamed: 1']"
   ]
  },
  {
   "cell_type": "code",
   "execution_count": null,
   "metadata": {},
   "outputs": [],
   "source": [
    "# Make some headers for our Unnamed columns \n",
    "dict = {}\n",
    "for i in range(len(labor_force)):\n",
    "    print(labor_force[0])"
   ]
  },
  {
   "cell_type": "code",
   "execution_count": null,
   "metadata": {},
   "outputs": [],
   "source": [
    "df['Series ID']"
   ]
  },
  {
   "cell_type": "markdown",
   "metadata": {},
   "source": [
    "\n",
    "<h3 id=\"moduleTitle\"> Consumer Expenditure Survey </h3>"
   ]
  },
  {
   "cell_type": "code",
   "execution_count": null,
   "metadata": {},
   "outputs": [],
   "source": []
  },
  {
   "cell_type": "markdown",
   "metadata": {},
   "source": [
    "\n",
    "<h4 id=\"moduleSubTitle\"> Weekly and hourly earnings data from the Current Population Survey </h4>\n",
    "\n",
    "Hourly wages and salary workers consists of two groups with the highest wages, but also with the greatest level of variability.\n"
   ]
  },
  {
   "cell_type": "markdown",
   "metadata": {},
   "source": [
    "\n",
    "### Resources\n",
    "\n",
    "[Weekly and hourly earnings data from the Current Population Survey](https://beta.bls.gov/dataViewer/view)\n",
    "\n",
    "[Consumer Expenditure Survey](https://beta.bls.gov/dataQuery/find?fq=survey:[cx]&s=popularity:D&r=100&st=0)\n",
    "\n",
    "[Price and Index Number Research](https://www.bls.gov/pir/)\n",
    "\n",
    "[Import/Export Price Indexes](https://beta.bls.gov/dataQuery/find?fq=survey:%5Bei%5D&s=popularity:D)\n",
    "\n",
    "[Consumer Price Index](https://www.bls.gov/cpi/overview.htm)\n",
    "\n",
    "[Producer Price Indexes](https://www.bls.gov/ppi/)\n",
    "\n",
    "[CPI-UNADJ](https://beta.bls.gov/dataQuery/find?st=0&r=20&q=cpi&more=0)"
   ]
  },
  {
   "cell_type": "code",
   "execution_count": null,
   "metadata": {},
   "outputs": [],
   "source": [
    "emp_cost = 'https://download.bls.gov/pub/time.series/ci/'"
   ]
  },
  {
   "cell_type": "code",
   "execution_count": null,
   "metadata": {},
   "outputs": [],
   "source": [
    "import pandas as pd\n",
    "ci_data =  'https://download.bls.gov/pub/time.series/ci/ci.data.1.AllData'\n",
    "df = pd.read_csv(ci_data, delimiter=' ')\n",
    "print(df.shape)\n",
    "df.sample(10)"
   ]
  },
  {
   "cell_type": "code",
   "execution_count": null,
   "metadata": {},
   "outputs": [],
   "source": [
    "\n",
    "import pandas as pd\n",
    "ci_data =  'https://download.bls.gov/pub/time.series/ci/ci.data.1.AllData'\n",
    "df = pd.read_csv(ci_data, sep=',', index_col=0, dtype=str, \n",
    "                 header=0, thousands=',', delim_whitespace=True)\n",
    "\n",
    "\"\"\"\n",
    "96000+ rows will make for good training model \n",
    "Attempt to gather more data similar to the shape of (train[40], val[25], test[25])\n",
    "Regression model\n",
    "PCA\n",
    "\"\"\"\n",
    "print(df.shape)\n",
    "df.sample(10)"
   ]
  },
  {
   "cell_type": "code",
   "execution_count": null,
   "metadata": {},
   "outputs": [],
   "source": [
    "df.isnull().sum()"
   ]
  },
  {
   "cell_type": "code",
   "execution_count": null,
   "metadata": {},
   "outputs": [],
   "source": [
    "cpiu = pd.read_csv('/Users/jasonrobinson/Documents/Projects/bls_project/data/cpi_urban_consumer.csv', sep=',')\n",
    "cpiu.sample(10)"
   ]
  },
  {
   "cell_type": "code",
   "execution_count": null,
   "metadata": {},
   "outputs": [],
   "source": [
    "cpiu.shape"
   ]
  },
  {
   "cell_type": "code",
   "execution_count": null,
   "metadata": {},
   "outputs": [],
   "source": [
    "cpiu = cpiu.drop(['HALF1', 'HALF2'], axis=1)"
   ]
  },
  {
   "cell_type": "code",
   "execution_count": null,
   "metadata": {},
   "outputs": [],
   "source": [
    "cpiu.describe()"
   ]
  },
  {
   "cell_type": "code",
   "execution_count": null,
   "metadata": {},
   "outputs": [],
   "source": [
    "cpiu.var()"
   ]
  },
  {
   "cell_type": "code",
   "execution_count": null,
   "metadata": {},
   "outputs": [],
   "source": [
    "# \n",
    "cpi_wage = pd.read_csv('/Users/jasonrobinson/Documents/Projects/bls_project/data/cpi_urban_wage_earn.csv')\n",
    "print(cpi_wage.shape)\n",
    "cpi_wage.sample(5)"
   ]
  },
  {
   "cell_type": "code",
   "execution_count": null,
   "metadata": {},
   "outputs": [],
   "source": [
    "cpi_avg_price = pd.read_csv('/Users/jasonrobinson/Documents/Projects/bls_project/data/cpi_avg_price_data.csv')\n",
    "print(cpi_avg_price.shape)\n",
    "cpi_avg_price.sample(5)"
   ]
  },
  {
   "cell_type": "code",
   "execution_count": null,
   "metadata": {},
   "outputs": [],
   "source": [
    "import plotly.graph_objects as go\n",
    "import plotly.express as px"
   ]
  },
  {
   "cell_type": "code",
   "execution_count": null,
   "metadata": {},
   "outputs": [],
   "source": [
    "# 100 years of spending for all urban consumers\n",
    "fig = go.Figure(data=[go.Bar(x=cpiu['Year'], y=cpiu['Jan'])])\n",
    "fig.show()"
   ]
  },
  {
   "cell_type": "code",
   "execution_count": null,
   "metadata": {},
   "outputs": [],
   "source": [
    "# Let's look at the last 50 years\n",
    "fig = go.Figure(data=[go.Bar(x=cpiu['Year'][50:-1], y=cpiu['Jan'])])\n",
    "fig.show()"
   ]
  },
  {
   "cell_type": "code",
   "execution_count": null,
   "metadata": {},
   "outputs": [],
   "source": [
    "# Now the last 10 years for January\n",
    "fig = go.Figure(data=[go.Bar(x=cpiu['Year'][100:-1], y=cpiu['Jan'])])\n",
    "fig.show()"
   ]
  },
  {
   "cell_type": "markdown",
   "metadata": {},
   "source": [
    "In 20202, U.S.consumers spent more during the first year of the pandemic than the previous year in 2019 and the following year in 2021. "
   ]
  },
  {
   "cell_type": "code",
   "execution_count": null,
   "metadata": {},
   "outputs": [],
   "source": []
  },
  {
   "cell_type": "code",
   "execution_count": null,
   "metadata": {},
   "outputs": [],
   "source": []
  },
  {
   "cell_type": "code",
   "execution_count": null,
   "metadata": {},
   "outputs": [],
   "source": []
  },
  {
   "cell_type": "code",
   "execution_count": null,
   "metadata": {},
   "outputs": [],
   "source": [
    "plt.scatter(df['age'], df['fare'])\n",
    "plt.xlabel('Age')\n",
    "plt.ylabel('Fare')\n",
    "plt.title(\"Age by Fare\")\n",
    "plt.show()"
   ]
  }
 ],
 "metadata": {
  "kernelspec": {
   "display_name": "Python 3 (ipykernel)",
   "language": "python",
   "name": "python3"
  },
  "language_info": {
   "codemirror_mode": {
    "name": "ipython",
    "version": 3
   },
   "file_extension": ".py",
   "mimetype": "text/x-python",
   "name": "python",
   "nbconvert_exporter": "python",
   "pygments_lexer": "ipython3",
   "version": "3.9.12"
  }
 },
 "nbformat": 4,
 "nbformat_minor": 4
}
