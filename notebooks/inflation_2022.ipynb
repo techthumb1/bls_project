{
 "cells": [
  {
   "cell_type": "markdown",
   "metadata": {},
   "source": [
    "**Create a custom dataframe**"
   ]
  },
  {
   "cell_type": "markdown",
   "metadata": {},
   "source": [
    "\n",
    "# Inflation\n",
    "\n",
    "Inflation model for analyzing, tracking, and predicting components of inflation.\n",
    "\n",
    "There are many factors that contribute to the act or process of _Consumer Inflation;_ however, there are only a few methods created for measuring the average change of indexes over time that are strong indicators a possible period of inflation.\n",
    "\n",
    "One of those indexes is the _[Consumer Price Index](https://www.bls.gov/cpi/)_ (CPI) and the _[Consumer Expenditure Survey](https://data.bls.gov/cex/)_ (CES). CPI is a measure of the price for goods and services over a period of time, while CES is a measure of spending per household. \n",
    "\n",
    "**KEY** <br> Within this analysis all datasets will include the following endings:\n",
    "-    **U** = All urban consumers<br> \n",
    "-    **W** = All urban wages<br> \n",
    "-    **NF** = Nonfarm cpi<br> \n",
    "-    **Gov** = Government"
   ]
  },
  {
   "cell_type": "code",
   "execution_count": 16,
   "metadata": {},
   "outputs": [],
   "source": [
    "import pandas as pd\n",
    "import seaborn as sns\n",
    "import numpy as np\n",
    "import plotly.graph_objects as go\n",
    "import plotly.express as px\n",
    "from sklearn.model_selection import train_test_split"
   ]
  },
  {
   "cell_type": "code",
   "execution_count": 66,
   "metadata": {},
   "outputs": [
    {
     "name": "stdout",
     "output_type": "stream",
     "text": [
      "Shape of our datasets: \n",
      " CES for Government Employees: (11, 13) \n",
      " Consumer Price Index for All Urban: (75, 13) \n",
      " Consumer Price Index for All Wages: (75, 0) \n",
      " Consumer Expenditure Survey Nonfarm: (11, 13)\n"
     ]
    }
   ],
   "source": [
    "# Read in our datasets\n",
    "print(f'Shape of our datasets:','\\n','CES for Government Employees:',ces_gov.shape,'\\n',\n",
    "      'Consumer Price Index for All Urban:',cpi_u.shape,'\\n',\n",
    "      'Consumer Price Index for All Wages:', cpi_w.shape,'\\n',\n",
    "      'Consumer Expenditure Survey Nonfarm:', ces_total_nf.shape),'\\n',\n",
    "ces_gov = pd.read_csv('/Users/jasonrobinson/Documents/Projects/bls_project/data_2/SeriesReport-ces-government.csv')\n",
    "cpi_u = pd.read_csv('/Users/jasonrobinson/Documents/Projects/bls_project/data_2/SeriesReport-cpi-all-u-notadj.48.csv')\n",
    "cpi_w = pd.read_csv('/Users/jasonrobinson/Documents/Projects/bls_project/data_2/SeriesReport-cpi-urbwage-notadj.48.csv')\n",
    "ces_total_nf = pd.read_csv('/Users/jasonrobinson/Documents/Projects/bls_project/data_2/SeriesReport-ces-total-nonfarm.csv')"
   ]
  },
  {
   "cell_type": "code",
   "execution_count": 67,
   "metadata": {},
   "outputs": [
    {
     "data": {
      "text/html": [
       "<div>\n",
       "<style scoped>\n",
       "    .dataframe tbody tr th:only-of-type {\n",
       "        vertical-align: middle;\n",
       "    }\n",
       "\n",
       "    .dataframe tbody tr th {\n",
       "        vertical-align: top;\n",
       "    }\n",
       "\n",
       "    .dataframe thead th {\n",
       "        text-align: right;\n",
       "    }\n",
       "</style>\n",
       "<table border=\"1\" class=\"dataframe\">\n",
       "  <thead>\n",
       "    <tr style=\"text-align: right;\">\n",
       "      <th></th>\n",
       "      <th>Year</th>\n",
       "      <th>Jan</th>\n",
       "      <th>Feb</th>\n",
       "      <th>Mar</th>\n",
       "      <th>Apr</th>\n",
       "      <th>May</th>\n",
       "      <th>Jun</th>\n",
       "      <th>Jul</th>\n",
       "      <th>Aug</th>\n",
       "      <th>Sep</th>\n",
       "      <th>Oct</th>\n",
       "      <th>Nov</th>\n",
       "      <th>Dec</th>\n",
       "      <th>HALF1</th>\n",
       "      <th>HALF2</th>\n",
       "    </tr>\n",
       "  </thead>\n",
       "  <tbody>\n",
       "    <tr>\n",
       "      <th>0</th>\n",
       "      <td>1948</td>\n",
       "      <td>23.8</td>\n",
       "      <td>23.6</td>\n",
       "      <td>23.6</td>\n",
       "      <td>23.9</td>\n",
       "      <td>24.1</td>\n",
       "      <td>24.2</td>\n",
       "      <td>24.5</td>\n",
       "      <td>24.6</td>\n",
       "      <td>24.6</td>\n",
       "      <td>24.5</td>\n",
       "      <td>24.4</td>\n",
       "      <td>24.2</td>\n",
       "      <td>NaN</td>\n",
       "      <td>NaN</td>\n",
       "    </tr>\n",
       "    <tr>\n",
       "      <th>1</th>\n",
       "      <td>1949</td>\n",
       "      <td>24.2</td>\n",
       "      <td>23.9</td>\n",
       "      <td>24.0</td>\n",
       "      <td>24.0</td>\n",
       "      <td>24.0</td>\n",
       "      <td>24.0</td>\n",
       "      <td>23.8</td>\n",
       "      <td>23.9</td>\n",
       "      <td>24.0</td>\n",
       "      <td>23.9</td>\n",
       "      <td>23.9</td>\n",
       "      <td>23.8</td>\n",
       "      <td>NaN</td>\n",
       "      <td>NaN</td>\n",
       "    </tr>\n",
       "    <tr>\n",
       "      <th>2</th>\n",
       "      <td>1950</td>\n",
       "      <td>23.7</td>\n",
       "      <td>23.6</td>\n",
       "      <td>23.7</td>\n",
       "      <td>23.7</td>\n",
       "      <td>23.8</td>\n",
       "      <td>24.0</td>\n",
       "      <td>24.2</td>\n",
       "      <td>24.4</td>\n",
       "      <td>24.6</td>\n",
       "      <td>24.7</td>\n",
       "      <td>24.8</td>\n",
       "      <td>25.1</td>\n",
       "      <td>NaN</td>\n",
       "      <td>NaN</td>\n",
       "    </tr>\n",
       "    <tr>\n",
       "      <th>3</th>\n",
       "      <td>1951</td>\n",
       "      <td>25.5</td>\n",
       "      <td>25.9</td>\n",
       "      <td>26.0</td>\n",
       "      <td>26.0</td>\n",
       "      <td>26.1</td>\n",
       "      <td>26.1</td>\n",
       "      <td>26.1</td>\n",
       "      <td>26.1</td>\n",
       "      <td>26.3</td>\n",
       "      <td>26.4</td>\n",
       "      <td>26.5</td>\n",
       "      <td>26.6</td>\n",
       "      <td>NaN</td>\n",
       "      <td>NaN</td>\n",
       "    </tr>\n",
       "    <tr>\n",
       "      <th>4</th>\n",
       "      <td>1952</td>\n",
       "      <td>26.6</td>\n",
       "      <td>26.5</td>\n",
       "      <td>26.5</td>\n",
       "      <td>26.6</td>\n",
       "      <td>26.6</td>\n",
       "      <td>26.7</td>\n",
       "      <td>26.9</td>\n",
       "      <td>26.9</td>\n",
       "      <td>26.9</td>\n",
       "      <td>26.9</td>\n",
       "      <td>26.9</td>\n",
       "      <td>26.9</td>\n",
       "      <td>NaN</td>\n",
       "      <td>NaN</td>\n",
       "    </tr>\n",
       "  </tbody>\n",
       "</table>\n",
       "</div>"
      ],
      "text/plain": [
       "   Year   Jan   Feb   Mar   Apr   May   Jun   Jul   Aug   Sep   Oct   Nov  \\\n",
       "0  1948  23.8  23.6  23.6  23.9  24.1  24.2  24.5  24.6  24.6  24.5  24.4   \n",
       "1  1949  24.2  23.9  24.0  24.0  24.0  24.0  23.8  23.9  24.0  23.9  23.9   \n",
       "2  1950  23.7  23.6  23.7  23.7  23.8  24.0  24.2  24.4  24.6  24.7  24.8   \n",
       "3  1951  25.5  25.9  26.0  26.0  26.1  26.1  26.1  26.1  26.3  26.4  26.5   \n",
       "4  1952  26.6  26.5  26.5  26.6  26.6  26.7  26.9  26.9  26.9  26.9  26.9   \n",
       "\n",
       "    Dec  HALF1  HALF2  \n",
       "0  24.2    NaN    NaN  \n",
       "1  23.8    NaN    NaN  \n",
       "2  25.1    NaN    NaN  \n",
       "3  26.6    NaN    NaN  \n",
       "4  26.9    NaN    NaN  "
      ]
     },
     "execution_count": 67,
     "metadata": {},
     "output_type": "execute_result"
    }
   ],
   "source": [
    "cpi_w.head()"
   ]
  },
  {
   "cell_type": "code",
   "execution_count": 72,
   "metadata": {},
   "outputs": [
    {
     "name": "stdout",
     "output_type": "stream",
     "text": [
      "(75, 13)\n"
     ]
    },
    {
     "data": {
      "text/html": [
       "<div>\n",
       "<style scoped>\n",
       "    .dataframe tbody tr th:only-of-type {\n",
       "        vertical-align: middle;\n",
       "    }\n",
       "\n",
       "    .dataframe tbody tr th {\n",
       "        vertical-align: top;\n",
       "    }\n",
       "\n",
       "    .dataframe thead th {\n",
       "        text-align: right;\n",
       "    }\n",
       "</style>\n",
       "<table border=\"1\" class=\"dataframe\">\n",
       "  <thead>\n",
       "    <tr style=\"text-align: right;\">\n",
       "      <th></th>\n",
       "      <th>Year</th>\n",
       "      <th>Jan</th>\n",
       "      <th>Feb</th>\n",
       "      <th>Mar</th>\n",
       "      <th>Apr</th>\n",
       "      <th>May</th>\n",
       "      <th>Jun</th>\n",
       "      <th>Jul</th>\n",
       "      <th>Aug</th>\n",
       "      <th>Sep</th>\n",
       "      <th>Oct</th>\n",
       "      <th>Nov</th>\n",
       "      <th>Dec</th>\n",
       "    </tr>\n",
       "  </thead>\n",
       "  <tbody>\n",
       "    <tr>\n",
       "      <th>0</th>\n",
       "      <td>1948</td>\n",
       "      <td>23.8</td>\n",
       "      <td>23.6</td>\n",
       "      <td>23.6</td>\n",
       "      <td>23.9</td>\n",
       "      <td>24.1</td>\n",
       "      <td>24.2</td>\n",
       "      <td>24.5</td>\n",
       "      <td>24.6</td>\n",
       "      <td>24.6</td>\n",
       "      <td>24.5</td>\n",
       "      <td>24.4</td>\n",
       "      <td>24.2</td>\n",
       "    </tr>\n",
       "    <tr>\n",
       "      <th>1</th>\n",
       "      <td>1949</td>\n",
       "      <td>24.2</td>\n",
       "      <td>23.9</td>\n",
       "      <td>24.0</td>\n",
       "      <td>24.0</td>\n",
       "      <td>24.0</td>\n",
       "      <td>24.0</td>\n",
       "      <td>23.8</td>\n",
       "      <td>23.9</td>\n",
       "      <td>24.0</td>\n",
       "      <td>23.9</td>\n",
       "      <td>23.9</td>\n",
       "      <td>23.8</td>\n",
       "    </tr>\n",
       "    <tr>\n",
       "      <th>2</th>\n",
       "      <td>1950</td>\n",
       "      <td>23.7</td>\n",
       "      <td>23.6</td>\n",
       "      <td>23.7</td>\n",
       "      <td>23.7</td>\n",
       "      <td>23.8</td>\n",
       "      <td>24.0</td>\n",
       "      <td>24.2</td>\n",
       "      <td>24.4</td>\n",
       "      <td>24.6</td>\n",
       "      <td>24.7</td>\n",
       "      <td>24.8</td>\n",
       "      <td>25.1</td>\n",
       "    </tr>\n",
       "    <tr>\n",
       "      <th>3</th>\n",
       "      <td>1951</td>\n",
       "      <td>25.5</td>\n",
       "      <td>25.9</td>\n",
       "      <td>26.0</td>\n",
       "      <td>26.0</td>\n",
       "      <td>26.1</td>\n",
       "      <td>26.1</td>\n",
       "      <td>26.1</td>\n",
       "      <td>26.1</td>\n",
       "      <td>26.3</td>\n",
       "      <td>26.4</td>\n",
       "      <td>26.5</td>\n",
       "      <td>26.6</td>\n",
       "    </tr>\n",
       "    <tr>\n",
       "      <th>4</th>\n",
       "      <td>1952</td>\n",
       "      <td>26.6</td>\n",
       "      <td>26.5</td>\n",
       "      <td>26.5</td>\n",
       "      <td>26.6</td>\n",
       "      <td>26.6</td>\n",
       "      <td>26.7</td>\n",
       "      <td>26.9</td>\n",
       "      <td>26.9</td>\n",
       "      <td>26.9</td>\n",
       "      <td>26.9</td>\n",
       "      <td>26.9</td>\n",
       "      <td>26.9</td>\n",
       "    </tr>\n",
       "  </tbody>\n",
       "</table>\n",
       "</div>"
      ],
      "text/plain": [
       "   Year   Jan   Feb   Mar   Apr   May   Jun   Jul   Aug   Sep   Oct   Nov  \\\n",
       "0  1948  23.8  23.6  23.6  23.9  24.1  24.2  24.5  24.6  24.6  24.5  24.4   \n",
       "1  1949  24.2  23.9  24.0  24.0  24.0  24.0  23.8  23.9  24.0  23.9  23.9   \n",
       "2  1950  23.7  23.6  23.7  23.7  23.8  24.0  24.2  24.4  24.6  24.7  24.8   \n",
       "3  1951  25.5  25.9  26.0  26.0  26.1  26.1  26.1  26.1  26.3  26.4  26.5   \n",
       "4  1952  26.6  26.5  26.5  26.6  26.6  26.7  26.9  26.9  26.9  26.9  26.9   \n",
       "\n",
       "    Dec  \n",
       "0  24.2  \n",
       "1  23.8  \n",
       "2  25.1  \n",
       "3  26.6  \n",
       "4  26.9  "
      ]
     },
     "execution_count": 72,
     "metadata": {},
     "output_type": "execute_result"
    }
   ],
   "source": [
    "# Since cpi-w is not the same size as our cpi-u dataset we can easily drop\n",
    "# the two extra columns as they are not necessary to the training\n",
    "#cpi_w = cpi_w.drop(cpi_w[['HALF1', 'HALF2']], axis=1)\n",
    "print(cpi_w.shape)\n",
    "cpi_w.head()"
   ]
  },
  {
   "cell_type": "markdown",
   "metadata": {},
   "source": [
    "**Get the summary statistics** "
   ]
  },
  {
   "cell_type": "code",
   "execution_count": 77,
   "metadata": {
    "collapsed": true
   },
   "outputs": [
    {
     "name": "stdout",
     "output_type": "stream",
     "text": [
      "              Year         Jan         Feb         Mar         Apr  \\\n",
      "count    75.000000   75.000000   74.000000   74.000000   74.000000   \n",
      "mean   1985.000000  113.994147  112.214919  112.725324  113.180257   \n",
      "std      21.794495   79.448563   77.989041   78.410040   78.700877   \n",
      "min    1948.000000   23.700000   23.600000   23.600000   23.700000   \n",
      "25%    1966.500000   32.550000   32.425000   32.525000   32.700000   \n",
      "50%    1985.000000  104.900000  103.600000  103.850000  104.200000   \n",
      "75%    2003.500000  179.300000  177.825000  178.900000  178.800000   \n",
      "max    2022.000000  276.296000  256.843000  258.935000  261.237000   \n",
      "\n",
      "              May         Jun         Jul         Aug         Sep         Oct  \\\n",
      "count   74.000000   74.000000   74.000000   74.000000   74.000000   74.000000   \n",
      "mean   113.572203  113.956986  114.159473  114.417946  114.762595  114.894743   \n",
      "std     78.957409   79.158330   79.184861   79.262302   79.407066   79.365418   \n",
      "min     23.800000   24.000000   23.800000   23.900000   24.000000   23.900000   \n",
      "25%     32.725000   32.825000   32.925000   33.100000   33.125000   33.300000   \n",
      "50%    104.600000  104.900000  105.150000  105.750000  106.200000  106.350000   \n",
      "75%    178.500000  178.675000  178.725000  179.375000  180.000000  179.850000   \n",
      "max    263.612000  266.412000  267.789000  268.387000  269.086000  271.552000   \n",
      "\n",
      "              Nov         Dec  \n",
      "count   74.000000   74.000000  \n",
      "mean   114.857824  114.792486  \n",
      "std     79.160333   78.970959  \n",
      "min     23.900000   23.800000  \n",
      "25%     33.325000   33.350000  \n",
      "50%    106.500000  106.700000  \n",
      "75%    179.500000  179.175000  \n",
      "max    273.042000  273.925000  \n"
     ]
    },
    {
     "data": {
      "text/html": [
       "<div>\n",
       "<style scoped>\n",
       "    .dataframe tbody tr th:only-of-type {\n",
       "        vertical-align: middle;\n",
       "    }\n",
       "\n",
       "    .dataframe tbody tr th {\n",
       "        vertical-align: top;\n",
       "    }\n",
       "\n",
       "    .dataframe thead th {\n",
       "        text-align: right;\n",
       "    }\n",
       "</style>\n",
       "<table border=\"1\" class=\"dataframe\">\n",
       "  <thead>\n",
       "    <tr style=\"text-align: right;\">\n",
       "      <th></th>\n",
       "      <th>Year</th>\n",
       "      <th>Jan</th>\n",
       "      <th>Feb</th>\n",
       "      <th>Mar</th>\n",
       "      <th>Apr</th>\n",
       "      <th>May</th>\n",
       "      <th>Jun</th>\n",
       "      <th>Jul</th>\n",
       "      <th>Aug</th>\n",
       "      <th>Sep</th>\n",
       "      <th>Oct</th>\n",
       "      <th>Nov</th>\n",
       "      <th>Dec</th>\n",
       "    </tr>\n",
       "  </thead>\n",
       "  <tbody>\n",
       "    <tr>\n",
       "      <th>count</th>\n",
       "      <td>75.000000</td>\n",
       "      <td>75.000000</td>\n",
       "      <td>74.000000</td>\n",
       "      <td>74.000000</td>\n",
       "      <td>74.000000</td>\n",
       "      <td>74.000000</td>\n",
       "      <td>74.000000</td>\n",
       "      <td>74.000000</td>\n",
       "      <td>74.000000</td>\n",
       "      <td>74.000000</td>\n",
       "      <td>74.000000</td>\n",
       "      <td>74.000000</td>\n",
       "      <td>74.000000</td>\n",
       "    </tr>\n",
       "    <tr>\n",
       "      <th>mean</th>\n",
       "      <td>1985.000000</td>\n",
       "      <td>115.730027</td>\n",
       "      <td>113.941081</td>\n",
       "      <td>114.453311</td>\n",
       "      <td>114.868554</td>\n",
       "      <td>115.230743</td>\n",
       "      <td>115.610919</td>\n",
       "      <td>115.837108</td>\n",
       "      <td>116.088851</td>\n",
       "      <td>116.419419</td>\n",
       "      <td>116.599351</td>\n",
       "      <td>116.572797</td>\n",
       "      <td>116.522838</td>\n",
       "    </tr>\n",
       "    <tr>\n",
       "      <th>std</th>\n",
       "      <td>21.794495</td>\n",
       "      <td>81.627283</td>\n",
       "      <td>80.171231</td>\n",
       "      <td>80.567981</td>\n",
       "      <td>80.818227</td>\n",
       "      <td>81.044034</td>\n",
       "      <td>81.233918</td>\n",
       "      <td>81.268215</td>\n",
       "      <td>81.352420</td>\n",
       "      <td>81.489663</td>\n",
       "      <td>81.484002</td>\n",
       "      <td>81.301846</td>\n",
       "      <td>81.130291</td>\n",
       "    </tr>\n",
       "    <tr>\n",
       "      <th>min</th>\n",
       "      <td>1948.000000</td>\n",
       "      <td>23.500000</td>\n",
       "      <td>23.500000</td>\n",
       "      <td>23.400000</td>\n",
       "      <td>23.600000</td>\n",
       "      <td>23.700000</td>\n",
       "      <td>23.800000</td>\n",
       "      <td>23.700000</td>\n",
       "      <td>23.800000</td>\n",
       "      <td>23.900000</td>\n",
       "      <td>23.700000</td>\n",
       "      <td>23.800000</td>\n",
       "      <td>23.600000</td>\n",
       "    </tr>\n",
       "    <tr>\n",
       "      <th>25%</th>\n",
       "      <td>1966.500000</td>\n",
       "      <td>32.350000</td>\n",
       "      <td>32.225000</td>\n",
       "      <td>32.325000</td>\n",
       "      <td>32.500000</td>\n",
       "      <td>32.525000</td>\n",
       "      <td>32.625000</td>\n",
       "      <td>32.725000</td>\n",
       "      <td>32.900000</td>\n",
       "      <td>32.925000</td>\n",
       "      <td>33.100000</td>\n",
       "      <td>33.125000</td>\n",
       "      <td>33.150000</td>\n",
       "    </tr>\n",
       "    <tr>\n",
       "      <th>50%</th>\n",
       "      <td>1985.000000</td>\n",
       "      <td>105.500000</td>\n",
       "      <td>104.200000</td>\n",
       "      <td>104.500000</td>\n",
       "      <td>105.000000</td>\n",
       "      <td>105.350000</td>\n",
       "      <td>105.650000</td>\n",
       "      <td>105.950000</td>\n",
       "      <td>106.250000</td>\n",
       "      <td>106.650000</td>\n",
       "      <td>107.000000</td>\n",
       "      <td>107.150000</td>\n",
       "      <td>107.300000</td>\n",
       "    </tr>\n",
       "    <tr>\n",
       "      <th>75%</th>\n",
       "      <td>2003.500000</td>\n",
       "      <td>183.450000</td>\n",
       "      <td>181.775000</td>\n",
       "      <td>182.850000</td>\n",
       "      <td>182.800000</td>\n",
       "      <td>182.575000</td>\n",
       "      <td>182.750000</td>\n",
       "      <td>182.950000</td>\n",
       "      <td>183.625000</td>\n",
       "      <td>184.150000</td>\n",
       "      <td>184.075000</td>\n",
       "      <td>183.700000</td>\n",
       "      <td>183.450000</td>\n",
       "    </tr>\n",
       "    <tr>\n",
       "      <th>max</th>\n",
       "      <td>2022.000000</td>\n",
       "      <td>281.148000</td>\n",
       "      <td>263.014000</td>\n",
       "      <td>264.877000</td>\n",
       "      <td>267.054000</td>\n",
       "      <td>269.195000</td>\n",
       "      <td>271.696000</td>\n",
       "      <td>273.003000</td>\n",
       "      <td>273.567000</td>\n",
       "      <td>274.310000</td>\n",
       "      <td>276.589000</td>\n",
       "      <td>277.948000</td>\n",
       "      <td>278.802000</td>\n",
       "    </tr>\n",
       "  </tbody>\n",
       "</table>\n",
       "</div>"
      ],
      "text/plain": [
       "              Year         Jan         Feb         Mar         Apr  \\\n",
       "count    75.000000   75.000000   74.000000   74.000000   74.000000   \n",
       "mean   1985.000000  115.730027  113.941081  114.453311  114.868554   \n",
       "std      21.794495   81.627283   80.171231   80.567981   80.818227   \n",
       "min    1948.000000   23.500000   23.500000   23.400000   23.600000   \n",
       "25%    1966.500000   32.350000   32.225000   32.325000   32.500000   \n",
       "50%    1985.000000  105.500000  104.200000  104.500000  105.000000   \n",
       "75%    2003.500000  183.450000  181.775000  182.850000  182.800000   \n",
       "max    2022.000000  281.148000  263.014000  264.877000  267.054000   \n",
       "\n",
       "              May         Jun         Jul         Aug         Sep         Oct  \\\n",
       "count   74.000000   74.000000   74.000000   74.000000   74.000000   74.000000   \n",
       "mean   115.230743  115.610919  115.837108  116.088851  116.419419  116.599351   \n",
       "std     81.044034   81.233918   81.268215   81.352420   81.489663   81.484002   \n",
       "min     23.700000   23.800000   23.700000   23.800000   23.900000   23.700000   \n",
       "25%     32.525000   32.625000   32.725000   32.900000   32.925000   33.100000   \n",
       "50%    105.350000  105.650000  105.950000  106.250000  106.650000  107.000000   \n",
       "75%    182.575000  182.750000  182.950000  183.625000  184.150000  184.075000   \n",
       "max    269.195000  271.696000  273.003000  273.567000  274.310000  276.589000   \n",
       "\n",
       "              Nov         Dec  \n",
       "count   74.000000   74.000000  \n",
       "mean   116.572797  116.522838  \n",
       "std     81.301846   81.130291  \n",
       "min     23.800000   23.600000  \n",
       "25%     33.125000   33.150000  \n",
       "50%    107.150000  107.300000  \n",
       "75%    183.700000  183.450000  \n",
       "max    277.948000  278.802000  "
      ]
     },
     "execution_count": 77,
     "metadata": {},
     "output_type": "execute_result"
    }
   ],
   "source": [
    "# Work with all urban and urban/wages\n",
    "print(cpi_w.describe())\n",
    "cpi_u.describe(include='all')"
   ]
  },
  {
   "cell_type": "code",
   "execution_count": 110,
   "metadata": {
    "collapsed": true
   },
   "outputs": [
    {
     "data": {
      "application/vnd.plotly.v1+json": {
       "config": {
        "plotlyServerURL": "https://plot.ly"
       },
       "data": [
        {
         "alignmentgroup": "True",
         "bingroup": "x",
         "hovertemplate": "x=%{x}<br>count=%{y}<extra></extra>",
         "legendgroup": "",
         "marker": {
          "color": "#636efa",
          "pattern": {
           "shape": ""
          }
         },
         "name": "",
         "nbinsx": 50,
         "offsetgroup": "",
         "orientation": "v",
         "showlegend": false,
         "type": "histogram",
         "x": [
          23.7,
          24,
          23.5,
          25.4,
          26.5,
          26.6,
          26.9,
          26.7,
          26.8,
          27.6,
          28.6,
          29,
          29.3,
          29.8,
          30,
          30.4,
          30.9,
          31.2,
          31.8,
          32.9,
          34.1,
          35.6,
          37.8,
          39.8,
          41.1,
          42.6,
          46.6,
          52.1,
          55.6,
          58.5,
          62.5,
          68.3,
          77.8,
          87,
          94.3,
          97.8,
          101.9,
          105.5,
          109.6,
          111.2,
          115.7,
          121.1,
          127.4,
          134.6,
          138.1,
          142.6,
          146.2,
          150.3,
          154.4,
          159.1,
          161.6,
          164.3,
          168.8,
          175.1,
          177.1,
          181.7,
          185.2,
          190.7,
          198.3,
          202.416,
          211.08,
          211.143,
          216.687,
          220.22299999999998,
          226.665,
          230.28,
          233.916,
          233.707,
          236.916,
          242.83900000000003,
          247.86700000000002,
          251.71200000000002,
          257.971,
          261.582,
          281.14799999999997
         ],
         "xaxis": "x",
         "yaxis": "y"
        }
       ],
       "layout": {
        "barmode": "relative",
        "legend": {
         "tracegroupgap": 0
        },
        "margin": {
         "t": 60
        },
        "template": {
         "data": {
          "bar": [
           {
            "error_x": {
             "color": "#2a3f5f"
            },
            "error_y": {
             "color": "#2a3f5f"
            },
            "marker": {
             "line": {
              "color": "#E5ECF6",
              "width": 0.5
             },
             "pattern": {
              "fillmode": "overlay",
              "size": 10,
              "solidity": 0.2
             }
            },
            "type": "bar"
           }
          ],
          "barpolar": [
           {
            "marker": {
             "line": {
              "color": "#E5ECF6",
              "width": 0.5
             },
             "pattern": {
              "fillmode": "overlay",
              "size": 10,
              "solidity": 0.2
             }
            },
            "type": "barpolar"
           }
          ],
          "carpet": [
           {
            "aaxis": {
             "endlinecolor": "#2a3f5f",
             "gridcolor": "white",
             "linecolor": "white",
             "minorgridcolor": "white",
             "startlinecolor": "#2a3f5f"
            },
            "baxis": {
             "endlinecolor": "#2a3f5f",
             "gridcolor": "white",
             "linecolor": "white",
             "minorgridcolor": "white",
             "startlinecolor": "#2a3f5f"
            },
            "type": "carpet"
           }
          ],
          "choropleth": [
           {
            "colorbar": {
             "outlinewidth": 0,
             "ticks": ""
            },
            "type": "choropleth"
           }
          ],
          "contour": [
           {
            "colorbar": {
             "outlinewidth": 0,
             "ticks": ""
            },
            "colorscale": [
             [
              0,
              "#0d0887"
             ],
             [
              0.1111111111111111,
              "#46039f"
             ],
             [
              0.2222222222222222,
              "#7201a8"
             ],
             [
              0.3333333333333333,
              "#9c179e"
             ],
             [
              0.4444444444444444,
              "#bd3786"
             ],
             [
              0.5555555555555556,
              "#d8576b"
             ],
             [
              0.6666666666666666,
              "#ed7953"
             ],
             [
              0.7777777777777778,
              "#fb9f3a"
             ],
             [
              0.8888888888888888,
              "#fdca26"
             ],
             [
              1,
              "#f0f921"
             ]
            ],
            "type": "contour"
           }
          ],
          "contourcarpet": [
           {
            "colorbar": {
             "outlinewidth": 0,
             "ticks": ""
            },
            "type": "contourcarpet"
           }
          ],
          "heatmap": [
           {
            "colorbar": {
             "outlinewidth": 0,
             "ticks": ""
            },
            "colorscale": [
             [
              0,
              "#0d0887"
             ],
             [
              0.1111111111111111,
              "#46039f"
             ],
             [
              0.2222222222222222,
              "#7201a8"
             ],
             [
              0.3333333333333333,
              "#9c179e"
             ],
             [
              0.4444444444444444,
              "#bd3786"
             ],
             [
              0.5555555555555556,
              "#d8576b"
             ],
             [
              0.6666666666666666,
              "#ed7953"
             ],
             [
              0.7777777777777778,
              "#fb9f3a"
             ],
             [
              0.8888888888888888,
              "#fdca26"
             ],
             [
              1,
              "#f0f921"
             ]
            ],
            "type": "heatmap"
           }
          ],
          "heatmapgl": [
           {
            "colorbar": {
             "outlinewidth": 0,
             "ticks": ""
            },
            "colorscale": [
             [
              0,
              "#0d0887"
             ],
             [
              0.1111111111111111,
              "#46039f"
             ],
             [
              0.2222222222222222,
              "#7201a8"
             ],
             [
              0.3333333333333333,
              "#9c179e"
             ],
             [
              0.4444444444444444,
              "#bd3786"
             ],
             [
              0.5555555555555556,
              "#d8576b"
             ],
             [
              0.6666666666666666,
              "#ed7953"
             ],
             [
              0.7777777777777778,
              "#fb9f3a"
             ],
             [
              0.8888888888888888,
              "#fdca26"
             ],
             [
              1,
              "#f0f921"
             ]
            ],
            "type": "heatmapgl"
           }
          ],
          "histogram": [
           {
            "marker": {
             "pattern": {
              "fillmode": "overlay",
              "size": 10,
              "solidity": 0.2
             }
            },
            "type": "histogram"
           }
          ],
          "histogram2d": [
           {
            "colorbar": {
             "outlinewidth": 0,
             "ticks": ""
            },
            "colorscale": [
             [
              0,
              "#0d0887"
             ],
             [
              0.1111111111111111,
              "#46039f"
             ],
             [
              0.2222222222222222,
              "#7201a8"
             ],
             [
              0.3333333333333333,
              "#9c179e"
             ],
             [
              0.4444444444444444,
              "#bd3786"
             ],
             [
              0.5555555555555556,
              "#d8576b"
             ],
             [
              0.6666666666666666,
              "#ed7953"
             ],
             [
              0.7777777777777778,
              "#fb9f3a"
             ],
             [
              0.8888888888888888,
              "#fdca26"
             ],
             [
              1,
              "#f0f921"
             ]
            ],
            "type": "histogram2d"
           }
          ],
          "histogram2dcontour": [
           {
            "colorbar": {
             "outlinewidth": 0,
             "ticks": ""
            },
            "colorscale": [
             [
              0,
              "#0d0887"
             ],
             [
              0.1111111111111111,
              "#46039f"
             ],
             [
              0.2222222222222222,
              "#7201a8"
             ],
             [
              0.3333333333333333,
              "#9c179e"
             ],
             [
              0.4444444444444444,
              "#bd3786"
             ],
             [
              0.5555555555555556,
              "#d8576b"
             ],
             [
              0.6666666666666666,
              "#ed7953"
             ],
             [
              0.7777777777777778,
              "#fb9f3a"
             ],
             [
              0.8888888888888888,
              "#fdca26"
             ],
             [
              1,
              "#f0f921"
             ]
            ],
            "type": "histogram2dcontour"
           }
          ],
          "mesh3d": [
           {
            "colorbar": {
             "outlinewidth": 0,
             "ticks": ""
            },
            "type": "mesh3d"
           }
          ],
          "parcoords": [
           {
            "line": {
             "colorbar": {
              "outlinewidth": 0,
              "ticks": ""
             }
            },
            "type": "parcoords"
           }
          ],
          "pie": [
           {
            "automargin": true,
            "type": "pie"
           }
          ],
          "scatter": [
           {
            "marker": {
             "colorbar": {
              "outlinewidth": 0,
              "ticks": ""
             }
            },
            "type": "scatter"
           }
          ],
          "scatter3d": [
           {
            "line": {
             "colorbar": {
              "outlinewidth": 0,
              "ticks": ""
             }
            },
            "marker": {
             "colorbar": {
              "outlinewidth": 0,
              "ticks": ""
             }
            },
            "type": "scatter3d"
           }
          ],
          "scattercarpet": [
           {
            "marker": {
             "colorbar": {
              "outlinewidth": 0,
              "ticks": ""
             }
            },
            "type": "scattercarpet"
           }
          ],
          "scattergeo": [
           {
            "marker": {
             "colorbar": {
              "outlinewidth": 0,
              "ticks": ""
             }
            },
            "type": "scattergeo"
           }
          ],
          "scattergl": [
           {
            "marker": {
             "colorbar": {
              "outlinewidth": 0,
              "ticks": ""
             }
            },
            "type": "scattergl"
           }
          ],
          "scattermapbox": [
           {
            "marker": {
             "colorbar": {
              "outlinewidth": 0,
              "ticks": ""
             }
            },
            "type": "scattermapbox"
           }
          ],
          "scatterpolar": [
           {
            "marker": {
             "colorbar": {
              "outlinewidth": 0,
              "ticks": ""
             }
            },
            "type": "scatterpolar"
           }
          ],
          "scatterpolargl": [
           {
            "marker": {
             "colorbar": {
              "outlinewidth": 0,
              "ticks": ""
             }
            },
            "type": "scatterpolargl"
           }
          ],
          "scatterternary": [
           {
            "marker": {
             "colorbar": {
              "outlinewidth": 0,
              "ticks": ""
             }
            },
            "type": "scatterternary"
           }
          ],
          "surface": [
           {
            "colorbar": {
             "outlinewidth": 0,
             "ticks": ""
            },
            "colorscale": [
             [
              0,
              "#0d0887"
             ],
             [
              0.1111111111111111,
              "#46039f"
             ],
             [
              0.2222222222222222,
              "#7201a8"
             ],
             [
              0.3333333333333333,
              "#9c179e"
             ],
             [
              0.4444444444444444,
              "#bd3786"
             ],
             [
              0.5555555555555556,
              "#d8576b"
             ],
             [
              0.6666666666666666,
              "#ed7953"
             ],
             [
              0.7777777777777778,
              "#fb9f3a"
             ],
             [
              0.8888888888888888,
              "#fdca26"
             ],
             [
              1,
              "#f0f921"
             ]
            ],
            "type": "surface"
           }
          ],
          "table": [
           {
            "cells": {
             "fill": {
              "color": "#EBF0F8"
             },
             "line": {
              "color": "white"
             }
            },
            "header": {
             "fill": {
              "color": "#C8D4E3"
             },
             "line": {
              "color": "white"
             }
            },
            "type": "table"
           }
          ]
         },
         "layout": {
          "annotationdefaults": {
           "arrowcolor": "#2a3f5f",
           "arrowhead": 0,
           "arrowwidth": 1
          },
          "autotypenumbers": "strict",
          "coloraxis": {
           "colorbar": {
            "outlinewidth": 0,
            "ticks": ""
           }
          },
          "colorscale": {
           "diverging": [
            [
             0,
             "#8e0152"
            ],
            [
             0.1,
             "#c51b7d"
            ],
            [
             0.2,
             "#de77ae"
            ],
            [
             0.3,
             "#f1b6da"
            ],
            [
             0.4,
             "#fde0ef"
            ],
            [
             0.5,
             "#f7f7f7"
            ],
            [
             0.6,
             "#e6f5d0"
            ],
            [
             0.7,
             "#b8e186"
            ],
            [
             0.8,
             "#7fbc41"
            ],
            [
             0.9,
             "#4d9221"
            ],
            [
             1,
             "#276419"
            ]
           ],
           "sequential": [
            [
             0,
             "#0d0887"
            ],
            [
             0.1111111111111111,
             "#46039f"
            ],
            [
             0.2222222222222222,
             "#7201a8"
            ],
            [
             0.3333333333333333,
             "#9c179e"
            ],
            [
             0.4444444444444444,
             "#bd3786"
            ],
            [
             0.5555555555555556,
             "#d8576b"
            ],
            [
             0.6666666666666666,
             "#ed7953"
            ],
            [
             0.7777777777777778,
             "#fb9f3a"
            ],
            [
             0.8888888888888888,
             "#fdca26"
            ],
            [
             1,
             "#f0f921"
            ]
           ],
           "sequentialminus": [
            [
             0,
             "#0d0887"
            ],
            [
             0.1111111111111111,
             "#46039f"
            ],
            [
             0.2222222222222222,
             "#7201a8"
            ],
            [
             0.3333333333333333,
             "#9c179e"
            ],
            [
             0.4444444444444444,
             "#bd3786"
            ],
            [
             0.5555555555555556,
             "#d8576b"
            ],
            [
             0.6666666666666666,
             "#ed7953"
            ],
            [
             0.7777777777777778,
             "#fb9f3a"
            ],
            [
             0.8888888888888888,
             "#fdca26"
            ],
            [
             1,
             "#f0f921"
            ]
           ]
          },
          "colorway": [
           "#636efa",
           "#EF553B",
           "#00cc96",
           "#ab63fa",
           "#FFA15A",
           "#19d3f3",
           "#FF6692",
           "#B6E880",
           "#FF97FF",
           "#FECB52"
          ],
          "font": {
           "color": "#2a3f5f"
          },
          "geo": {
           "bgcolor": "white",
           "lakecolor": "white",
           "landcolor": "#E5ECF6",
           "showlakes": true,
           "showland": true,
           "subunitcolor": "white"
          },
          "hoverlabel": {
           "align": "left"
          },
          "hovermode": "closest",
          "mapbox": {
           "style": "light"
          },
          "paper_bgcolor": "white",
          "plot_bgcolor": "#E5ECF6",
          "polar": {
           "angularaxis": {
            "gridcolor": "white",
            "linecolor": "white",
            "ticks": ""
           },
           "bgcolor": "#E5ECF6",
           "radialaxis": {
            "gridcolor": "white",
            "linecolor": "white",
            "ticks": ""
           }
          },
          "scene": {
           "xaxis": {
            "backgroundcolor": "#E5ECF6",
            "gridcolor": "white",
            "gridwidth": 2,
            "linecolor": "white",
            "showbackground": true,
            "ticks": "",
            "zerolinecolor": "white"
           },
           "yaxis": {
            "backgroundcolor": "#E5ECF6",
            "gridcolor": "white",
            "gridwidth": 2,
            "linecolor": "white",
            "showbackground": true,
            "ticks": "",
            "zerolinecolor": "white"
           },
           "zaxis": {
            "backgroundcolor": "#E5ECF6",
            "gridcolor": "white",
            "gridwidth": 2,
            "linecolor": "white",
            "showbackground": true,
            "ticks": "",
            "zerolinecolor": "white"
           }
          },
          "shapedefaults": {
           "line": {
            "color": "#2a3f5f"
           }
          },
          "ternary": {
           "aaxis": {
            "gridcolor": "white",
            "linecolor": "white",
            "ticks": ""
           },
           "baxis": {
            "gridcolor": "white",
            "linecolor": "white",
            "ticks": ""
           },
           "bgcolor": "#E5ECF6",
           "caxis": {
            "gridcolor": "white",
            "linecolor": "white",
            "ticks": ""
           }
          },
          "title": {
           "x": 0.05
          },
          "xaxis": {
           "automargin": true,
           "gridcolor": "white",
           "linecolor": "white",
           "ticks": "",
           "title": {
            "standoff": 15
           },
           "zerolinecolor": "white",
           "zerolinewidth": 2
          },
          "yaxis": {
           "automargin": true,
           "gridcolor": "white",
           "linecolor": "white",
           "ticks": "",
           "title": {
            "standoff": 15
           },
           "zerolinecolor": "white",
           "zerolinewidth": 2
          }
         }
        },
        "xaxis": {
         "anchor": "y",
         "domain": [
          0,
          1
         ],
         "title": {
          "text": "x"
         }
        },
        "yaxis": {
         "anchor": "x",
         "domain": [
          0,
          1
         ],
         "title": {
          "text": "count"
         }
        }
       }
      },
      "text/html": [
       "<div>                            <div id=\"c604dc48-3e17-4039-afe1-145c7f947480\" class=\"plotly-graph-div\" style=\"height:525px; width:100%;\"></div>            <script type=\"text/javascript\">                require([\"plotly\"], function(Plotly) {                    window.PLOTLYENV=window.PLOTLYENV || {};                                    if (document.getElementById(\"c604dc48-3e17-4039-afe1-145c7f947480\")) {                    Plotly.newPlot(                        \"c604dc48-3e17-4039-afe1-145c7f947480\",                        [{\"alignmentgroup\":\"True\",\"bingroup\":\"x\",\"hovertemplate\":\"x=%{x}<br>count=%{y}<extra></extra>\",\"legendgroup\":\"\",\"marker\":{\"color\":\"#636efa\",\"pattern\":{\"shape\":\"\"}},\"name\":\"\",\"nbinsx\":50,\"offsetgroup\":\"\",\"orientation\":\"v\",\"showlegend\":false,\"type\":\"histogram\",\"x\":[23.7,24.0,23.5,25.4,26.5,26.6,26.9,26.7,26.8,27.6,28.6,29.0,29.3,29.8,30.0,30.4,30.9,31.2,31.8,32.9,34.1,35.6,37.8,39.8,41.1,42.6,46.6,52.1,55.6,58.5,62.5,68.3,77.8,87.0,94.3,97.8,101.9,105.5,109.6,111.2,115.7,121.1,127.4,134.6,138.1,142.6,146.2,150.3,154.4,159.1,161.6,164.3,168.8,175.1,177.1,181.7,185.2,190.7,198.3,202.416,211.08,211.143,216.687,220.22299999999998,226.665,230.28,233.916,233.707,236.916,242.83900000000003,247.86700000000002,251.71200000000002,257.971,261.582,281.14799999999997],\"xaxis\":\"x\",\"yaxis\":\"y\"}],                        {\"barmode\":\"relative\",\"legend\":{\"tracegroupgap\":0},\"margin\":{\"t\":60},\"template\":{\"data\":{\"bar\":[{\"error_x\":{\"color\":\"#2a3f5f\"},\"error_y\":{\"color\":\"#2a3f5f\"},\"marker\":{\"line\":{\"color\":\"#E5ECF6\",\"width\":0.5},\"pattern\":{\"fillmode\":\"overlay\",\"size\":10,\"solidity\":0.2}},\"type\":\"bar\"}],\"barpolar\":[{\"marker\":{\"line\":{\"color\":\"#E5ECF6\",\"width\":0.5},\"pattern\":{\"fillmode\":\"overlay\",\"size\":10,\"solidity\":0.2}},\"type\":\"barpolar\"}],\"carpet\":[{\"aaxis\":{\"endlinecolor\":\"#2a3f5f\",\"gridcolor\":\"white\",\"linecolor\":\"white\",\"minorgridcolor\":\"white\",\"startlinecolor\":\"#2a3f5f\"},\"baxis\":{\"endlinecolor\":\"#2a3f5f\",\"gridcolor\":\"white\",\"linecolor\":\"white\",\"minorgridcolor\":\"white\",\"startlinecolor\":\"#2a3f5f\"},\"type\":\"carpet\"}],\"choropleth\":[{\"colorbar\":{\"outlinewidth\":0,\"ticks\":\"\"},\"type\":\"choropleth\"}],\"contour\":[{\"colorbar\":{\"outlinewidth\":0,\"ticks\":\"\"},\"colorscale\":[[0.0,\"#0d0887\"],[0.1111111111111111,\"#46039f\"],[0.2222222222222222,\"#7201a8\"],[0.3333333333333333,\"#9c179e\"],[0.4444444444444444,\"#bd3786\"],[0.5555555555555556,\"#d8576b\"],[0.6666666666666666,\"#ed7953\"],[0.7777777777777778,\"#fb9f3a\"],[0.8888888888888888,\"#fdca26\"],[1.0,\"#f0f921\"]],\"type\":\"contour\"}],\"contourcarpet\":[{\"colorbar\":{\"outlinewidth\":0,\"ticks\":\"\"},\"type\":\"contourcarpet\"}],\"heatmap\":[{\"colorbar\":{\"outlinewidth\":0,\"ticks\":\"\"},\"colorscale\":[[0.0,\"#0d0887\"],[0.1111111111111111,\"#46039f\"],[0.2222222222222222,\"#7201a8\"],[0.3333333333333333,\"#9c179e\"],[0.4444444444444444,\"#bd3786\"],[0.5555555555555556,\"#d8576b\"],[0.6666666666666666,\"#ed7953\"],[0.7777777777777778,\"#fb9f3a\"],[0.8888888888888888,\"#fdca26\"],[1.0,\"#f0f921\"]],\"type\":\"heatmap\"}],\"heatmapgl\":[{\"colorbar\":{\"outlinewidth\":0,\"ticks\":\"\"},\"colorscale\":[[0.0,\"#0d0887\"],[0.1111111111111111,\"#46039f\"],[0.2222222222222222,\"#7201a8\"],[0.3333333333333333,\"#9c179e\"],[0.4444444444444444,\"#bd3786\"],[0.5555555555555556,\"#d8576b\"],[0.6666666666666666,\"#ed7953\"],[0.7777777777777778,\"#fb9f3a\"],[0.8888888888888888,\"#fdca26\"],[1.0,\"#f0f921\"]],\"type\":\"heatmapgl\"}],\"histogram\":[{\"marker\":{\"pattern\":{\"fillmode\":\"overlay\",\"size\":10,\"solidity\":0.2}},\"type\":\"histogram\"}],\"histogram2d\":[{\"colorbar\":{\"outlinewidth\":0,\"ticks\":\"\"},\"colorscale\":[[0.0,\"#0d0887\"],[0.1111111111111111,\"#46039f\"],[0.2222222222222222,\"#7201a8\"],[0.3333333333333333,\"#9c179e\"],[0.4444444444444444,\"#bd3786\"],[0.5555555555555556,\"#d8576b\"],[0.6666666666666666,\"#ed7953\"],[0.7777777777777778,\"#fb9f3a\"],[0.8888888888888888,\"#fdca26\"],[1.0,\"#f0f921\"]],\"type\":\"histogram2d\"}],\"histogram2dcontour\":[{\"colorbar\":{\"outlinewidth\":0,\"ticks\":\"\"},\"colorscale\":[[0.0,\"#0d0887\"],[0.1111111111111111,\"#46039f\"],[0.2222222222222222,\"#7201a8\"],[0.3333333333333333,\"#9c179e\"],[0.4444444444444444,\"#bd3786\"],[0.5555555555555556,\"#d8576b\"],[0.6666666666666666,\"#ed7953\"],[0.7777777777777778,\"#fb9f3a\"],[0.8888888888888888,\"#fdca26\"],[1.0,\"#f0f921\"]],\"type\":\"histogram2dcontour\"}],\"mesh3d\":[{\"colorbar\":{\"outlinewidth\":0,\"ticks\":\"\"},\"type\":\"mesh3d\"}],\"parcoords\":[{\"line\":{\"colorbar\":{\"outlinewidth\":0,\"ticks\":\"\"}},\"type\":\"parcoords\"}],\"pie\":[{\"automargin\":true,\"type\":\"pie\"}],\"scatter\":[{\"marker\":{\"colorbar\":{\"outlinewidth\":0,\"ticks\":\"\"}},\"type\":\"scatter\"}],\"scatter3d\":[{\"line\":{\"colorbar\":{\"outlinewidth\":0,\"ticks\":\"\"}},\"marker\":{\"colorbar\":{\"outlinewidth\":0,\"ticks\":\"\"}},\"type\":\"scatter3d\"}],\"scattercarpet\":[{\"marker\":{\"colorbar\":{\"outlinewidth\":0,\"ticks\":\"\"}},\"type\":\"scattercarpet\"}],\"scattergeo\":[{\"marker\":{\"colorbar\":{\"outlinewidth\":0,\"ticks\":\"\"}},\"type\":\"scattergeo\"}],\"scattergl\":[{\"marker\":{\"colorbar\":{\"outlinewidth\":0,\"ticks\":\"\"}},\"type\":\"scattergl\"}],\"scattermapbox\":[{\"marker\":{\"colorbar\":{\"outlinewidth\":0,\"ticks\":\"\"}},\"type\":\"scattermapbox\"}],\"scatterpolar\":[{\"marker\":{\"colorbar\":{\"outlinewidth\":0,\"ticks\":\"\"}},\"type\":\"scatterpolar\"}],\"scatterpolargl\":[{\"marker\":{\"colorbar\":{\"outlinewidth\":0,\"ticks\":\"\"}},\"type\":\"scatterpolargl\"}],\"scatterternary\":[{\"marker\":{\"colorbar\":{\"outlinewidth\":0,\"ticks\":\"\"}},\"type\":\"scatterternary\"}],\"surface\":[{\"colorbar\":{\"outlinewidth\":0,\"ticks\":\"\"},\"colorscale\":[[0.0,\"#0d0887\"],[0.1111111111111111,\"#46039f\"],[0.2222222222222222,\"#7201a8\"],[0.3333333333333333,\"#9c179e\"],[0.4444444444444444,\"#bd3786\"],[0.5555555555555556,\"#d8576b\"],[0.6666666666666666,\"#ed7953\"],[0.7777777777777778,\"#fb9f3a\"],[0.8888888888888888,\"#fdca26\"],[1.0,\"#f0f921\"]],\"type\":\"surface\"}],\"table\":[{\"cells\":{\"fill\":{\"color\":\"#EBF0F8\"},\"line\":{\"color\":\"white\"}},\"header\":{\"fill\":{\"color\":\"#C8D4E3\"},\"line\":{\"color\":\"white\"}},\"type\":\"table\"}]},\"layout\":{\"annotationdefaults\":{\"arrowcolor\":\"#2a3f5f\",\"arrowhead\":0,\"arrowwidth\":1},\"autotypenumbers\":\"strict\",\"coloraxis\":{\"colorbar\":{\"outlinewidth\":0,\"ticks\":\"\"}},\"colorscale\":{\"diverging\":[[0,\"#8e0152\"],[0.1,\"#c51b7d\"],[0.2,\"#de77ae\"],[0.3,\"#f1b6da\"],[0.4,\"#fde0ef\"],[0.5,\"#f7f7f7\"],[0.6,\"#e6f5d0\"],[0.7,\"#b8e186\"],[0.8,\"#7fbc41\"],[0.9,\"#4d9221\"],[1,\"#276419\"]],\"sequential\":[[0.0,\"#0d0887\"],[0.1111111111111111,\"#46039f\"],[0.2222222222222222,\"#7201a8\"],[0.3333333333333333,\"#9c179e\"],[0.4444444444444444,\"#bd3786\"],[0.5555555555555556,\"#d8576b\"],[0.6666666666666666,\"#ed7953\"],[0.7777777777777778,\"#fb9f3a\"],[0.8888888888888888,\"#fdca26\"],[1.0,\"#f0f921\"]],\"sequentialminus\":[[0.0,\"#0d0887\"],[0.1111111111111111,\"#46039f\"],[0.2222222222222222,\"#7201a8\"],[0.3333333333333333,\"#9c179e\"],[0.4444444444444444,\"#bd3786\"],[0.5555555555555556,\"#d8576b\"],[0.6666666666666666,\"#ed7953\"],[0.7777777777777778,\"#fb9f3a\"],[0.8888888888888888,\"#fdca26\"],[1.0,\"#f0f921\"]]},\"colorway\":[\"#636efa\",\"#EF553B\",\"#00cc96\",\"#ab63fa\",\"#FFA15A\",\"#19d3f3\",\"#FF6692\",\"#B6E880\",\"#FF97FF\",\"#FECB52\"],\"font\":{\"color\":\"#2a3f5f\"},\"geo\":{\"bgcolor\":\"white\",\"lakecolor\":\"white\",\"landcolor\":\"#E5ECF6\",\"showlakes\":true,\"showland\":true,\"subunitcolor\":\"white\"},\"hoverlabel\":{\"align\":\"left\"},\"hovermode\":\"closest\",\"mapbox\":{\"style\":\"light\"},\"paper_bgcolor\":\"white\",\"plot_bgcolor\":\"#E5ECF6\",\"polar\":{\"angularaxis\":{\"gridcolor\":\"white\",\"linecolor\":\"white\",\"ticks\":\"\"},\"bgcolor\":\"#E5ECF6\",\"radialaxis\":{\"gridcolor\":\"white\",\"linecolor\":\"white\",\"ticks\":\"\"}},\"scene\":{\"xaxis\":{\"backgroundcolor\":\"#E5ECF6\",\"gridcolor\":\"white\",\"gridwidth\":2,\"linecolor\":\"white\",\"showbackground\":true,\"ticks\":\"\",\"zerolinecolor\":\"white\"},\"yaxis\":{\"backgroundcolor\":\"#E5ECF6\",\"gridcolor\":\"white\",\"gridwidth\":2,\"linecolor\":\"white\",\"showbackground\":true,\"ticks\":\"\",\"zerolinecolor\":\"white\"},\"zaxis\":{\"backgroundcolor\":\"#E5ECF6\",\"gridcolor\":\"white\",\"gridwidth\":2,\"linecolor\":\"white\",\"showbackground\":true,\"ticks\":\"\",\"zerolinecolor\":\"white\"}},\"shapedefaults\":{\"line\":{\"color\":\"#2a3f5f\"}},\"ternary\":{\"aaxis\":{\"gridcolor\":\"white\",\"linecolor\":\"white\",\"ticks\":\"\"},\"baxis\":{\"gridcolor\":\"white\",\"linecolor\":\"white\",\"ticks\":\"\"},\"bgcolor\":\"#E5ECF6\",\"caxis\":{\"gridcolor\":\"white\",\"linecolor\":\"white\",\"ticks\":\"\"}},\"title\":{\"x\":0.05},\"xaxis\":{\"automargin\":true,\"gridcolor\":\"white\",\"linecolor\":\"white\",\"ticks\":\"\",\"title\":{\"standoff\":15},\"zerolinecolor\":\"white\",\"zerolinewidth\":2},\"yaxis\":{\"automargin\":true,\"gridcolor\":\"white\",\"linecolor\":\"white\",\"ticks\":\"\",\"title\":{\"standoff\":15},\"zerolinecolor\":\"white\",\"zerolinewidth\":2}}},\"xaxis\":{\"anchor\":\"y\",\"domain\":[0.0,1.0],\"title\":{\"text\":\"x\"}},\"yaxis\":{\"anchor\":\"x\",\"domain\":[0.0,1.0],\"title\":{\"text\":\"count\"}}},                        {\"responsive\": true}                    ).then(function(){\n",
       "                            \n",
       "var gd = document.getElementById('c604dc48-3e17-4039-afe1-145c7f947480');\n",
       "var x = new MutationObserver(function (mutations, observer) {{\n",
       "        var display = window.getComputedStyle(gd).display;\n",
       "        if (!display || display === 'none') {{\n",
       "            console.log([gd, 'removed!']);\n",
       "            Plotly.purge(gd);\n",
       "            observer.disconnect();\n",
       "        }}\n",
       "}});\n",
       "\n",
       "// Listen for the removal of the full notebook cells\n",
       "var notebookContainer = gd.closest('#notebook-container');\n",
       "if (notebookContainer) {{\n",
       "    x.observe(notebookContainer, {childList: true});\n",
       "}}\n",
       "\n",
       "// Listen for the clearing of the current output cell\n",
       "var outputEl = gd.closest('.output');\n",
       "if (outputEl) {{\n",
       "    x.observe(outputEl, {childList: true});\n",
       "}}\n",
       "\n",
       "                        })                };                });            </script>        </div>"
      ]
     },
     "metadata": {},
     "output_type": "display_data"
    }
   ],
   "source": [
    "fig = px.histogram(cpi_u[\"Year\"], x=cpi_u['Jan'], nbins=50)\n",
    "fig.show()"
   ]
  },
  {
   "cell_type": "code",
   "execution_count": null,
   "metadata": {},
   "outputs": [],
   "source": []
  },
  {
   "cell_type": "code",
   "execution_count": null,
   "metadata": {},
   "outputs": [],
   "source": []
  },
  {
   "cell_type": "code",
   "execution_count": 111,
   "metadata": {
    "collapsed": true
   },
   "outputs": [
    {
     "ename": "AttributeError",
     "evalue": "module 'plotly.express' has no attribute 'pairplot'",
     "output_type": "error",
     "traceback": [
      "\u001b[0;31m---------------------------------------------------------------------------\u001b[0m",
      "\u001b[0;31mAttributeError\u001b[0m                            Traceback (most recent call last)",
      "\u001b[0;32m/var/folders/q3/0g1f31211lbgj741dfjd4r5c0000gn/T/ipykernel_23292/4014133617.py\u001b[0m in \u001b[0;36m<module>\u001b[0;34m\u001b[0m\n\u001b[0;32m----> 1\u001b[0;31m \u001b[0mfig\u001b[0m \u001b[0;34m=\u001b[0m \u001b[0mpx\u001b[0m\u001b[0;34m.\u001b[0m\u001b[0mpairplot\u001b[0m\u001b[0;34m(\u001b[0m\u001b[0mcpi_u\u001b[0m\u001b[0;34m,\u001b[0m \u001b[0mdiag_kind\u001b[0m\u001b[0;34m=\u001b[0m\u001b[0;34m\"kde\"\u001b[0m\u001b[0;34m)\u001b[0m\u001b[0;34m\u001b[0m\u001b[0;34m\u001b[0m\u001b[0m\n\u001b[0m\u001b[1;32m      2\u001b[0m \u001b[0mfig\u001b[0m\u001b[0;34m.\u001b[0m\u001b[0mshow\u001b[0m\u001b[0;34m(\u001b[0m\u001b[0;34m)\u001b[0m\u001b[0;34m\u001b[0m\u001b[0;34m\u001b[0m\u001b[0m\n",
      "\u001b[0;31mAttributeError\u001b[0m: module 'plotly.express' has no attribute 'pairplot'"
     ]
    }
   ],
   "source": [
    "fig = px.pairplot(cpi_u, diag_kind=\"kde\")\n",
    "fig.show()"
   ]
  },
  {
   "cell_type": "markdown",
   "metadata": {},
   "source": [
    "As we would expect, all values share closely related means and standared deviations, but we want to drill down on the variance of the distributions."
   ]
  },
  {
   "cell_type": "code",
   "execution_count": 113,
   "metadata": {
    "collapsed": true
   },
   "outputs": [
    {
     "name": "stderr",
     "output_type": "stream",
     "text": [
      "/opt/anaconda3/lib/python3.8/site-packages/_plotly_utils/basevalidators.py:776: RuntimeWarning:\n",
      "\n",
      "invalid value encountered in greater_equal\n",
      "\n",
      "/opt/anaconda3/lib/python3.8/site-packages/_plotly_utils/basevalidators.py:776: RuntimeWarning:\n",
      "\n",
      "invalid value encountered in less_equal\n",
      "\n"
     ]
    },
    {
     "ename": "ValueError",
     "evalue": "\n    Invalid element(s) received for the 'size' property of scatter.marker\n        Invalid elements include: [nan]\n\n    The 'size' property is a number and may be specified as:\n      - An int or float in the interval [0, inf]\n      - A tuple, list, or one-dimensional numpy array of the above",
     "output_type": "error",
     "traceback": [
      "\u001b[0;31m---------------------------------------------------------------------------\u001b[0m",
      "\u001b[0;31mValueError\u001b[0m                                Traceback (most recent call last)",
      "\u001b[0;32m/var/folders/q3/0g1f31211lbgj741dfjd4r5c0000gn/T/ipykernel_23292/3762609936.py\u001b[0m in \u001b[0;36m<module>\u001b[0;34m\u001b[0m\n\u001b[0;32m----> 1\u001b[0;31m \u001b[0mfig\u001b[0m \u001b[0;34m=\u001b[0m \u001b[0mpx\u001b[0m\u001b[0;34m.\u001b[0m\u001b[0mscatter\u001b[0m\u001b[0;34m(\u001b[0m\u001b[0mcpi_u\u001b[0m\u001b[0;34m,\u001b[0m \u001b[0mx\u001b[0m\u001b[0;34m=\u001b[0m\u001b[0mcpi_u\u001b[0m\u001b[0;34m[\u001b[0m\u001b[0;34m\"Jan\"\u001b[0m\u001b[0;34m]\u001b[0m\u001b[0;34m,\u001b[0m \u001b[0my\u001b[0m\u001b[0;34m=\u001b[0m\u001b[0;34m\"May\"\u001b[0m\u001b[0;34m,\u001b[0m \u001b[0mcolor\u001b[0m\u001b[0;34m=\u001b[0m\u001b[0;34m\"Jun\"\u001b[0m\u001b[0;34m,\u001b[0m \u001b[0msize\u001b[0m\u001b[0;34m=\u001b[0m\u001b[0;34m\"Aug\"\u001b[0m\u001b[0;34m)\u001b[0m\u001b[0;34m\u001b[0m\u001b[0;34m\u001b[0m\u001b[0m\n\u001b[0m\u001b[1;32m      2\u001b[0m \u001b[0mfig\u001b[0m\u001b[0;34m.\u001b[0m\u001b[0mshow\u001b[0m\u001b[0;34m(\u001b[0m\u001b[0;34m)\u001b[0m\u001b[0;34m\u001b[0m\u001b[0;34m\u001b[0m\u001b[0m\n",
      "\u001b[0;32m/opt/anaconda3/lib/python3.8/site-packages/plotly/express/_chart_types.py\u001b[0m in \u001b[0;36mscatter\u001b[0;34m(data_frame, x, y, color, symbol, size, hover_name, hover_data, custom_data, text, facet_row, facet_col, facet_col_wrap, facet_row_spacing, facet_col_spacing, error_x, error_x_minus, error_y, error_y_minus, animation_frame, animation_group, category_orders, labels, orientation, color_discrete_sequence, color_discrete_map, color_continuous_scale, range_color, color_continuous_midpoint, symbol_sequence, symbol_map, opacity, size_max, marginal_x, marginal_y, trendline, trendline_color_override, log_x, log_y, range_x, range_y, render_mode, title, template, width, height)\u001b[0m\n\u001b[1;32m     62\u001b[0m     \u001b[0mmark\u001b[0m \u001b[0;32min\u001b[0m \u001b[0;36m2\u001b[0m\u001b[0mD\u001b[0m \u001b[0mspace\u001b[0m\u001b[0;34m.\u001b[0m\u001b[0;34m\u001b[0m\u001b[0;34m\u001b[0m\u001b[0m\n\u001b[1;32m     63\u001b[0m     \"\"\"\n\u001b[0;32m---> 64\u001b[0;31m     \u001b[0;32mreturn\u001b[0m \u001b[0mmake_figure\u001b[0m\u001b[0;34m(\u001b[0m\u001b[0margs\u001b[0m\u001b[0;34m=\u001b[0m\u001b[0mlocals\u001b[0m\u001b[0;34m(\u001b[0m\u001b[0;34m)\u001b[0m\u001b[0;34m,\u001b[0m \u001b[0mconstructor\u001b[0m\u001b[0;34m=\u001b[0m\u001b[0mgo\u001b[0m\u001b[0;34m.\u001b[0m\u001b[0mScatter\u001b[0m\u001b[0;34m)\u001b[0m\u001b[0;34m\u001b[0m\u001b[0;34m\u001b[0m\u001b[0m\n\u001b[0m\u001b[1;32m     65\u001b[0m \u001b[0;34m\u001b[0m\u001b[0m\n\u001b[1;32m     66\u001b[0m \u001b[0;34m\u001b[0m\u001b[0m\n",
      "\u001b[0;32m/opt/anaconda3/lib/python3.8/site-packages/plotly/express/_core.py\u001b[0m in \u001b[0;36mmake_figure\u001b[0;34m(args, constructor, trace_patch, layout_patch)\u001b[0m\n\u001b[1;32m   2040\u001b[0m                 \u001b[0margs\u001b[0m\u001b[0;34m,\u001b[0m \u001b[0mtrace_spec\u001b[0m\u001b[0;34m,\u001b[0m \u001b[0mgroup\u001b[0m\u001b[0;34m,\u001b[0m \u001b[0mmapping_labels\u001b[0m\u001b[0;34m.\u001b[0m\u001b[0mcopy\u001b[0m\u001b[0;34m(\u001b[0m\u001b[0;34m)\u001b[0m\u001b[0;34m,\u001b[0m \u001b[0msizeref\u001b[0m\u001b[0;34m\u001b[0m\u001b[0;34m\u001b[0m\u001b[0m\n\u001b[1;32m   2041\u001b[0m             )\n\u001b[0;32m-> 2042\u001b[0;31m             \u001b[0mtrace\u001b[0m\u001b[0;34m.\u001b[0m\u001b[0mupdate\u001b[0m\u001b[0;34m(\u001b[0m\u001b[0mpatch\u001b[0m\u001b[0;34m)\u001b[0m\u001b[0;34m\u001b[0m\u001b[0;34m\u001b[0m\u001b[0m\n\u001b[0m\u001b[1;32m   2043\u001b[0m             \u001b[0;32mif\u001b[0m \u001b[0mfit_results\u001b[0m \u001b[0;32mis\u001b[0m \u001b[0;32mnot\u001b[0m \u001b[0;32mNone\u001b[0m\u001b[0;34m:\u001b[0m\u001b[0;34m\u001b[0m\u001b[0;34m\u001b[0m\u001b[0m\n\u001b[1;32m   2044\u001b[0m                 \u001b[0mtrendline_rows\u001b[0m\u001b[0;34m.\u001b[0m\u001b[0mappend\u001b[0m\u001b[0;34m(\u001b[0m\u001b[0mmapping_labels\u001b[0m\u001b[0;34m.\u001b[0m\u001b[0mcopy\u001b[0m\u001b[0;34m(\u001b[0m\u001b[0;34m)\u001b[0m\u001b[0;34m)\u001b[0m\u001b[0;34m\u001b[0m\u001b[0;34m\u001b[0m\u001b[0m\n",
      "\u001b[0;32m/opt/anaconda3/lib/python3.8/site-packages/plotly/basedatatypes.py\u001b[0m in \u001b[0;36mupdate\u001b[0;34m(self, dict1, overwrite, **kwargs)\u001b[0m\n\u001b[1;32m   5082\u001b[0m                 \u001b[0mBaseFigure\u001b[0m\u001b[0;34m.\u001b[0m\u001b[0m_perform_update\u001b[0m\u001b[0;34m(\u001b[0m\u001b[0mself\u001b[0m\u001b[0;34m,\u001b[0m \u001b[0mkwargs\u001b[0m\u001b[0;34m,\u001b[0m \u001b[0moverwrite\u001b[0m\u001b[0;34m=\u001b[0m\u001b[0moverwrite\u001b[0m\u001b[0;34m)\u001b[0m\u001b[0;34m\u001b[0m\u001b[0;34m\u001b[0m\u001b[0m\n\u001b[1;32m   5083\u001b[0m         \u001b[0;32melse\u001b[0m\u001b[0;34m:\u001b[0m\u001b[0;34m\u001b[0m\u001b[0;34m\u001b[0m\u001b[0m\n\u001b[0;32m-> 5084\u001b[0;31m             \u001b[0mBaseFigure\u001b[0m\u001b[0;34m.\u001b[0m\u001b[0m_perform_update\u001b[0m\u001b[0;34m(\u001b[0m\u001b[0mself\u001b[0m\u001b[0;34m,\u001b[0m \u001b[0mdict1\u001b[0m\u001b[0;34m,\u001b[0m \u001b[0moverwrite\u001b[0m\u001b[0;34m=\u001b[0m\u001b[0moverwrite\u001b[0m\u001b[0;34m)\u001b[0m\u001b[0;34m\u001b[0m\u001b[0;34m\u001b[0m\u001b[0m\n\u001b[0m\u001b[1;32m   5085\u001b[0m             \u001b[0mBaseFigure\u001b[0m\u001b[0;34m.\u001b[0m\u001b[0m_perform_update\u001b[0m\u001b[0;34m(\u001b[0m\u001b[0mself\u001b[0m\u001b[0;34m,\u001b[0m \u001b[0mkwargs\u001b[0m\u001b[0;34m,\u001b[0m \u001b[0moverwrite\u001b[0m\u001b[0;34m=\u001b[0m\u001b[0moverwrite\u001b[0m\u001b[0;34m)\u001b[0m\u001b[0;34m\u001b[0m\u001b[0;34m\u001b[0m\u001b[0m\n\u001b[1;32m   5086\u001b[0m \u001b[0;34m\u001b[0m\u001b[0m\n",
      "\u001b[0;32m/opt/anaconda3/lib/python3.8/site-packages/plotly/basedatatypes.py\u001b[0m in \u001b[0;36m_perform_update\u001b[0;34m(plotly_obj, update_obj, overwrite)\u001b[0m\n\u001b[1;32m   3898\u001b[0m                     \u001b[0;31m# Update compound objects recursively\u001b[0m\u001b[0;34m\u001b[0m\u001b[0;34m\u001b[0m\u001b[0;34m\u001b[0m\u001b[0m\n\u001b[1;32m   3899\u001b[0m                     \u001b[0;31m# plotly_obj[key].update(val)\u001b[0m\u001b[0;34m\u001b[0m\u001b[0;34m\u001b[0m\u001b[0;34m\u001b[0m\u001b[0m\n\u001b[0;32m-> 3900\u001b[0;31m                     \u001b[0mBaseFigure\u001b[0m\u001b[0;34m.\u001b[0m\u001b[0m_perform_update\u001b[0m\u001b[0;34m(\u001b[0m\u001b[0mplotly_obj\u001b[0m\u001b[0;34m[\u001b[0m\u001b[0mkey\u001b[0m\u001b[0;34m]\u001b[0m\u001b[0;34m,\u001b[0m \u001b[0mval\u001b[0m\u001b[0;34m)\u001b[0m\u001b[0;34m\u001b[0m\u001b[0;34m\u001b[0m\u001b[0m\n\u001b[0m\u001b[1;32m   3901\u001b[0m                 \u001b[0;32melif\u001b[0m \u001b[0misinstance\u001b[0m\u001b[0;34m(\u001b[0m\u001b[0mvalidator\u001b[0m\u001b[0;34m,\u001b[0m \u001b[0mCompoundArrayValidator\u001b[0m\u001b[0;34m)\u001b[0m\u001b[0;34m:\u001b[0m\u001b[0;34m\u001b[0m\u001b[0;34m\u001b[0m\u001b[0m\n\u001b[1;32m   3902\u001b[0m                     \u001b[0;32mif\u001b[0m \u001b[0mplotly_obj\u001b[0m\u001b[0;34m[\u001b[0m\u001b[0mkey\u001b[0m\u001b[0;34m]\u001b[0m\u001b[0;34m:\u001b[0m\u001b[0;34m\u001b[0m\u001b[0;34m\u001b[0m\u001b[0m\n",
      "\u001b[0;32m/opt/anaconda3/lib/python3.8/site-packages/plotly/basedatatypes.py\u001b[0m in \u001b[0;36m_perform_update\u001b[0;34m(plotly_obj, update_obj, overwrite)\u001b[0m\n\u001b[1;32m   3919\u001b[0m                 \u001b[0;32melse\u001b[0m\u001b[0;34m:\u001b[0m\u001b[0;34m\u001b[0m\u001b[0;34m\u001b[0m\u001b[0m\n\u001b[1;32m   3920\u001b[0m                     \u001b[0;31m# Assign non-compound value\u001b[0m\u001b[0;34m\u001b[0m\u001b[0;34m\u001b[0m\u001b[0;34m\u001b[0m\u001b[0m\n\u001b[0;32m-> 3921\u001b[0;31m                     \u001b[0mplotly_obj\u001b[0m\u001b[0;34m[\u001b[0m\u001b[0mkey\u001b[0m\u001b[0;34m]\u001b[0m \u001b[0;34m=\u001b[0m \u001b[0mval\u001b[0m\u001b[0;34m\u001b[0m\u001b[0;34m\u001b[0m\u001b[0m\n\u001b[0m\u001b[1;32m   3922\u001b[0m \u001b[0;34m\u001b[0m\u001b[0m\n\u001b[1;32m   3923\u001b[0m         \u001b[0;32melif\u001b[0m \u001b[0misinstance\u001b[0m\u001b[0;34m(\u001b[0m\u001b[0mplotly_obj\u001b[0m\u001b[0;34m,\u001b[0m \u001b[0mtuple\u001b[0m\u001b[0;34m)\u001b[0m\u001b[0;34m:\u001b[0m\u001b[0;34m\u001b[0m\u001b[0;34m\u001b[0m\u001b[0m\n",
      "\u001b[0;32m/opt/anaconda3/lib/python3.8/site-packages/plotly/basedatatypes.py\u001b[0m in \u001b[0;36m__setitem__\u001b[0;34m(self, prop, value)\u001b[0m\n\u001b[1;32m   4817\u001b[0m                 \u001b[0;31m# ### Handle simple property ###\u001b[0m\u001b[0;34m\u001b[0m\u001b[0;34m\u001b[0m\u001b[0;34m\u001b[0m\u001b[0m\n\u001b[1;32m   4818\u001b[0m                 \u001b[0;32melse\u001b[0m\u001b[0;34m:\u001b[0m\u001b[0;34m\u001b[0m\u001b[0;34m\u001b[0m\u001b[0m\n\u001b[0;32m-> 4819\u001b[0;31m                     \u001b[0mself\u001b[0m\u001b[0;34m.\u001b[0m\u001b[0m_set_prop\u001b[0m\u001b[0;34m(\u001b[0m\u001b[0mprop\u001b[0m\u001b[0;34m,\u001b[0m \u001b[0mvalue\u001b[0m\u001b[0;34m)\u001b[0m\u001b[0;34m\u001b[0m\u001b[0;34m\u001b[0m\u001b[0m\n\u001b[0m\u001b[1;32m   4820\u001b[0m             \u001b[0;32melse\u001b[0m\u001b[0;34m:\u001b[0m\u001b[0;34m\u001b[0m\u001b[0;34m\u001b[0m\u001b[0m\n\u001b[1;32m   4821\u001b[0m                 \u001b[0;31m# Make sure properties dict is initialized\u001b[0m\u001b[0;34m\u001b[0m\u001b[0;34m\u001b[0m\u001b[0;34m\u001b[0m\u001b[0m\n",
      "\u001b[0;32m/opt/anaconda3/lib/python3.8/site-packages/plotly/basedatatypes.py\u001b[0m in \u001b[0;36m_set_prop\u001b[0;34m(self, prop, val)\u001b[0m\n\u001b[1;32m   5161\u001b[0m                 \u001b[0;32mreturn\u001b[0m\u001b[0;34m\u001b[0m\u001b[0;34m\u001b[0m\u001b[0m\n\u001b[1;32m   5162\u001b[0m             \u001b[0;32melse\u001b[0m\u001b[0;34m:\u001b[0m\u001b[0;34m\u001b[0m\u001b[0;34m\u001b[0m\u001b[0m\n\u001b[0;32m-> 5163\u001b[0;31m                 \u001b[0;32mraise\u001b[0m \u001b[0merr\u001b[0m\u001b[0;34m\u001b[0m\u001b[0;34m\u001b[0m\u001b[0m\n\u001b[0m\u001b[1;32m   5164\u001b[0m \u001b[0;34m\u001b[0m\u001b[0m\n\u001b[1;32m   5165\u001b[0m         \u001b[0;31m# val is None\u001b[0m\u001b[0;34m\u001b[0m\u001b[0;34m\u001b[0m\u001b[0;34m\u001b[0m\u001b[0m\n",
      "\u001b[0;32m/opt/anaconda3/lib/python3.8/site-packages/plotly/basedatatypes.py\u001b[0m in \u001b[0;36m_set_prop\u001b[0;34m(self, prop, val)\u001b[0m\n\u001b[1;32m   5156\u001b[0m \u001b[0;34m\u001b[0m\u001b[0m\n\u001b[1;32m   5157\u001b[0m         \u001b[0;32mtry\u001b[0m\u001b[0;34m:\u001b[0m\u001b[0;34m\u001b[0m\u001b[0;34m\u001b[0m\u001b[0m\n\u001b[0;32m-> 5158\u001b[0;31m             \u001b[0mval\u001b[0m \u001b[0;34m=\u001b[0m \u001b[0mvalidator\u001b[0m\u001b[0;34m.\u001b[0m\u001b[0mvalidate_coerce\u001b[0m\u001b[0;34m(\u001b[0m\u001b[0mval\u001b[0m\u001b[0;34m)\u001b[0m\u001b[0;34m\u001b[0m\u001b[0;34m\u001b[0m\u001b[0m\n\u001b[0m\u001b[1;32m   5159\u001b[0m         \u001b[0;32mexcept\u001b[0m \u001b[0mValueError\u001b[0m \u001b[0;32mas\u001b[0m \u001b[0merr\u001b[0m\u001b[0;34m:\u001b[0m\u001b[0;34m\u001b[0m\u001b[0;34m\u001b[0m\u001b[0m\n\u001b[1;32m   5160\u001b[0m             \u001b[0;32mif\u001b[0m \u001b[0mself\u001b[0m\u001b[0;34m.\u001b[0m\u001b[0m_skip_invalid\u001b[0m\u001b[0;34m:\u001b[0m\u001b[0;34m\u001b[0m\u001b[0;34m\u001b[0m\u001b[0m\n",
      "\u001b[0;32m/opt/anaconda3/lib/python3.8/site-packages/_plotly_utils/basevalidators.py\u001b[0m in \u001b[0;36mvalidate_coerce\u001b[0;34m(self, v)\u001b[0m\n\u001b[1;32m    784\u001b[0m                     ].tolist()\n\u001b[1;32m    785\u001b[0m \u001b[0;34m\u001b[0m\u001b[0m\n\u001b[0;32m--> 786\u001b[0;31m                     \u001b[0mself\u001b[0m\u001b[0;34m.\u001b[0m\u001b[0mraise_invalid_elements\u001b[0m\u001b[0;34m(\u001b[0m\u001b[0msome_invalid_els\u001b[0m\u001b[0;34m)\u001b[0m\u001b[0;34m\u001b[0m\u001b[0;34m\u001b[0m\u001b[0m\n\u001b[0m\u001b[1;32m    787\u001b[0m \u001b[0;34m\u001b[0m\u001b[0m\n\u001b[1;32m    788\u001b[0m             \u001b[0mv\u001b[0m \u001b[0;34m=\u001b[0m \u001b[0mv_array\u001b[0m  \u001b[0;31m# Always numeric numpy array\u001b[0m\u001b[0;34m\u001b[0m\u001b[0;34m\u001b[0m\u001b[0m\n",
      "\u001b[0;32m/opt/anaconda3/lib/python3.8/site-packages/_plotly_utils/basevalidators.py\u001b[0m in \u001b[0;36mraise_invalid_elements\u001b[0;34m(self, invalid_els)\u001b[0m\n\u001b[1;32m    304\u001b[0m     \u001b[0;32mdef\u001b[0m \u001b[0mraise_invalid_elements\u001b[0m\u001b[0;34m(\u001b[0m\u001b[0mself\u001b[0m\u001b[0;34m,\u001b[0m \u001b[0minvalid_els\u001b[0m\u001b[0;34m)\u001b[0m\u001b[0;34m:\u001b[0m\u001b[0;34m\u001b[0m\u001b[0;34m\u001b[0m\u001b[0m\n\u001b[1;32m    305\u001b[0m         \u001b[0;32mif\u001b[0m \u001b[0minvalid_els\u001b[0m\u001b[0;34m:\u001b[0m\u001b[0;34m\u001b[0m\u001b[0;34m\u001b[0m\u001b[0m\n\u001b[0;32m--> 306\u001b[0;31m             raise ValueError(\n\u001b[0m\u001b[1;32m    307\u001b[0m                 \"\"\"\n\u001b[1;32m    308\u001b[0m     \u001b[0mInvalid\u001b[0m \u001b[0melement\u001b[0m\u001b[0;34m(\u001b[0m\u001b[0ms\u001b[0m\u001b[0;34m)\u001b[0m \u001b[0mreceived\u001b[0m \u001b[0;32mfor\u001b[0m \u001b[0mthe\u001b[0m \u001b[0;34m'{name}'\u001b[0m \u001b[0mproperty\u001b[0m \u001b[0mof\u001b[0m \u001b[0;34m{\u001b[0m\u001b[0mpname\u001b[0m\u001b[0;34m}\u001b[0m\u001b[0;34m\u001b[0m\u001b[0;34m\u001b[0m\u001b[0m\n",
      "\u001b[0;31mValueError\u001b[0m: \n    Invalid element(s) received for the 'size' property of scatter.marker\n        Invalid elements include: [nan]\n\n    The 'size' property is a number and may be specified as:\n      - An int or float in the interval [0, inf]\n      - A tuple, list, or one-dimensional numpy array of the above"
     ]
    }
   ],
   "source": [
    "fig = px.scatter(cpi_u, x=cpi_u[\"Jan\"], y=\"May\", color=\"Jun\", size=\"Aug\")\n",
    "fig.show()"
   ]
  },
  {
   "cell_type": "markdown",
   "metadata": {},
   "source": [
    "\n",
    "## Model Development\n"
   ]
  },
  {
   "cell_type": "code",
   "execution_count": 2,
   "metadata": {},
   "outputs": [],
   "source": [
    "import tensorflow as tf"
   ]
  },
  {
   "cell_type": "code",
   "execution_count": 52,
   "metadata": {},
   "outputs": [
    {
     "data": {
      "text/html": [
       "<div>\n",
       "<style scoped>\n",
       "    .dataframe tbody tr th:only-of-type {\n",
       "        vertical-align: middle;\n",
       "    }\n",
       "\n",
       "    .dataframe tbody tr th {\n",
       "        vertical-align: top;\n",
       "    }\n",
       "\n",
       "    .dataframe thead th {\n",
       "        text-align: right;\n",
       "    }\n",
       "</style>\n",
       "<table border=\"1\" class=\"dataframe\">\n",
       "  <thead>\n",
       "    <tr style=\"text-align: right;\">\n",
       "      <th></th>\n",
       "      <th>Jan</th>\n",
       "      <th>Feb</th>\n",
       "      <th>Mar</th>\n",
       "      <th>Apr</th>\n",
       "      <th>May</th>\n",
       "      <th>Jun</th>\n",
       "      <th>Jul</th>\n",
       "      <th>Aug</th>\n",
       "      <th>Sep</th>\n",
       "      <th>Oct</th>\n",
       "      <th>Nov</th>\n",
       "      <th>Dec</th>\n",
       "    </tr>\n",
       "    <tr>\n",
       "      <th>Year</th>\n",
       "      <th></th>\n",
       "      <th></th>\n",
       "      <th></th>\n",
       "      <th></th>\n",
       "      <th></th>\n",
       "      <th></th>\n",
       "      <th></th>\n",
       "      <th></th>\n",
       "      <th></th>\n",
       "      <th></th>\n",
       "      <th></th>\n",
       "      <th></th>\n",
       "    </tr>\n",
       "  </thead>\n",
       "  <tbody>\n",
       "    <tr>\n",
       "      <th>1948</th>\n",
       "      <td>23.8</td>\n",
       "      <td>23.6</td>\n",
       "      <td>23.6</td>\n",
       "      <td>23.9</td>\n",
       "      <td>24.1</td>\n",
       "      <td>24.2</td>\n",
       "      <td>24.5</td>\n",
       "      <td>24.6</td>\n",
       "      <td>24.6</td>\n",
       "      <td>24.5</td>\n",
       "      <td>24.4</td>\n",
       "      <td>24.2</td>\n",
       "    </tr>\n",
       "    <tr>\n",
       "      <th>1949</th>\n",
       "      <td>24.2</td>\n",
       "      <td>23.9</td>\n",
       "      <td>24.0</td>\n",
       "      <td>24.0</td>\n",
       "      <td>24.0</td>\n",
       "      <td>24.0</td>\n",
       "      <td>23.8</td>\n",
       "      <td>23.9</td>\n",
       "      <td>24.0</td>\n",
       "      <td>23.9</td>\n",
       "      <td>23.9</td>\n",
       "      <td>23.8</td>\n",
       "    </tr>\n",
       "    <tr>\n",
       "      <th>1950</th>\n",
       "      <td>23.7</td>\n",
       "      <td>23.6</td>\n",
       "      <td>23.7</td>\n",
       "      <td>23.7</td>\n",
       "      <td>23.8</td>\n",
       "      <td>24.0</td>\n",
       "      <td>24.2</td>\n",
       "      <td>24.4</td>\n",
       "      <td>24.6</td>\n",
       "      <td>24.7</td>\n",
       "      <td>24.8</td>\n",
       "      <td>25.1</td>\n",
       "    </tr>\n",
       "    <tr>\n",
       "      <th>1951</th>\n",
       "      <td>25.5</td>\n",
       "      <td>25.9</td>\n",
       "      <td>26.0</td>\n",
       "      <td>26.0</td>\n",
       "      <td>26.1</td>\n",
       "      <td>26.1</td>\n",
       "      <td>26.1</td>\n",
       "      <td>26.1</td>\n",
       "      <td>26.3</td>\n",
       "      <td>26.4</td>\n",
       "      <td>26.5</td>\n",
       "      <td>26.6</td>\n",
       "    </tr>\n",
       "    <tr>\n",
       "      <th>1952</th>\n",
       "      <td>26.6</td>\n",
       "      <td>26.5</td>\n",
       "      <td>26.5</td>\n",
       "      <td>26.6</td>\n",
       "      <td>26.6</td>\n",
       "      <td>26.7</td>\n",
       "      <td>26.9</td>\n",
       "      <td>26.9</td>\n",
       "      <td>26.9</td>\n",
       "      <td>26.9</td>\n",
       "      <td>26.9</td>\n",
       "      <td>26.9</td>\n",
       "    </tr>\n",
       "  </tbody>\n",
       "</table>\n",
       "</div>"
      ],
      "text/plain": [
       "       Jan   Feb   Mar   Apr   May   Jun   Jul   Aug   Sep   Oct   Nov   Dec\n",
       "Year                                                                        \n",
       "1948  23.8  23.6  23.6  23.9  24.1  24.2  24.5  24.6  24.6  24.5  24.4  24.2\n",
       "1949  24.2  23.9  24.0  24.0  24.0  24.0  23.8  23.9  24.0  23.9  23.9  23.8\n",
       "1950  23.7  23.6  23.7  23.7  23.8  24.0  24.2  24.4  24.6  24.7  24.8  25.1\n",
       "1951  25.5  25.9  26.0  26.0  26.1  26.1  26.1  26.1  26.3  26.4  26.5  26.6\n",
       "1952  26.6  26.5  26.5  26.6  26.6  26.7  26.9  26.9  26.9  26.9  26.9  26.9"
      ]
     },
     "execution_count": 52,
     "metadata": {},
     "output_type": "execute_result"
    }
   ],
   "source": [
    "# Range of time series is 73 years period 1948-2021\n",
    "cpi = pd.read_csv('/Users/jasonrobinson/Documents/Projects/bls_project/data_2/SeriesReport-cpi-urbwage-notadj.48.csv',\n",
    "                 index_col='Year')\n",
    "\n",
    "# Drop unnecessary columns\n",
    "cpi = cpi.drop(['HALF1', 'HALF2'], axis=1)\n",
    "cpi.head()"
   ]
  },
  {
   "cell_type": "code",
   "execution_count": 54,
   "metadata": {},
   "outputs": [
    {
     "data": {
      "text/plain": [
       "75"
      ]
     },
     "execution_count": 54,
     "metadata": {},
     "output_type": "execute_result"
    }
   ],
   "source": [
    "# Count number of months in dataset.\n",
    "states = cpi.shape[1]\n",
    "states"
   ]
  },
  {
   "cell_type": "code",
   "execution_count": 44,
   "metadata": {
    "collapsed": true
   },
   "outputs": [
    {
     "data": {
      "text/plain": [
       "<tf.Tensor: shape=(75, 12), dtype=float32, numpy=\n",
       "array([[ 23.8  ,  23.6  ,  23.6  ,  23.9  ,  24.1  ,  24.2  ,  24.5  ,\n",
       "         24.6  ,  24.6  ,  24.5  ,  24.4  ,  24.2  ],\n",
       "       [ 24.2  ,  23.9  ,  24.   ,  24.   ,  24.   ,  24.   ,  23.8  ,\n",
       "         23.9  ,  24.   ,  23.9  ,  23.9  ,  23.8  ],\n",
       "       [ 23.7  ,  23.6  ,  23.7  ,  23.7  ,  23.8  ,  24.   ,  24.2  ,\n",
       "         24.4  ,  24.6  ,  24.7  ,  24.8  ,  25.1  ],\n",
       "       [ 25.5  ,  25.9  ,  26.   ,  26.   ,  26.1  ,  26.1  ,  26.1  ,\n",
       "         26.1  ,  26.3  ,  26.4  ,  26.5  ,  26.6  ],\n",
       "       [ 26.6  ,  26.5  ,  26.5  ,  26.6  ,  26.6  ,  26.7  ,  26.9  ,\n",
       "         26.9  ,  26.9  ,  26.9  ,  26.9  ,  26.9  ],\n",
       "       [ 26.8  ,  26.7  ,  26.7  ,  26.8  ,  26.8  ,  26.9  ,  27.   ,\n",
       "         27.1  ,  27.1  ,  27.2  ,  27.1  ,  27.   ],\n",
       "       [ 27.1  ,  27.1  ,  27.   ,  27.   ,  27.1  ,  27.1  ,  27.1  ,\n",
       "         27.1  ,  27.   ,  26.9  ,  27.   ,  26.9  ],\n",
       "       [ 26.9  ,  26.9  ,  26.9  ,  26.9  ,  26.9  ,  26.9  ,  27.   ,\n",
       "         26.9  ,  27.   ,  27.   ,  27.1  ,  27.   ],\n",
       "       [ 27.   ,  27.   ,  27.   ,  27.   ,  27.2  ,  27.3  ,  27.5  ,\n",
       "         27.5  ,  27.5  ,  27.7  ,  27.7  ,  27.8  ],\n",
       "       [ 27.8  ,  27.9  ,  28.   ,  28.1  ,  28.1  ,  28.3  ,  28.4  ,\n",
       "         28.5  ,  28.5  ,  28.5  ,  28.6  ,  28.6  ],\n",
       "       [ 28.8  ,  28.8  ,  29.   ,  29.1  ,  29.1  ,  29.1  ,  29.1  ,\n",
       "         29.1  ,  29.1  ,  29.1  ,  29.1  ,  29.1  ],\n",
       "       [ 29.1  ,  29.1  ,  29.1  ,  29.1  ,  29.2  ,  29.3  ,  29.4  ,\n",
       "         29.3  ,  29.4  ,  29.5  ,  29.5  ,  29.5  ],\n",
       "       [ 29.5  ,  29.5  ,  29.5  ,  29.7  ,  29.7  ,  29.8  ,  29.8  ,\n",
       "         29.8  ,  29.8  ,  29.9  ,  30.   ,  30.   ],\n",
       "       [ 30.   ,  30.   ,  30.   ,  30.   ,  30.   ,  30.   ,  30.1  ,\n",
       "         30.1  ,  30.2  ,  30.2  ,  30.2  ,  30.2  ],\n",
       "       [ 30.2  ,  30.2  ,  30.3  ,  30.4  ,  30.4  ,  30.4  ,  30.4  ,\n",
       "         30.4  ,  30.6  ,  30.6  ,  30.6  ,  30.6  ],\n",
       "       [ 30.6  ,  30.6  ,  30.7  ,  30.7  ,  30.7  ,  30.8  ,  30.9  ,\n",
       "         30.9  ,  30.9  ,  31.   ,  31.   ,  31.1  ],\n",
       "       [ 31.1  ,  31.1  ,  31.1  ,  31.1  ,  31.1  ,  31.2  ,  31.3  ,\n",
       "         31.2  ,  31.3  ,  31.3  ,  31.4  ,  31.4  ],\n",
       "       [ 31.4  ,  31.4  ,  31.5  ,  31.6  ,  31.6  ,  31.8  ,  31.8  ,\n",
       "         31.8  ,  31.8  ,  31.9  ,  31.9  ,  32.   ],\n",
       "       [ 32.   ,  32.2  ,  32.3  ,  32.5  ,  32.5  ,  32.6  ,  32.7  ,\n",
       "         32.9  ,  32.9  ,  33.1  ,  33.1  ,  33.1  ],\n",
       "       [ 33.1  ,  33.1  ,  33.2  ,  33.3  ,  33.4  ,  33.5  ,  33.6  ,\n",
       "         33.7  ,  33.8  ,  33.9  ,  34.   ,  34.1  ],\n",
       "       [ 34.2  ,  34.3  ,  34.5  ,  34.6  ,  34.7  ,  34.9  ,  35.1  ,\n",
       "         35.2  ,  35.3  ,  35.5  ,  35.6  ,  35.7  ],\n",
       "       [ 35.8  ,  36.   ,  36.3  ,  36.5  ,  36.6  ,  36.8  ,  37.   ,\n",
       "         37.2  ,  37.3  ,  37.5  ,  37.7  ,  37.9  ],\n",
       "       [ 38.   ,  38.2  ,  38.4  ,  38.7  ,  38.8  ,  39.   ,  39.2  ,\n",
       "         39.2  ,  39.4  ,  39.6  ,  39.8  ,  40.   ],\n",
       "       [ 40.   ,  40.1  ,  40.2  ,  40.4  ,  40.6  ,  40.8  ,  40.9  ,\n",
       "         41.   ,  41.   ,  41.1  ,  41.2  ,  41.3  ],\n",
       "       [ 41.4  ,  41.6  ,  41.6  ,  41.7  ,  41.9  ,  42.   ,  42.1  ,\n",
       "         42.2  ,  42.4  ,  42.5  ,  42.6  ,  42.7  ],\n",
       "       [ 42.9  ,  43.2  ,  43.6  ,  43.9  ,  44.1  ,  44.4  ,  44.5  ,\n",
       "         45.4  ,  45.5  ,  45.9  ,  46.2  ,  46.5  ],\n",
       "       [ 46.9  ,  47.5  ,  48.   ,  48.3  ,  48.8  ,  49.3  ,  49.7  ,\n",
       "         50.3  ,  50.9  ,  51.4  ,  51.8  ,  52.2  ],\n",
       "       [ 52.4  ,  52.8  ,  53.   ,  53.2  ,  53.5  ,  53.9  ,  54.5  ,\n",
       "         54.7  ,  54.9  ,  55.3  ,  55.6  ,  55.8  ],\n",
       "       [ 56.   ,  56.1  ,  56.2  ,  56.5  ,  56.8  ,  57.1  ,  57.4  ,\n",
       "         57.7  ,  57.9  ,  58.2  ,  58.3  ,  58.5  ],\n",
       "       [ 58.9  ,  59.5  ,  59.8  ,  60.3  ,  60.6  ,  61.   ,  61.3  ,\n",
       "         61.5  ,  61.8  ,  61.9  ,  62.2  ,  62.5  ],\n",
       "       [ 62.8  ,  63.2  ,  63.7  ,  64.3  ,  64.9  ,  65.6  ,  66.   ,\n",
       "         66.4  ,  66.8  ,  67.4  ,  67.7  ,  68.1  ],\n",
       "       [ 68.7  ,  69.5  ,  70.3  ,  71.1  ,  71.9  ,  72.8  ,  73.7  ,\n",
       "         74.4  ,  75.1  ,  75.7  ,  76.4  ,  77.2  ],\n",
       "       [ 78.3  ,  79.4  ,  80.5  ,  81.4  ,  82.3  ,  83.2  ,  83.3  ,\n",
       "         83.8  ,  84.6  ,  85.3  ,  86.1  ,  86.9  ],\n",
       "       [ 87.5  ,  88.5  ,  89.   ,  89.6  ,  90.3  ,  91.1  ,  92.2  ,\n",
       "         92.8  ,  93.7  ,  93.9  ,  94.1  ,  94.4  ],\n",
       "       [ 94.7  ,  95.   ,  94.8  ,  95.2  ,  96.2  ,  97.4  ,  98.   ,\n",
       "         98.2  ,  98.3  ,  98.6  ,  98.4  ,  98.   ],\n",
       "       [ 98.1  ,  98.1  ,  98.4  ,  99.   ,  99.5  ,  99.8  , 100.1  ,\n",
       "        100.5  , 101.   , 101.2  , 101.2  , 101.2  ],\n",
       "       [101.6  , 101.8  , 101.8  , 102.1  , 102.5  , 102.8  , 103.2  ,\n",
       "        104.2  , 104.8  , 104.8  , 104.7  , 104.8  ],\n",
       "       [104.9  , 105.4  , 105.9  , 106.3  , 106.7  , 107.   , 107.1  ,\n",
       "        107.3  , 107.6  , 107.9  , 108.3  , 108.6  ],\n",
       "       [108.9  , 108.5  , 107.9  , 107.6  , 107.9  , 108.4  , 108.4  ,\n",
       "        108.6  , 109.1  , 109.1  , 109.2  , 109.3  ],\n",
       "       [110.   , 110.5  , 111.   , 111.6  , 111.9  , 112.4  , 112.7  ,\n",
       "        113.3  , 113.8  , 114.1  , 114.3  , 114.2  ],\n",
       "       [114.5  , 114.7  , 115.1  , 115.7  , 116.2  , 116.7  , 117.2  ,\n",
       "        117.7  , 118.5  , 118.9  , 119.   , 119.2  ],\n",
       "       [119.7  , 120.2  , 120.8  , 121.8  , 122.5  , 122.8  , 123.2  ,\n",
       "        123.2  , 123.6  , 124.2  , 124.4  , 124.6  ],\n",
       "       [125.9  , 126.4  , 127.1  , 127.3  , 127.5  , 128.3  , 128.7  ,\n",
       "        129.9  , 131.1  , 131.9  , 132.2  , 132.2  ],\n",
       "       [132.8  , 132.8  , 133.   , 133.3  , 133.8  , 134.1  , 134.3  ,\n",
       "        134.6  , 135.2  , 135.4  , 135.8  , 135.9  ],\n",
       "       [136.   , 136.4  , 137.   , 137.3  , 137.6  , 138.1  , 138.4  ,\n",
       "        138.8  , 139.1  , 139.6  , 139.8  , 139.8  ],\n",
       "       [140.3  , 140.7  , 141.1  , 141.6  , 141.9  , 142.   , 142.1  ,\n",
       "        142.4  , 142.6  , 143.3  , 143.4  , 143.3  ],\n",
       "       [143.6  , 144.   , 144.4  , 144.7  , 144.9  , 145.4  , 145.8  ,\n",
       "        146.5  , 146.9  , 147.   , 147.3  , 147.2  ],\n",
       "       [147.8  , 148.3  , 148.7  , 149.3  , 149.6  , 149.9  , 149.9  ,\n",
       "        150.2  , 150.6  , 151.   , 150.9  , 150.9  ],\n",
       "       [151.7  , 152.2  , 152.9  , 153.6  , 154.   , 154.1  , 154.3  ,\n",
       "        154.5  , 155.1  , 155.5  , 155.9  , 155.9  ],\n",
       "       [156.3  , 156.8  , 157.   , 157.2  , 157.2  , 157.4  , 157.5  ,\n",
       "        157.8  , 158.3  , 158.5  , 158.5  , 158.2  ],\n",
       "       [158.4  , 158.5  , 158.7  , 159.1  , 159.5  , 159.7  , 159.8  ,\n",
       "        160.   , 160.2  , 160.6  , 160.7  , 160.7  ],\n",
       "       [161.   , 161.1  , 161.4  , 162.7  , 162.8  , 162.8  , 163.3  ,\n",
       "        163.8  , 164.7  , 165.   , 165.1  , 165.1  ],\n",
       "       [165.6  , 166.5  , 167.9  , 168.   , 168.2  , 169.2  , 169.4  ,\n",
       "        169.3  , 170.4  , 170.6  , 170.9  , 170.7  ],\n",
       "       [171.7  , 172.4  , 172.6  , 173.5  , 174.4  , 174.6  , 173.8  ,\n",
       "        173.8  , 174.8  , 174.   , 173.7  , 172.9  ],\n",
       "       [173.2  , 173.7  , 174.7  , 175.8  , 175.8  , 175.9  , 176.1  ,\n",
       "        176.6  , 177.   , 177.3  , 177.4  , 177.   ],\n",
       "       [177.7  , 179.2  , 180.3  , 179.8  , 179.4  , 179.6  , 179.6  ,\n",
       "        180.3  , 181.   , 180.7  , 180.2  , 179.9  ],\n",
       "       [180.9  , 181.9  , 182.9  , 183.5  , 184.7  , 185.3  , 184.9  ,\n",
       "        185.   , 185.4  , 186.5  , 186.8  , 186.   ],\n",
       "       [186.3  , 187.3  , 188.6  , 190.2  , 190.   , 190.1  , 191.   ,\n",
       "        192.1  , 195.   , 195.2  , 193.4  , 192.5  ],\n",
       "       [194.   , 194.2  , 195.3  , 197.2  , 198.2  , 198.6  , 199.2  ,\n",
       "        199.6  , 198.4  , 197.   , 196.8  , 197.2  ],\n",
       "       [197.559, 198.544, 200.612, 202.13 , 203.661, 203.906, 203.7  ,\n",
       "        203.199, 203.889, 204.338, 205.891, 205.777],\n",
       "       [206.744, 207.254, 209.147, 210.698, 212.788, 215.223, 216.304,\n",
       "        215.247, 214.935, 212.182, 207.296, 204.813],\n",
       "       [205.7  , 206.708, 207.218, 207.925, 208.774, 210.972, 210.526,\n",
       "        211.156, 211.322, 211.549, 212.003, 211.703],\n",
       "       [212.568, 212.544, 213.525, 213.958, 214.124, 213.839, 213.898,\n",
       "        214.205, 214.306, 214.623, 214.75 , 215.262],\n",
       "       [216.4  , 217.535, 220.024, 221.743, 222.954, 222.522, 222.686,\n",
       "        223.326, 223.688, 223.043, 222.813, 222.166],\n",
       "       [223.216, 224.317, 226.304, 227.012, 226.6  , 226.036, 225.568,\n",
       "        227.056, 228.184, 227.974, 226.595, 225.889],\n",
       "       [226.52 , 228.677, 229.323, 228.949, 229.399, 230.002, 230.084,\n",
       "        230.359, 230.537, 229.735, 229.133, 229.174],\n",
       "       [230.04 , 230.871, 232.56 , 233.443, 234.216, 234.702, 234.525,\n",
       "        234.03 , 234.17 , 233.229, 231.551, 229.909],\n",
       "       [228.294, 229.421, 231.055, 231.52 , 232.908, 233.804, 233.806,\n",
       "        233.366, 232.661, 232.373, 231.721, 230.791],\n",
       "       [231.061, 230.972, 232.209, 233.438, 234.436, 235.289, 234.771,\n",
       "        234.904, 235.495, 235.732, 235.215, 235.39 ],\n",
       "       [236.854, 237.477, 237.656, 238.432, 238.609, 238.813, 238.617,\n",
       "        239.448, 240.939, 240.573, 240.666, 240.526],\n",
       "       [241.919, 242.988, 243.463, 244.607, 245.77 , 246.196, 246.155,\n",
       "        246.336, 246.565, 247.038, 245.933, 244.786],\n",
       "       [245.133, 246.218, 247.768, 249.332, 249.871, 249.747, 250.236,\n",
       "        250.112, 250.251, 250.894, 250.644, 250.452],\n",
       "       [251.361, 251.935, 251.375, 249.515, 249.521, 251.054, 252.636,\n",
       "        253.597, 254.004, 254.076, 253.826, 254.081],\n",
       "       [255.296, 256.843, 258.935, 261.237, 263.612, 266.412, 267.789,\n",
       "        268.387, 269.086, 271.552, 273.042, 273.925],\n",
       "       [276.296,     nan,     nan,     nan,     nan,     nan,     nan,\n",
       "            nan,     nan,     nan,     nan,     nan]], dtype=float32)>"
      ]
     },
     "execution_count": 44,
     "metadata": {},
     "output_type": "execute_result"
    }
   ],
   "source": [
    "cpi"
   ]
  },
  {
   "cell_type": "code",
   "execution_count": 43,
   "metadata": {},
   "outputs": [],
   "source": [
    "# Convert our dataframe to a tensorflow constant\n",
    "cpi = tf.constant(np.array(cpi), tf.float32)"
   ]
  },
  {
   "cell_type": "code",
   "execution_count": 45,
   "metadata": {},
   "outputs": [],
   "source": [
    "# Set number of hidden nodes.\n",
    "hiddenNodes = 32\n",
    "\n",
    "# Set number of nodes in latent state.\n",
    "latentNodes = 5\n",
    "\n",
    "# Define input layer for encoder.\n",
    "encoderInput = tf.keras.layers.Input(shape = (states))\n",
    "\n",
    "# Define hidden layer for the encoder.\n",
    "encoderHidden = tf.keras.layers.Dense(hiddenNodes, \n",
    "activation = 'sigmoid')(encoderInput)\n",
    "\n",
    "# Define the bottleneck layer.\n",
    "latent = tf.keras.layers.Input(shape = (latentNodes))"
   ]
  },
  {
   "cell_type": "code",
   "execution_count": 46,
   "metadata": {},
   "outputs": [],
   "source": [
    "# Define output layer for encoder.\n",
    "encoded = tf.keras.layers.Dense(latentNodes, \n",
    "activation = 'sigmoid')(encoderHidden)\n",
    "\n",
    "# Define hidden layer for decoder.\n",
    "decoderHidden = tf.keras.layers.Dense(hiddenNodes, \n",
    "activation = 'sigmoid')(latent)\n",
    "\n",
    "# Define output layer for decoder.\n",
    "decoded = tf.keras.layers.Dense(states, \n",
    "activation = 'linear')(decoderHidden)\n"
   ]
  },
  {
   "cell_type": "code",
   "execution_count": 47,
   "metadata": {
    "collapsed": true
   },
   "outputs": [
    {
     "name": "stdout",
     "output_type": "stream",
     "text": [
      "Epoch 1/100\n",
      "3/3 [==============================] - 0s 2ms/step - loss: nan\n",
      "Epoch 2/100\n",
      "3/3 [==============================] - 0s 2ms/step - loss: nan\n",
      "Epoch 3/100\n",
      "3/3 [==============================] - 0s 2ms/step - loss: nan\n",
      "Epoch 4/100\n",
      "3/3 [==============================] - 0s 2ms/step - loss: nan\n",
      "Epoch 5/100\n",
      "3/3 [==============================] - 0s 2ms/step - loss: nan\n",
      "Epoch 6/100\n",
      "3/3 [==============================] - 0s 2ms/step - loss: nan\n",
      "Epoch 7/100\n",
      "3/3 [==============================] - 0s 2ms/step - loss: nan\n",
      "Epoch 8/100\n",
      "3/3 [==============================] - 0s 2ms/step - loss: nan\n",
      "Epoch 9/100\n",
      "3/3 [==============================] - 0s 2ms/step - loss: nan\n",
      "Epoch 10/100\n",
      "3/3 [==============================] - 0s 2ms/step - loss: nan\n",
      "Epoch 11/100\n",
      "3/3 [==============================] - 0s 2ms/step - loss: nan\n",
      "Epoch 12/100\n",
      "3/3 [==============================] - 0s 2ms/step - loss: nan\n",
      "Epoch 13/100\n",
      "3/3 [==============================] - 0s 2ms/step - loss: nan\n",
      "Epoch 14/100\n",
      "3/3 [==============================] - 0s 2ms/step - loss: nan\n",
      "Epoch 15/100\n",
      "3/3 [==============================] - 0s 2ms/step - loss: nan\n",
      "Epoch 16/100\n",
      "3/3 [==============================] - 0s 2ms/step - loss: nan\n",
      "Epoch 17/100\n",
      "3/3 [==============================] - 0s 2ms/step - loss: nan\n",
      "Epoch 18/100\n",
      "3/3 [==============================] - 0s 2ms/step - loss: nan\n",
      "Epoch 19/100\n",
      "3/3 [==============================] - 0s 2ms/step - loss: nan\n",
      "Epoch 20/100\n",
      "3/3 [==============================] - 0s 2ms/step - loss: nan\n",
      "Epoch 21/100\n",
      "3/3 [==============================] - 0s 2ms/step - loss: nan\n",
      "Epoch 22/100\n",
      "3/3 [==============================] - 0s 2ms/step - loss: nan\n",
      "Epoch 23/100\n",
      "3/3 [==============================] - 0s 2ms/step - loss: nan\n",
      "Epoch 24/100\n",
      "3/3 [==============================] - 0s 2ms/step - loss: nan\n",
      "Epoch 25/100\n",
      "3/3 [==============================] - 0s 2ms/step - loss: nan\n",
      "Epoch 26/100\n",
      "3/3 [==============================] - 0s 2ms/step - loss: nan\n",
      "Epoch 27/100\n",
      "3/3 [==============================] - 0s 2ms/step - loss: nan\n",
      "Epoch 28/100\n",
      "3/3 [==============================] - 0s 2ms/step - loss: nan\n",
      "Epoch 29/100\n",
      "3/3 [==============================] - 0s 2ms/step - loss: nan\n",
      "Epoch 30/100\n",
      "3/3 [==============================] - 0s 2ms/step - loss: nan\n",
      "Epoch 31/100\n",
      "3/3 [==============================] - 0s 2ms/step - loss: nan\n",
      "Epoch 32/100\n",
      "3/3 [==============================] - 0s 2ms/step - loss: nan\n",
      "Epoch 33/100\n",
      "3/3 [==============================] - 0s 2ms/step - loss: nan\n",
      "Epoch 34/100\n",
      "3/3 [==============================] - 0s 2ms/step - loss: nan\n",
      "Epoch 35/100\n",
      "3/3 [==============================] - 0s 2ms/step - loss: nan\n",
      "Epoch 36/100\n",
      "3/3 [==============================] - 0s 2ms/step - loss: nan\n",
      "Epoch 37/100\n",
      "3/3 [==============================] - 0s 2ms/step - loss: nan\n",
      "Epoch 38/100\n",
      "3/3 [==============================] - 0s 2ms/step - loss: nan\n",
      "Epoch 39/100\n",
      "3/3 [==============================] - 0s 2ms/step - loss: nan\n",
      "Epoch 40/100\n",
      "3/3 [==============================] - 0s 2ms/step - loss: nan\n",
      "Epoch 41/100\n",
      "3/3 [==============================] - 0s 2ms/step - loss: nan\n",
      "Epoch 42/100\n",
      "3/3 [==============================] - 0s 2ms/step - loss: nan\n",
      "Epoch 43/100\n",
      "3/3 [==============================] - 0s 2ms/step - loss: nan\n",
      "Epoch 44/100\n",
      "3/3 [==============================] - 0s 2ms/step - loss: nan\n",
      "Epoch 45/100\n",
      "3/3 [==============================] - 0s 2ms/step - loss: nan\n",
      "Epoch 46/100\n",
      "3/3 [==============================] - 0s 2ms/step - loss: nan\n",
      "Epoch 47/100\n",
      "3/3 [==============================] - 0s 1ms/step - loss: nan\n",
      "Epoch 48/100\n",
      "3/3 [==============================] - 0s 2ms/step - loss: nan\n",
      "Epoch 49/100\n",
      "3/3 [==============================] - 0s 2ms/step - loss: nan\n",
      "Epoch 50/100\n",
      "3/3 [==============================] - 0s 2ms/step - loss: nan\n",
      "Epoch 51/100\n",
      "3/3 [==============================] - 0s 2ms/step - loss: nan\n",
      "Epoch 52/100\n",
      "3/3 [==============================] - 0s 2ms/step - loss: nan\n",
      "Epoch 53/100\n",
      "3/3 [==============================] - 0s 2ms/step - loss: nan\n",
      "Epoch 54/100\n",
      "3/3 [==============================] - 0s 2ms/step - loss: nan\n",
      "Epoch 55/100\n",
      "3/3 [==============================] - 0s 2ms/step - loss: nan\n",
      "Epoch 56/100\n",
      "3/3 [==============================] - 0s 2ms/step - loss: nan\n",
      "Epoch 57/100\n",
      "3/3 [==============================] - 0s 2ms/step - loss: nan\n",
      "Epoch 58/100\n",
      "3/3 [==============================] - 0s 2ms/step - loss: nan\n",
      "Epoch 59/100\n",
      "3/3 [==============================] - 0s 2ms/step - loss: nan\n",
      "Epoch 60/100\n",
      "3/3 [==============================] - 0s 2ms/step - loss: nan\n",
      "Epoch 61/100\n",
      "3/3 [==============================] - 0s 2ms/step - loss: nan\n",
      "Epoch 62/100\n",
      "3/3 [==============================] - 0s 2ms/step - loss: nan\n",
      "Epoch 63/100\n",
      "3/3 [==============================] - 0s 2ms/step - loss: nan\n",
      "Epoch 64/100\n",
      "3/3 [==============================] - 0s 2ms/step - loss: nan\n",
      "Epoch 65/100\n",
      "3/3 [==============================] - 0s 2ms/step - loss: nan\n",
      "Epoch 66/100\n",
      "3/3 [==============================] - 0s 2ms/step - loss: nan\n",
      "Epoch 67/100\n",
      "3/3 [==============================] - 0s 2ms/step - loss: nan\n",
      "Epoch 68/100\n",
      "3/3 [==============================] - 0s 2ms/step - loss: nan\n",
      "Epoch 69/100\n",
      "3/3 [==============================] - 0s 2ms/step - loss: nan\n",
      "Epoch 70/100\n",
      "3/3 [==============================] - 0s 2ms/step - loss: nan\n",
      "Epoch 71/100\n",
      "3/3 [==============================] - 0s 2ms/step - loss: nan\n",
      "Epoch 72/100\n",
      "3/3 [==============================] - 0s 2ms/step - loss: nan\n",
      "Epoch 73/100\n",
      "3/3 [==============================] - 0s 2ms/step - loss: nan\n",
      "Epoch 74/100\n",
      "3/3 [==============================] - 0s 2ms/step - loss: nan\n",
      "Epoch 75/100\n",
      "3/3 [==============================] - 0s 2ms/step - loss: nan\n",
      "Epoch 76/100\n",
      "3/3 [==============================] - 0s 2ms/step - loss: nan\n",
      "Epoch 77/100\n",
      "3/3 [==============================] - 0s 2ms/step - loss: nan\n",
      "Epoch 78/100\n",
      "3/3 [==============================] - 0s 2ms/step - loss: nan\n",
      "Epoch 79/100\n",
      "3/3 [==============================] - 0s 2ms/step - loss: nan\n",
      "Epoch 80/100\n",
      "3/3 [==============================] - 0s 2ms/step - loss: nan\n",
      "Epoch 81/100\n",
      "3/3 [==============================] - 0s 2ms/step - loss: nan\n",
      "Epoch 82/100\n",
      "3/3 [==============================] - 0s 2ms/step - loss: nan\n",
      "Epoch 83/100\n",
      "3/3 [==============================] - 0s 1ms/step - loss: nan\n",
      "Epoch 84/100\n",
      "3/3 [==============================] - 0s 2ms/step - loss: nan\n",
      "Epoch 85/100\n",
      "3/3 [==============================] - 0s 2ms/step - loss: nan\n",
      "Epoch 86/100\n",
      "3/3 [==============================] - 0s 2ms/step - loss: nan\n",
      "Epoch 87/100\n",
      "3/3 [==============================] - 0s 2ms/step - loss: nan\n",
      "Epoch 88/100\n",
      "3/3 [==============================] - 0s 2ms/step - loss: nan\n",
      "Epoch 89/100\n",
      "3/3 [==============================] - 0s 2ms/step - loss: nan\n",
      "Epoch 90/100\n",
      "3/3 [==============================] - 0s 2ms/step - loss: nan\n",
      "Epoch 91/100\n",
      "3/3 [==============================] - 0s 2ms/step - loss: nan\n",
      "Epoch 92/100\n",
      "3/3 [==============================] - 0s 2ms/step - loss: nan\n",
      "Epoch 93/100\n",
      "3/3 [==============================] - 0s 2ms/step - loss: nan\n",
      "Epoch 94/100\n",
      "3/3 [==============================] - 0s 2ms/step - loss: nan\n",
      "Epoch 95/100\n",
      "3/3 [==============================] - 0s 2ms/step - loss: nan\n",
      "Epoch 96/100\n",
      "3/3 [==============================] - 0s 2ms/step - loss: nan\n",
      "Epoch 97/100\n",
      "3/3 [==============================] - 0s 2ms/step - loss: nan\n",
      "Epoch 98/100\n",
      "3/3 [==============================] - 0s 2ms/step - loss: nan\n",
      "Epoch 99/100\n",
      "3/3 [==============================] - 0s 2ms/step - loss: nan\n",
      "Epoch 100/100\n",
      "3/3 [==============================] - 0s 2ms/step - loss: nan\n"
     ]
    },
    {
     "data": {
      "text/plain": [
       "<keras.callbacks.History at 0x7f8e63303b50>"
      ]
     },
     "execution_count": 47,
     "metadata": {},
     "output_type": "execute_result"
    }
   ],
   "source": [
    "# Define separate models for encoder and decoder.\n",
    "encoder = tf.keras.Model(encoderInput, encoded)\n",
    "decoder = tf.keras.Model(latent, decoded)\n",
    "\n",
    "# Define functional model for autoencoder.\n",
    "autoencoder = tf.keras.Model(encoderInput, decoder(encoded))\n",
    "\n",
    "# Compile the autoencoder.\n",
    "autoencoder.compile(loss = 'mae', optimizer = 'adam')\n",
    "\n",
    "# Train the autoencoder.\n",
    "autoencoder.fit(cpi, cpi, epochs = 100)\n"
   ]
  },
  {
   "cell_type": "code",
   "execution_count": 50,
   "metadata": {},
   "outputs": [
    {
     "data": {
      "text/plain": [
       "<tf.Tensor: shape=(5, 12), dtype=float32, numpy=\n",
       "array([[23.8, 23.6, 23.6, 23.9, 24.1, 24.2, 24.5, 24.6, 24.6, 24.5, 24.4,\n",
       "        24.2],\n",
       "       [24.2, 23.9, 24. , 24. , 24. , 24. , 23.8, 23.9, 24. , 23.9, 23.9,\n",
       "        23.8],\n",
       "       [23.7, 23.6, 23.7, 23.7, 23.8, 24. , 24.2, 24.4, 24.6, 24.7, 24.8,\n",
       "        25.1],\n",
       "       [25.5, 25.9, 26. , 26. , 26.1, 26.1, 26.1, 26.1, 26.3, 26.4, 26.5,\n",
       "        26.6],\n",
       "       [26.6, 26.5, 26.5, 26.6, 26.6, 26.7, 26.9, 26.9, 26.9, 26.9, 26.9,\n",
       "        26.9]], dtype=float32)>"
      ]
     },
     "execution_count": 50,
     "metadata": {},
     "output_type": "execute_result"
    }
   ],
   "source": [
    "cpi[0:5]"
   ]
  },
  {
   "cell_type": "code",
   "execution_count": 48,
   "metadata": {},
   "outputs": [
    {
     "ename": "TypeError",
     "evalue": "Index(...) must be called with a collection of some kind, 12 was passed",
     "output_type": "error",
     "traceback": [
      "\u001b[0;31m---------------------------------------------------------------------------\u001b[0m",
      "\u001b[0;31mTypeError\u001b[0m                                 Traceback (most recent call last)",
      "\u001b[0;32m/var/folders/q3/0g1f31211lbgj741dfjd4r5c0000gn/T/ipykernel_1836/3613518160.py\u001b[0m in \u001b[0;36m<module>\u001b[0;34m\u001b[0m\n\u001b[1;32m      3\u001b[0m \u001b[0;34m\u001b[0m\u001b[0m\n\u001b[1;32m      4\u001b[0m \u001b[0;31m# Compute absolute deviations.\u001b[0m\u001b[0;34m\u001b[0m\u001b[0;34m\u001b[0m\u001b[0;34m\u001b[0m\u001b[0m\n\u001b[0;32m----> 5\u001b[0;31m reconstructionLoss = pd.DataFrame(np.abs(cpi-cpi_predicted), \n\u001b[0m\u001b[1;32m      6\u001b[0m columns = 12)\n\u001b[1;32m      7\u001b[0m \u001b[0;34m\u001b[0m\u001b[0m\n",
      "\u001b[0;32m/opt/anaconda3/envs/NNs/lib/python3.8/site-packages/pandas/core/frame.py\u001b[0m in \u001b[0;36m__init__\u001b[0;34m(self, data, index, columns, dtype, copy)\u001b[0m\n\u001b[1;32m    495\u001b[0m                 \u001b[0mmgr\u001b[0m \u001b[0;34m=\u001b[0m \u001b[0minit_dict\u001b[0m\u001b[0;34m(\u001b[0m\u001b[0;34m{\u001b[0m\u001b[0mdata\u001b[0m\u001b[0;34m.\u001b[0m\u001b[0mname\u001b[0m\u001b[0;34m:\u001b[0m \u001b[0mdata\u001b[0m\u001b[0;34m}\u001b[0m\u001b[0;34m,\u001b[0m \u001b[0mindex\u001b[0m\u001b[0;34m,\u001b[0m \u001b[0mcolumns\u001b[0m\u001b[0;34m,\u001b[0m \u001b[0mdtype\u001b[0m\u001b[0;34m=\u001b[0m\u001b[0mdtype\u001b[0m\u001b[0;34m)\u001b[0m\u001b[0;34m\u001b[0m\u001b[0;34m\u001b[0m\u001b[0m\n\u001b[1;32m    496\u001b[0m             \u001b[0;32melse\u001b[0m\u001b[0;34m:\u001b[0m\u001b[0;34m\u001b[0m\u001b[0;34m\u001b[0m\u001b[0m\n\u001b[0;32m--> 497\u001b[0;31m                 \u001b[0mmgr\u001b[0m \u001b[0;34m=\u001b[0m \u001b[0minit_ndarray\u001b[0m\u001b[0;34m(\u001b[0m\u001b[0mdata\u001b[0m\u001b[0;34m,\u001b[0m \u001b[0mindex\u001b[0m\u001b[0;34m,\u001b[0m \u001b[0mcolumns\u001b[0m\u001b[0;34m,\u001b[0m \u001b[0mdtype\u001b[0m\u001b[0;34m=\u001b[0m\u001b[0mdtype\u001b[0m\u001b[0;34m,\u001b[0m \u001b[0mcopy\u001b[0m\u001b[0;34m=\u001b[0m\u001b[0mcopy\u001b[0m\u001b[0;34m)\u001b[0m\u001b[0;34m\u001b[0m\u001b[0;34m\u001b[0m\u001b[0m\n\u001b[0m\u001b[1;32m    498\u001b[0m \u001b[0;34m\u001b[0m\u001b[0m\n\u001b[1;32m    499\u001b[0m         \u001b[0;31m# For data is list-like, or Iterable (will consume into list)\u001b[0m\u001b[0;34m\u001b[0m\u001b[0;34m\u001b[0m\u001b[0;34m\u001b[0m\u001b[0m\n",
      "\u001b[0;32m/opt/anaconda3/envs/NNs/lib/python3.8/site-packages/pandas/core/internals/construction.py\u001b[0m in \u001b[0;36minit_ndarray\u001b[0;34m(values, index, columns, dtype, copy)\u001b[0m\n\u001b[1;32m    201\u001b[0m \u001b[0;34m\u001b[0m\u001b[0m\n\u001b[1;32m    202\u001b[0m     \u001b[0;31m# _prep_ndarray ensures that values.ndim == 2 at this point\u001b[0m\u001b[0;34m\u001b[0m\u001b[0;34m\u001b[0m\u001b[0;34m\u001b[0m\u001b[0m\n\u001b[0;32m--> 203\u001b[0;31m     index, columns = _get_axes(\n\u001b[0m\u001b[1;32m    204\u001b[0m         \u001b[0mvalues\u001b[0m\u001b[0;34m.\u001b[0m\u001b[0mshape\u001b[0m\u001b[0;34m[\u001b[0m\u001b[0;36m0\u001b[0m\u001b[0;34m]\u001b[0m\u001b[0;34m,\u001b[0m \u001b[0mvalues\u001b[0m\u001b[0;34m.\u001b[0m\u001b[0mshape\u001b[0m\u001b[0;34m[\u001b[0m\u001b[0;36m1\u001b[0m\u001b[0;34m]\u001b[0m\u001b[0;34m,\u001b[0m \u001b[0mindex\u001b[0m\u001b[0;34m=\u001b[0m\u001b[0mindex\u001b[0m\u001b[0;34m,\u001b[0m \u001b[0mcolumns\u001b[0m\u001b[0;34m=\u001b[0m\u001b[0mcolumns\u001b[0m\u001b[0;34m\u001b[0m\u001b[0;34m\u001b[0m\u001b[0m\n\u001b[1;32m    205\u001b[0m     )\n",
      "\u001b[0;32m/opt/anaconda3/envs/NNs/lib/python3.8/site-packages/pandas/core/internals/construction.py\u001b[0m in \u001b[0;36m_get_axes\u001b[0;34m(N, K, index, columns)\u001b[0m\n\u001b[1;32m    460\u001b[0m         \u001b[0mcolumns\u001b[0m \u001b[0;34m=\u001b[0m \u001b[0mibase\u001b[0m\u001b[0;34m.\u001b[0m\u001b[0mdefault_index\u001b[0m\u001b[0;34m(\u001b[0m\u001b[0mK\u001b[0m\u001b[0;34m)\u001b[0m\u001b[0;34m\u001b[0m\u001b[0;34m\u001b[0m\u001b[0m\n\u001b[1;32m    461\u001b[0m     \u001b[0;32melse\u001b[0m\u001b[0;34m:\u001b[0m\u001b[0;34m\u001b[0m\u001b[0;34m\u001b[0m\u001b[0m\n\u001b[0;32m--> 462\u001b[0;31m         \u001b[0mcolumns\u001b[0m \u001b[0;34m=\u001b[0m \u001b[0mensure_index\u001b[0m\u001b[0;34m(\u001b[0m\u001b[0mcolumns\u001b[0m\u001b[0;34m)\u001b[0m\u001b[0;34m\u001b[0m\u001b[0;34m\u001b[0m\u001b[0m\n\u001b[0m\u001b[1;32m    463\u001b[0m     \u001b[0;32mreturn\u001b[0m \u001b[0mindex\u001b[0m\u001b[0;34m,\u001b[0m \u001b[0mcolumns\u001b[0m\u001b[0;34m\u001b[0m\u001b[0;34m\u001b[0m\u001b[0m\n\u001b[1;32m    464\u001b[0m \u001b[0;34m\u001b[0m\u001b[0m\n",
      "\u001b[0;32m/opt/anaconda3/envs/NNs/lib/python3.8/site-packages/pandas/core/indexes/base.py\u001b[0m in \u001b[0;36mensure_index\u001b[0;34m(index_like, copy)\u001b[0m\n\u001b[1;32m   5616\u001b[0m             \u001b[0mindex_like\u001b[0m \u001b[0;34m=\u001b[0m \u001b[0mcopy_func\u001b[0m\u001b[0;34m(\u001b[0m\u001b[0mindex_like\u001b[0m\u001b[0;34m)\u001b[0m\u001b[0;34m\u001b[0m\u001b[0;34m\u001b[0m\u001b[0m\n\u001b[1;32m   5617\u001b[0m \u001b[0;34m\u001b[0m\u001b[0m\n\u001b[0;32m-> 5618\u001b[0;31m     \u001b[0;32mreturn\u001b[0m \u001b[0mIndex\u001b[0m\u001b[0;34m(\u001b[0m\u001b[0mindex_like\u001b[0m\u001b[0;34m)\u001b[0m\u001b[0;34m\u001b[0m\u001b[0;34m\u001b[0m\u001b[0m\n\u001b[0m\u001b[1;32m   5619\u001b[0m \u001b[0;34m\u001b[0m\u001b[0m\n\u001b[1;32m   5620\u001b[0m \u001b[0;34m\u001b[0m\u001b[0m\n",
      "\u001b[0;32m/opt/anaconda3/envs/NNs/lib/python3.8/site-packages/pandas/core/indexes/base.py\u001b[0m in \u001b[0;36m__new__\u001b[0;34m(cls, data, dtype, copy, name, tupleize_cols, **kwargs)\u001b[0m\n\u001b[1;32m    413\u001b[0m \u001b[0;34m\u001b[0m\u001b[0m\n\u001b[1;32m    414\u001b[0m         \u001b[0;32melif\u001b[0m \u001b[0mdata\u001b[0m \u001b[0;32mis\u001b[0m \u001b[0;32mNone\u001b[0m \u001b[0;32mor\u001b[0m \u001b[0mis_scalar\u001b[0m\u001b[0;34m(\u001b[0m\u001b[0mdata\u001b[0m\u001b[0;34m)\u001b[0m\u001b[0;34m:\u001b[0m\u001b[0;34m\u001b[0m\u001b[0;34m\u001b[0m\u001b[0m\n\u001b[0;32m--> 415\u001b[0;31m             \u001b[0;32mraise\u001b[0m \u001b[0mcls\u001b[0m\u001b[0;34m.\u001b[0m\u001b[0m_scalar_data_error\u001b[0m\u001b[0;34m(\u001b[0m\u001b[0mdata\u001b[0m\u001b[0;34m)\u001b[0m\u001b[0;34m\u001b[0m\u001b[0;34m\u001b[0m\u001b[0m\n\u001b[0m\u001b[1;32m    416\u001b[0m         \u001b[0;32melif\u001b[0m \u001b[0mhasattr\u001b[0m\u001b[0;34m(\u001b[0m\u001b[0mdata\u001b[0m\u001b[0;34m,\u001b[0m \u001b[0;34m\"__array__\"\u001b[0m\u001b[0;34m)\u001b[0m\u001b[0;34m:\u001b[0m\u001b[0;34m\u001b[0m\u001b[0;34m\u001b[0m\u001b[0m\n\u001b[1;32m    417\u001b[0m             \u001b[0;32mreturn\u001b[0m \u001b[0mIndex\u001b[0m\u001b[0;34m(\u001b[0m\u001b[0mnp\u001b[0m\u001b[0;34m.\u001b[0m\u001b[0masarray\u001b[0m\u001b[0;34m(\u001b[0m\u001b[0mdata\u001b[0m\u001b[0;34m)\u001b[0m\u001b[0;34m,\u001b[0m \u001b[0mdtype\u001b[0m\u001b[0;34m=\u001b[0m\u001b[0mdtype\u001b[0m\u001b[0;34m,\u001b[0m \u001b[0mcopy\u001b[0m\u001b[0;34m=\u001b[0m\u001b[0mcopy\u001b[0m\u001b[0;34m,\u001b[0m \u001b[0mname\u001b[0m\u001b[0;34m=\u001b[0m\u001b[0mname\u001b[0m\u001b[0;34m,\u001b[0m \u001b[0;34m**\u001b[0m\u001b[0mkwargs\u001b[0m\u001b[0;34m)\u001b[0m\u001b[0;34m\u001b[0m\u001b[0;34m\u001b[0m\u001b[0m\n",
      "\u001b[0;31mTypeError\u001b[0m: Index(...) must be called with a collection of some kind, 12 was passed"
     ]
    }
   ],
   "source": [
    "# Predict inflation series.\n",
    "cpi_predicted = autoencoder.predict(cpi)\n",
    "\n",
    "# Compute absolute deviations.\n",
    "reconstructionLoss = pd.DataFrame(np.abs(cpi-cpi_predicted), \n",
    "columns = cNames)\n",
    "\n",
    "# Generate latent state for inflation time series.\n",
    "latentState = pd.DataFrame(encoder.predict(cpi))\n"
   ]
  },
  {
   "cell_type": "code",
   "execution_count": null,
   "metadata": {},
   "outputs": [],
   "source": []
  },
  {
   "cell_type": "code",
   "execution_count": null,
   "metadata": {},
   "outputs": [],
   "source": []
  },
  {
   "cell_type": "code",
   "execution_count": null,
   "metadata": {},
   "outputs": [],
   "source": []
  },
  {
   "cell_type": "code",
   "execution_count": null,
   "metadata": {},
   "outputs": [],
   "source": []
  }
 ],
 "metadata": {
  "kernelspec": {
   "display_name": "NNse",
   "language": "python",
   "name": "u4-s1-nns"
  },
  "language_info": {
   "codemirror_mode": {
    "name": "ipython",
    "version": 3
   },
   "file_extension": ".py",
   "mimetype": "text/x-python",
   "name": "python",
   "nbconvert_exporter": "python",
   "pygments_lexer": "ipython3",
   "version": "3.8.5"
  }
 },
 "nbformat": 4,
 "nbformat_minor": 4
}
