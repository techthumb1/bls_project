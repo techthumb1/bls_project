{
 "cells": [
  {
   "cell_type": "markdown",
   "metadata": {},
   "source": [
    "\n",
    "## Employment Cost Index (NAICS)\n",
    "\n",
    "Welcome to the step-by-step guide on how to use the Employment Cost Index (NAICS) one-screen query system\n",
    "Employment Cost Trends: The Employment Cost Index measures the change over time in the cost of labor. The cost of labor includes wages and salaries and employer costs for employee benefits. The quarterly data covers establishments of all sizes in private industry (excluding farms and households) and the public sector (excluding federal government) for all of the United States.\n",
    "\n",
    "This tool lets users query the BLS databases for specific data series. For each survey and program, make a selection for each characteristic in the order listed. As you make your selection, the remaining characteristics will filter to show only choices where data are available. After choosing the series, click on “Add to selection.” If you need more data series, repeat the steps of choosing the data series you need. After you've finished finding the data series you need, click on the “Get Data” button to retrieve the data, and an HTML table with data for the most recent 10 years will display. If you desire a different time period or format, you may modify the options on the data display page, or click on the “More Formatting Options” button for additional options on refining the data retrieval results. Note: Users may not retrieve more than 200 data series in one query."
   ]
  },
  {
   "cell_type": "markdown",
   "metadata": {},
   "source": [
    "\n",
    "###  Ownership Search Box\n",
    "\n",
    "Type all or part of a search string in the search text box. The contents of the box will filter to show only those options that contain the search string."
   ]
  },
  {
   "cell_type": "code",
   "execution_count": null,
   "metadata": {},
   "outputs": [],
   "source": []
  },
  {
   "cell_type": "markdown",
   "metadata": {},
   "source": [
    "\n",
    "### Ownership\n",
    "\n",
    "Select an Ownership. To select multiple options, hold the Ctrl/Command button, and click the desired options."
   ]
  },
  {
   "cell_type": "code",
   "execution_count": null,
   "metadata": {},
   "outputs": [],
   "source": []
  },
  {
   "cell_type": "markdown",
   "metadata": {},
   "source": [
    "\n",
    "### Compensation Component Search Box\n",
    "\n",
    "Type all or part of a search string in the search text box. The contents of the box will filter to show only those options that contain the search string."
   ]
  },
  {
   "cell_type": "code",
   "execution_count": null,
   "metadata": {},
   "outputs": [],
   "source": []
  },
  {
   "cell_type": "markdown",
   "metadata": {},
   "source": [
    "\n",
    "### Compensation Component\n",
    "\n",
    "Select a Compensation Component. To select multiple options, hold the Ctrl/Command button, and click the desired options."
   ]
  },
  {
   "cell_type": "code",
   "execution_count": null,
   "metadata": {},
   "outputs": [],
   "source": []
  },
  {
   "cell_type": "markdown",
   "metadata": {},
   "source": [
    "\n",
    "### Occupation Search Box\n",
    "\n",
    "Type all or part of a search string in the search text box. The contents of the box will filter to show only those options that contain the search string."
   ]
  },
  {
   "cell_type": "code",
   "execution_count": null,
   "metadata": {},
   "outputs": [],
   "source": []
  },
  {
   "cell_type": "markdown",
   "metadata": {},
   "source": [
    "\n",
    "### Occupation\n",
    "\n",
    "Select an Occupation. To select multiple options, hold the Ctrl/Command button, and click the desired options."
   ]
  },
  {
   "cell_type": "markdown",
   "metadata": {},
   "source": [
    "### Industry Search Box\n",
    "\n",
    "Type all or part of a search string in the search text box. The contents of the box will filter to show only those options that contain the search string."
   ]
  },
  {
   "cell_type": "code",
   "execution_count": null,
   "metadata": {},
   "outputs": [],
   "source": []
  },
  {
   "cell_type": "markdown",
   "metadata": {},
   "source": [
    "### Industry\n",
    "\n",
    "Select an Industry. To select multiple options, hold the Ctrl/Command button, and click the desired options."
   ]
  },
  {
   "cell_type": "code",
   "execution_count": null,
   "metadata": {},
   "outputs": [],
   "source": []
  },
  {
   "cell_type": "markdown",
   "metadata": {},
   "source": [
    "### Subcategory Search Box\n",
    "\n",
    "Type all or part of a search string in the search text box. The contents of the box will filter to show only those options that contain the search string."
   ]
  },
  {
   "cell_type": "code",
   "execution_count": null,
   "metadata": {},
   "outputs": [],
   "source": []
  },
  {
   "cell_type": "markdown",
   "metadata": {},
   "source": [
    "### Subcategory\n",
    "\n",
    "Select a Subcategory. To select multiple options, hold the Ctrl/Command button, and click the desired options."
   ]
  },
  {
   "cell_type": "code",
   "execution_count": null,
   "metadata": {},
   "outputs": [],
   "source": []
  },
  {
   "cell_type": "markdown",
   "metadata": {},
   "source": [
    "### Area Search Box\n",
    "\n",
    "Type all or part of a search string in the search text box. The contents of the box will filter to show only those options that contain the search string."
   ]
  },
  {
   "cell_type": "code",
   "execution_count": null,
   "metadata": {},
   "outputs": [],
   "source": []
  },
  {
   "cell_type": "markdown",
   "metadata": {},
   "source": [
    "### Area\n",
    "\n",
    "Select an Area. To select multiple options, hold the Ctrl/Command button, and click the desired options."
   ]
  },
  {
   "cell_type": "code",
   "execution_count": null,
   "metadata": {},
   "outputs": [],
   "source": []
  },
  {
   "cell_type": "markdown",
   "metadata": {},
   "source": [
    "### Periodicity\n",
    "\n",
    "You may select one or more checkboxes for Periodicity."
   ]
  },
  {
   "cell_type": "code",
   "execution_count": null,
   "metadata": {},
   "outputs": [],
   "source": []
  },
  {
   "cell_type": "markdown",
   "metadata": {},
   "source": [
    "### Seasonal\n",
    "\n",
    "Seasonal adjustment is a statistical technique that attempts to measure and remove the influences of predictable seasonal patterns from time series data. Seasonally adjusted data contain this type of adjustment to enable comparisons of data across any point in time. Not seasonally data have no such adjustment."
   ]
  },
  {
   "cell_type": "code",
   "execution_count": null,
   "metadata": {},
   "outputs": [],
   "source": []
  },
  {
   "cell_type": "markdown",
   "metadata": {},
   "source": [
    "### Add to selection\n",
    "\n",
    "You must make a selection for each of the characteristics in the order listed. Once you have selected all of the characteristics, the “Add to selection” button becomes active. Click the “Add to selection” button to list the selected data series in the “Your selection” box. You can return to the characteristics boxes and make new selections to request additional data series. Click the \"Get Data\" button to retrieve all the selected data series."
   ]
  },
  {
   "cell_type": "code",
   "execution_count": null,
   "metadata": {},
   "outputs": [],
   "source": []
  },
  {
   "cell_type": "markdown",
   "metadata": {},
   "source": [
    "### Get Data\n",
    "\n",
    "You must make a selection for each of the characteristics in the order listed. Once you have selected all of the characteristics, the “Get Data” button becomes active. Click to retrieve the data."
   ]
  },
  {
   "cell_type": "code",
   "execution_count": null,
   "metadata": {},
   "outputs": [],
   "source": []
  },
  {
   "cell_type": "code",
   "execution_count": null,
   "metadata": {},
   "outputs": [],
   "source": []
  },
  {
   "cell_type": "code",
   "execution_count": null,
   "metadata": {},
   "outputs": [],
   "source": []
  },
  {
   "cell_type": "code",
   "execution_count": null,
   "metadata": {},
   "outputs": [],
   "source": []
  },
  {
   "cell_type": "code",
   "execution_count": null,
   "metadata": {},
   "outputs": [],
   "source": []
  }
 ],
 "metadata": {
  "kernelspec": {
   "display_name": "Python 3",
   "language": "python",
   "name": "python3"
  },
  "language_info": {
   "codemirror_mode": {
    "name": "ipython",
    "version": 3
   },
   "file_extension": ".py",
   "mimetype": "text/x-python",
   "name": "python",
   "nbconvert_exporter": "python",
   "pygments_lexer": "ipython3",
   "version": "3.8.3"
  }
 },
 "nbformat": 4,
 "nbformat_minor": 4
}
