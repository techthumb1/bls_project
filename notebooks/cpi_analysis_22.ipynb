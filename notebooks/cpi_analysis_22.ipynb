{
 "cells": [
  {
   "cell_type": "markdown",
   "metadata": {},
   "source": [
    "\n",
    "## BLS Part II: Consumer Price Index Analysis"
   ]
  },
  {
   "cell_type": "code",
   "execution_count": 71,
   "metadata": {},
   "outputs": [
    {
     "name": "stdout",
     "output_type": "stream",
     "text": [
      "\n",
      " Series ID: CUUR0000SA0 \n",
      " Consumer Price Index\n"
     ]
    },
    {
     "data": {
      "text/html": [
       "<div>\n",
       "<style scoped>\n",
       "    .dataframe tbody tr th:only-of-type {\n",
       "        vertical-align: middle;\n",
       "    }\n",
       "\n",
       "    .dataframe tbody tr th {\n",
       "        vertical-align: top;\n",
       "    }\n",
       "\n",
       "    .dataframe thead th {\n",
       "        text-align: right;\n",
       "    }\n",
       "</style>\n",
       "<table border=\"1\" class=\"dataframe\">\n",
       "  <thead>\n",
       "    <tr style=\"text-align: right;\">\n",
       "      <th></th>\n",
       "      <th>Series ID</th>\n",
       "      <th>Year</th>\n",
       "      <th>Period</th>\n",
       "      <th>Label</th>\n",
       "      <th>Value</th>\n",
       "    </tr>\n",
       "  </thead>\n",
       "  <tbody>\n",
       "    <tr>\n",
       "      <th>0</th>\n",
       "      <td>CUUR0000SA0</td>\n",
       "      <td>2010</td>\n",
       "      <td>M01</td>\n",
       "      <td>2010 Jan</td>\n",
       "      <td>216.687</td>\n",
       "    </tr>\n",
       "    <tr>\n",
       "      <th>1</th>\n",
       "      <td>CUUR0000SA0</td>\n",
       "      <td>2010</td>\n",
       "      <td>M02</td>\n",
       "      <td>2010 Feb</td>\n",
       "      <td>216.741</td>\n",
       "    </tr>\n",
       "    <tr>\n",
       "      <th>2</th>\n",
       "      <td>CUUR0000SA0</td>\n",
       "      <td>2010</td>\n",
       "      <td>M03</td>\n",
       "      <td>2010 Mar</td>\n",
       "      <td>217.631</td>\n",
       "    </tr>\n",
       "    <tr>\n",
       "      <th>3</th>\n",
       "      <td>CUUR0000SA0</td>\n",
       "      <td>2010</td>\n",
       "      <td>M04</td>\n",
       "      <td>2010 Apr</td>\n",
       "      <td>218.009</td>\n",
       "    </tr>\n",
       "    <tr>\n",
       "      <th>4</th>\n",
       "      <td>CUUR0000SA0</td>\n",
       "      <td>2010</td>\n",
       "      <td>M05</td>\n",
       "      <td>2010 May</td>\n",
       "      <td>218.178</td>\n",
       "    </tr>\n",
       "  </tbody>\n",
       "</table>\n",
       "</div>"
      ],
      "text/plain": [
       "     Series ID  Year Period     Label    Value\n",
       "0  CUUR0000SA0  2010    M01  2010 Jan  216.687\n",
       "1  CUUR0000SA0  2010    M02  2010 Feb  216.741\n",
       "2  CUUR0000SA0  2010    M03  2010 Mar  217.631\n",
       "3  CUUR0000SA0  2010    M04  2010 Apr  218.009\n",
       "4  CUUR0000SA0  2010    M05  2010 May  218.178"
      ]
     },
     "execution_count": 71,
     "metadata": {},
     "output_type": "execute_result"
    }
   ],
   "source": [
    "import pandas as pd\n",
    "\n",
    "cpi = pd.read_csv('/Users/jasonrobinson/Documents/Projects/bls_project/data/cpi_analysis_22.csv')\n",
    "print('\\n', \"Series ID: CUUR0000SA0\", '\\n', \"Consumer Price Index\")\n",
    "cpi.head()"
   ]
  },
  {
   "cell_type": "code",
   "execution_count": 19,
   "metadata": {},
   "outputs": [
    {
     "data": {
      "text/plain": [
       "0      True\n",
       "1      True\n",
       "2      True\n",
       "3      True\n",
       "4      True\n",
       "       ... \n",
       "116    True\n",
       "117    True\n",
       "118    True\n",
       "119    True\n",
       "120    True\n",
       "Name: Year, Length: 121, dtype: bool"
      ]
     },
     "execution_count": 19,
     "metadata": {},
     "output_type": "execute_result"
    }
   ],
   "source": [
    "year_filter[\"Year\"] = df['Year']> 2010\n",
    "year_filter[\"Year\"]"
   ]
  },
  {
   "cell_type": "code",
   "execution_count": 12,
   "metadata": {},
   "outputs": [
    {
     "data": {
      "image/png": "[encoded data removed]",
      "text/plain": [
       "<Figure size 432x288 with 1 Axes>"
      ]
     },
     "metadata": {
      "needs_background": "light"
     },
     "output_type": "display_data"
    }
   ],
   "source": [
    "# Over a ten-year period\n",
    "import seaborn as sns\n",
    "\n",
    "sns.lineplot(cpi['Period'], cpi['Value']);"
   ]
  },
  {
   "cell_type": "code",
   "execution_count": 13,
   "metadata": {},
   "outputs": [
    {
     "data": {
      "text/html": [
       "<div>\n",
       "<style scoped>\n",
       "    .dataframe tbody tr th:only-of-type {\n",
       "        vertical-align: middle;\n",
       "    }\n",
       "\n",
       "    .dataframe tbody tr th {\n",
       "        vertical-align: top;\n",
       "    }\n",
       "\n",
       "    .dataframe thead th {\n",
       "        text-align: right;\n",
       "    }\n",
       "</style>\n",
       "<table border=\"1\" class=\"dataframe\">\n",
       "  <thead>\n",
       "    <tr style=\"text-align: right;\">\n",
       "      <th></th>\n",
       "      <th>Series ID</th>\n",
       "      <th>Year</th>\n",
       "      <th>Period</th>\n",
       "      <th>Label</th>\n",
       "      <th>Value</th>\n",
       "    </tr>\n",
       "  </thead>\n",
       "  <tbody>\n",
       "    <tr>\n",
       "      <th>0</th>\n",
       "      <td>CUSR0000SA0</td>\n",
       "      <td>2012</td>\n",
       "      <td>M01</td>\n",
       "      <td>2012 Jan</td>\n",
       "      <td>227.842</td>\n",
       "    </tr>\n",
       "    <tr>\n",
       "      <th>1</th>\n",
       "      <td>CUSR0000SA0</td>\n",
       "      <td>2012</td>\n",
       "      <td>M02</td>\n",
       "      <td>2012 Feb</td>\n",
       "      <td>228.329</td>\n",
       "    </tr>\n",
       "    <tr>\n",
       "      <th>2</th>\n",
       "      <td>CUSR0000SA0</td>\n",
       "      <td>2012</td>\n",
       "      <td>M03</td>\n",
       "      <td>2012 Mar</td>\n",
       "      <td>228.807</td>\n",
       "    </tr>\n",
       "    <tr>\n",
       "      <th>3</th>\n",
       "      <td>CUSR0000SA0</td>\n",
       "      <td>2012</td>\n",
       "      <td>M04</td>\n",
       "      <td>2012 Apr</td>\n",
       "      <td>229.187</td>\n",
       "    </tr>\n",
       "    <tr>\n",
       "      <th>4</th>\n",
       "      <td>CUSR0000SA0</td>\n",
       "      <td>2012</td>\n",
       "      <td>M05</td>\n",
       "      <td>2012 May</td>\n",
       "      <td>228.713</td>\n",
       "    </tr>\n",
       "  </tbody>\n",
       "</table>\n",
       "</div>"
      ],
      "text/plain": [
       "     Series ID  Year Period     Label    Value\n",
       "0  CUSR0000SA0  2012    M01  2012 Jan  227.842\n",
       "1  CUSR0000SA0  2012    M02  2012 Feb  228.329\n",
       "2  CUSR0000SA0  2012    M03  2012 Mar  228.807\n",
       "3  CUSR0000SA0  2012    M04  2012 Apr  229.187\n",
       "4  CUSR0000SA0  2012    M05  2012 May  228.713"
      ]
     },
     "execution_count": 13,
     "metadata": {},
     "output_type": "execute_result"
    }
   ],
   "source": [
    "df = pd.read_csv('/Users/jasonrobinson/Downloads/file-6.csv')\n",
    "df.head()"
   ]
  },
  {
   "cell_type": "code",
   "execution_count": 20,
   "metadata": {},
   "outputs": [
    {
     "data": {
      "text/plain": [
       "((145, 5), (121, 5))"
      ]
     },
     "execution_count": 20,
     "metadata": {},
     "output_type": "execute_result"
    }
   ],
   "source": [
    "cpi.shape, df.shape"
   ]
  },
  {
   "cell_type": "code",
   "execution_count": 21,
   "metadata": {},
   "outputs": [
    {
     "data": {
      "text/html": [
       "<div>\n",
       "<style scoped>\n",
       "    .dataframe tbody tr th:only-of-type {\n",
       "        vertical-align: middle;\n",
       "    }\n",
       "\n",
       "    .dataframe tbody tr th {\n",
       "        vertical-align: top;\n",
       "    }\n",
       "\n",
       "    .dataframe thead th {\n",
       "        text-align: right;\n",
       "    }\n",
       "</style>\n",
       "<table border=\"1\" class=\"dataframe\">\n",
       "  <thead>\n",
       "    <tr style=\"text-align: right;\">\n",
       "      <th></th>\n",
       "      <th>Year</th>\n",
       "      <th>Value</th>\n",
       "    </tr>\n",
       "  </thead>\n",
       "  <tbody>\n",
       "    <tr>\n",
       "      <th>count</th>\n",
       "      <td>145.000000</td>\n",
       "      <td>145.000000</td>\n",
       "    </tr>\n",
       "    <tr>\n",
       "      <th>mean</th>\n",
       "      <td>2015.544828</td>\n",
       "      <td>242.019290</td>\n",
       "    </tr>\n",
       "    <tr>\n",
       "      <th>std</th>\n",
       "      <td>3.494001</td>\n",
       "      <td>15.109996</td>\n",
       "    </tr>\n",
       "    <tr>\n",
       "      <th>min</th>\n",
       "      <td>2010.000000</td>\n",
       "      <td>216.687000</td>\n",
       "    </tr>\n",
       "    <tr>\n",
       "      <th>25%</th>\n",
       "      <td>2013.000000</td>\n",
       "      <td>231.407000</td>\n",
       "    </tr>\n",
       "    <tr>\n",
       "      <th>50%</th>\n",
       "      <td>2016.000000</td>\n",
       "      <td>238.343000</td>\n",
       "    </tr>\n",
       "    <tr>\n",
       "      <th>75%</th>\n",
       "      <td>2019.000000</td>\n",
       "      <td>252.776000</td>\n",
       "    </tr>\n",
       "    <tr>\n",
       "      <th>max</th>\n",
       "      <td>2022.000000</td>\n",
       "      <td>281.148000</td>\n",
       "    </tr>\n",
       "  </tbody>\n",
       "</table>\n",
       "</div>"
      ],
      "text/plain": [
       "              Year       Value\n",
       "count   145.000000  145.000000\n",
       "mean   2015.544828  242.019290\n",
       "std       3.494001   15.109996\n",
       "min    2010.000000  216.687000\n",
       "25%    2013.000000  231.407000\n",
       "50%    2016.000000  238.343000\n",
       "75%    2019.000000  252.776000\n",
       "max    2022.000000  281.148000"
      ]
     },
     "execution_count": 21,
     "metadata": {},
     "output_type": "execute_result"
    }
   ],
   "source": [
    "cpi.describe()"
   ]
  },
  {
   "cell_type": "code",
   "execution_count": 31,
   "metadata": {},
   "outputs": [
    {
     "data": {
      "image/png": "[encoded data removed]",
      "text/plain": [
       "<Figure size 432x288 with 1 Axes>"
      ]
     },
     "metadata": {
      "needs_background": "light"
     },
     "output_type": "display_data"
    }
   ],
   "source": [
    "sns.scatterplot(cpi['Period'], cpi['Year']);"
   ]
  },
  {
   "cell_type": "code",
   "execution_count": 32,
   "metadata": {},
   "outputs": [
    {
     "data": {
      "image/png": "[encoded data removed]",
      "text/plain": [
       "<Figure size 432x288 with 1 Axes>"
      ]
     },
     "metadata": {
      "needs_background": "light"
     },
     "output_type": "display_data"
    }
   ],
   "source": [
    "sns.scatterplot(cpi['Value'], cpi['Year']);"
   ]
  },
  {
   "cell_type": "code",
   "execution_count": 48,
   "metadata": {},
   "outputs": [
    {
     "data": {
      "image/png": "[encoded data removed]",
      "text/plain": [
       "<Figure size 432x288 with 1 Axes>"
      ]
     },
     "metadata": {
      "needs_background": "light"
     },
     "output_type": "display_data"
    }
   ],
   "source": [
    "# Get a visual of the distribution of values\n",
    "sns.distplot(cpi['Value']);"
   ]
  },
  {
   "cell_type": "code",
   "execution_count": 54,
   "metadata": {},
   "outputs": [
    {
     "data": {
      "application/vnd.plotly.v1+json": {
       "config": {
        "plotlyServerURL": "https://plot.ly"
       },
       "data": [
        {
         "type": "histogram",
         "x": [
          216.687,
          216.74099999999999,
          217.63099999999997,
          218.00900000000001,
          218.178,
          217.965,
          218.011,
          218.312,
          218.43900000000002,
          218.71099999999998,
          218.803,
          219.179,
          220.22299999999998,
          221.30900000000003,
          223.467,
          224.90599999999998,
          225.96400000000003,
          225.722,
          225.922,
          226.545,
          226.889,
          226.421,
          226.23,
          225.672,
          226.665,
          227.66299999999998,
          229.392,
          230.085,
          229.815,
          229.47799999999998,
          229.104,
          230.37900000000002,
          231.407,
          231.317,
          230.22099999999998,
          229.601,
          230.28,
          232.166,
          232.773,
          232.53099999999998,
          232.945,
          233.50400000000002,
          233.59599999999998,
          233.877,
          234.149,
          233.546,
          233.06900000000002,
          233.049,
          233.916,
          234.78099999999998,
          236.293,
          237.072,
          237.9,
          238.343,
          238.25,
          237.852,
          238.03099999999998,
          237.433,
          236.15099999999998,
          234.812,
          233.707,
          234.722,
          236.11900000000003,
          236.59900000000002,
          237.805,
          238.638,
          238.65400000000002,
          238.31599999999997,
          237.945,
          237.838,
          237.33599999999998,
          236.525,
          236.916,
          237.111,
          238.132,
          239.261,
          240.229,
          241.018,
          240.628,
          240.84900000000002,
          241.428,
          241.729,
          241.35299999999998,
          241.43200000000002,
          242.83900000000003,
          243.60299999999998,
          243.801,
          244.524,
          244.733,
          244.955,
          244.78599999999997,
          245.519,
          246.81900000000002,
          246.66299999999998,
          246.669,
          246.524,
          247.86700000000002,
          248.99099999999999,
          249.554,
          250.546,
          251.588,
          251.989,
          252.00599999999997,
          252.146,
          252.43900000000002,
          252.885,
          252.03799999999998,
          251.233,
          251.71200000000002,
          252.77599999999998,
          254.202,
          255.548,
          256.092,
          256.143,
          256.57099999999997,
          256.558,
          256.759,
          257.346,
          257.20799999999997,
          256.974,
          257.971,
          258.678,
          258.115,
          256.389,
          256.394,
          257.797,
          259.101,
          259.918,
          260.28,
          260.388,
          260.22900000000004,
          260.474,
          261.582,
          263.014,
          264.877,
          267.05400000000003,
          269.195,
          271.69599999999997,
          273.003,
          273.567,
          274.31,
          276.589,
          277.948,
          278.802,
          281.14799999999997
         ]
        }
       ],
       "layout": {
        "template": {
         "data": {
          "bar": [
           {
            "error_x": {
             "color": "#2a3f5f"
            },
            "error_y": {
             "color": "#2a3f5f"
            },
            "marker": {
             "line": {
              "color": "#E5ECF6",
              "width": 0.5
             },
             "pattern": {
              "fillmode": "overlay",
              "size": 10,
              "solidity": 0.2
             }
            },
            "type": "bar"
           }
          ],
          "barpolar": [
           {
            "marker": {
             "line": {
              "color": "#E5ECF6",
              "width": 0.5
             },
             "pattern": {
              "fillmode": "overlay",
              "size": 10,
              "solidity": 0.2
             }
            },
            "type": "barpolar"
           }
          ],
          "carpet": [
           {
            "aaxis": {
             "endlinecolor": "#2a3f5f",
             "gridcolor": "white",
             "linecolor": "white",
             "minorgridcolor": "white",
             "startlinecolor": "#2a3f5f"
            },
            "baxis": {
             "endlinecolor": "#2a3f5f",
             "gridcolor": "white",
             "linecolor": "white",
             "minorgridcolor": "white",
             "startlinecolor": "#2a3f5f"
            },
            "type": "carpet"
           }
          ],
          "choropleth": [
           {
            "colorbar": {
             "outlinewidth": 0,
             "ticks": ""
            },
            "type": "choropleth"
           }
          ],
          "contour": [
           {
            "colorbar": {
             "outlinewidth": 0,
             "ticks": ""
            },
            "colorscale": [
             [
              0,
              "#0d0887"
             ],
             [
              0.1111111111111111,
              "#46039f"
             ],
             [
              0.2222222222222222,
              "#7201a8"
             ],
             [
              0.3333333333333333,
              "#9c179e"
             ],
             [
              0.4444444444444444,
              "#bd3786"
             ],
             [
              0.5555555555555556,
              "#d8576b"
             ],
             [
              0.6666666666666666,
              "#ed7953"
             ],
             [
              0.7777777777777778,
              "#fb9f3a"
             ],
             [
              0.8888888888888888,
              "#fdca26"
             ],
             [
              1,
              "#f0f921"
             ]
            ],
            "type": "contour"
           }
          ],
          "contourcarpet": [
           {
            "colorbar": {
             "outlinewidth": 0,
             "ticks": ""
            },
            "type": "contourcarpet"
           }
          ],
          "heatmap": [
           {
            "colorbar": {
             "outlinewidth": 0,
             "ticks": ""
            },
            "colorscale": [
             [
              0,
              "#0d0887"
             ],
             [
              0.1111111111111111,
              "#46039f"
             ],
             [
              0.2222222222222222,
              "#7201a8"
             ],
             [
              0.3333333333333333,
              "#9c179e"
             ],
             [
              0.4444444444444444,
              "#bd3786"
             ],
             [
              0.5555555555555556,
              "#d8576b"
             ],
             [
              0.6666666666666666,
              "#ed7953"
             ],
             [
              0.7777777777777778,
              "#fb9f3a"
             ],
             [
              0.8888888888888888,
              "#fdca26"
             ],
             [
              1,
              "#f0f921"
             ]
            ],
            "type": "heatmap"
           }
          ],
          "heatmapgl": [
           {
            "colorbar": {
             "outlinewidth": 0,
             "ticks": ""
            },
            "colorscale": [
             [
              0,
              "#0d0887"
             ],
             [
              0.1111111111111111,
              "#46039f"
             ],
             [
              0.2222222222222222,
              "#7201a8"
             ],
             [
              0.3333333333333333,
              "#9c179e"
             ],
             [
              0.4444444444444444,
              "#bd3786"
             ],
             [
              0.5555555555555556,
              "#d8576b"
             ],
             [
              0.6666666666666666,
              "#ed7953"
             ],
             [
              0.7777777777777778,
              "#fb9f3a"
             ],
             [
              0.8888888888888888,
              "#fdca26"
             ],
             [
              1,
              "#f0f921"
             ]
            ],
            "type": "heatmapgl"
           }
          ],
          "histogram": [
           {
            "marker": {
             "pattern": {
              "fillmode": "overlay",
              "size": 10,
              "solidity": 0.2
             }
            },
            "type": "histogram"
           }
          ],
          "histogram2d": [
           {
            "colorbar": {
             "outlinewidth": 0,
             "ticks": ""
            },
            "colorscale": [
             [
              0,
              "#0d0887"
             ],
             [
              0.1111111111111111,
              "#46039f"
             ],
             [
              0.2222222222222222,
              "#7201a8"
             ],
             [
              0.3333333333333333,
              "#9c179e"
             ],
             [
              0.4444444444444444,
              "#bd3786"
             ],
             [
              0.5555555555555556,
              "#d8576b"
             ],
             [
              0.6666666666666666,
              "#ed7953"
             ],
             [
              0.7777777777777778,
              "#fb9f3a"
             ],
             [
              0.8888888888888888,
              "#fdca26"
             ],
             [
              1,
              "#f0f921"
             ]
            ],
            "type": "histogram2d"
           }
          ],
          "histogram2dcontour": [
           {
            "colorbar": {
             "outlinewidth": 0,
             "ticks": ""
            },
            "colorscale": [
             [
              0,
              "#0d0887"
             ],
             [
              0.1111111111111111,
              "#46039f"
             ],
             [
              0.2222222222222222,
              "#7201a8"
             ],
             [
              0.3333333333333333,
              "#9c179e"
             ],
             [
              0.4444444444444444,
              "#bd3786"
             ],
             [
              0.5555555555555556,
              "#d8576b"
             ],
             [
              0.6666666666666666,
              "#ed7953"
             ],
             [
              0.7777777777777778,
              "#fb9f3a"
             ],
             [
              0.8888888888888888,
              "#fdca26"
             ],
             [
              1,
              "#f0f921"
             ]
            ],
            "type": "histogram2dcontour"
           }
          ],
          "mesh3d": [
           {
            "colorbar": {
             "outlinewidth": 0,
             "ticks": ""
            },
            "type": "mesh3d"
           }
          ],
          "parcoords": [
           {
            "line": {
             "colorbar": {
              "outlinewidth": 0,
              "ticks": ""
             }
            },
            "type": "parcoords"
           }
          ],
          "pie": [
           {
            "automargin": true,
            "type": "pie"
           }
          ],
          "scatter": [
           {
            "marker": {
             "colorbar": {
              "outlinewidth": 0,
              "ticks": ""
             }
            },
            "type": "scatter"
           }
          ],
          "scatter3d": [
           {
            "line": {
             "colorbar": {
              "outlinewidth": 0,
              "ticks": ""
             }
            },
            "marker": {
             "colorbar": {
              "outlinewidth": 0,
              "ticks": ""
             }
            },
            "type": "scatter3d"
           }
          ],
          "scattercarpet": [
           {
            "marker": {
             "colorbar": {
              "outlinewidth": 0,
              "ticks": ""
             }
            },
            "type": "scattercarpet"
           }
          ],
          "scattergeo": [
           {
            "marker": {
             "colorbar": {
              "outlinewidth": 0,
              "ticks": ""
             }
            },
            "type": "scattergeo"
           }
          ],
          "scattergl": [
           {
            "marker": {
             "colorbar": {
              "outlinewidth": 0,
              "ticks": ""
             }
            },
            "type": "scattergl"
           }
          ],
          "scattermapbox": [
           {
            "marker": {
             "colorbar": {
              "outlinewidth": 0,
              "ticks": ""
             }
            },
            "type": "scattermapbox"
           }
          ],
          "scatterpolar": [
           {
            "marker": {
             "colorbar": {
              "outlinewidth": 0,
              "ticks": ""
             }
            },
            "type": "scatterpolar"
           }
          ],
          "scatterpolargl": [
           {
            "marker": {
             "colorbar": {
              "outlinewidth": 0,
              "ticks": ""
             }
            },
            "type": "scatterpolargl"
           }
          ],
          "scatterternary": [
           {
            "marker": {
             "colorbar": {
              "outlinewidth": 0,
              "ticks": ""
             }
            },
            "type": "scatterternary"
           }
          ],
          "surface": [
           {
            "colorbar": {
             "outlinewidth": 0,
             "ticks": ""
            },
            "colorscale": [
             [
              0,
              "#0d0887"
             ],
             [
              0.1111111111111111,
              "#46039f"
             ],
             [
              0.2222222222222222,
              "#7201a8"
             ],
             [
              0.3333333333333333,
              "#9c179e"
             ],
             [
              0.4444444444444444,
              "#bd3786"
             ],
             [
              0.5555555555555556,
              "#d8576b"
             ],
             [
              0.6666666666666666,
              "#ed7953"
             ],
             [
              0.7777777777777778,
              "#fb9f3a"
             ],
             [
              0.8888888888888888,
              "#fdca26"
             ],
             [
              1,
              "#f0f921"
             ]
            ],
            "type": "surface"
           }
          ],
          "table": [
           {
            "cells": {
             "fill": {
              "color": "#EBF0F8"
             },
             "line": {
              "color": "white"
             }
            },
            "header": {
             "fill": {
              "color": "#C8D4E3"
             },
             "line": {
              "color": "white"
             }
            },
            "type": "table"
           }
          ]
         },
         "layout": {
          "annotationdefaults": {
           "arrowcolor": "#2a3f5f",
           "arrowhead": 0,
           "arrowwidth": 1
          },
          "autotypenumbers": "strict",
          "coloraxis": {
           "colorbar": {
            "outlinewidth": 0,
            "ticks": ""
           }
          },
          "colorscale": {
           "diverging": [
            [
             0,
             "#8e0152"
            ],
            [
             0.1,
             "#c51b7d"
            ],
            [
             0.2,
             "#de77ae"
            ],
            [
             0.3,
             "#f1b6da"
            ],
            [
             0.4,
             "#fde0ef"
            ],
            [
             0.5,
             "#f7f7f7"
            ],
            [
             0.6,
             "#e6f5d0"
            ],
            [
             0.7,
             "#b8e186"
            ],
            [
             0.8,
             "#7fbc41"
            ],
            [
             0.9,
             "#4d9221"
            ],
            [
             1,
             "#276419"
            ]
           ],
           "sequential": [
            [
             0,
             "#0d0887"
            ],
            [
             0.1111111111111111,
             "#46039f"
            ],
            [
             0.2222222222222222,
             "#7201a8"
            ],
            [
             0.3333333333333333,
             "#9c179e"
            ],
            [
             0.4444444444444444,
             "#bd3786"
            ],
            [
             0.5555555555555556,
             "#d8576b"
            ],
            [
             0.6666666666666666,
             "#ed7953"
            ],
            [
             0.7777777777777778,
             "#fb9f3a"
            ],
            [
             0.8888888888888888,
             "#fdca26"
            ],
            [
             1,
             "#f0f921"
            ]
           ],
           "sequentialminus": [
            [
             0,
             "#0d0887"
            ],
            [
             0.1111111111111111,
             "#46039f"
            ],
            [
             0.2222222222222222,
             "#7201a8"
            ],
            [
             0.3333333333333333,
             "#9c179e"
            ],
            [
             0.4444444444444444,
             "#bd3786"
            ],
            [
             0.5555555555555556,
             "#d8576b"
            ],
            [
             0.6666666666666666,
             "#ed7953"
            ],
            [
             0.7777777777777778,
             "#fb9f3a"
            ],
            [
             0.8888888888888888,
             "#fdca26"
            ],
            [
             1,
             "#f0f921"
            ]
           ]
          },
          "colorway": [
           "#636efa",
           "#EF553B",
           "#00cc96",
           "#ab63fa",
           "#FFA15A",
           "#19d3f3",
           "#FF6692",
           "#B6E880",
           "#FF97FF",
           "#FECB52"
          ],
          "font": {
           "color": "#2a3f5f"
          },
          "geo": {
           "bgcolor": "white",
           "lakecolor": "white",
           "landcolor": "#E5ECF6",
           "showlakes": true,
           "showland": true,
           "subunitcolor": "white"
          },
          "hoverlabel": {
           "align": "left"
          },
          "hovermode": "closest",
          "mapbox": {
           "style": "light"
          },
          "paper_bgcolor": "white",
          "plot_bgcolor": "#E5ECF6",
          "polar": {
           "angularaxis": {
            "gridcolor": "white",
            "linecolor": "white",
            "ticks": ""
           },
           "bgcolor": "#E5ECF6",
           "radialaxis": {
            "gridcolor": "white",
            "linecolor": "white",
            "ticks": ""
           }
          },
          "scene": {
           "xaxis": {
            "backgroundcolor": "#E5ECF6",
            "gridcolor": "white",
            "gridwidth": 2,
            "linecolor": "white",
            "showbackground": true,
            "ticks": "",
            "zerolinecolor": "white"
           },
           "yaxis": {
            "backgroundcolor": "#E5ECF6",
            "gridcolor": "white",
            "gridwidth": 2,
            "linecolor": "white",
            "showbackground": true,
            "ticks": "",
            "zerolinecolor": "white"
           },
           "zaxis": {
            "backgroundcolor": "#E5ECF6",
            "gridcolor": "white",
            "gridwidth": 2,
            "linecolor": "white",
            "showbackground": true,
            "ticks": "",
            "zerolinecolor": "white"
           }
          },
          "shapedefaults": {
           "line": {
            "color": "#2a3f5f"
           }
          },
          "ternary": {
           "aaxis": {
            "gridcolor": "white",
            "linecolor": "white",
            "ticks": ""
           },
           "baxis": {
            "gridcolor": "white",
            "linecolor": "white",
            "ticks": ""
           },
           "bgcolor": "#E5ECF6",
           "caxis": {
            "gridcolor": "white",
            "linecolor": "white",
            "ticks": ""
           }
          },
          "title": {
           "x": 0.05
          },
          "xaxis": {
           "automargin": true,
           "gridcolor": "white",
           "linecolor": "white",
           "ticks": "",
           "title": {
            "standoff": 15
           },
           "zerolinecolor": "white",
           "zerolinewidth": 2
          },
          "yaxis": {
           "automargin": true,
           "gridcolor": "white",
           "linecolor": "white",
           "ticks": "",
           "title": {
            "standoff": 15
           },
           "zerolinecolor": "white",
           "zerolinewidth": 2
          }
         }
        }
       }
      },
      "text/html": [
       "<div>                            <div id=\"b1e83efd-09ad-4aec-acb6-9e4b7e631c8d\" class=\"plotly-graph-div\" style=\"height:525px; width:100%;\"></div>            <script type=\"text/javascript\">                require([\"plotly\"], function(Plotly) {                    window.PLOTLYENV=window.PLOTLYENV || {};                                    if (document.getElementById(\"b1e83efd-09ad-4aec-acb6-9e4b7e631c8d\")) {                    Plotly.newPlot(                        \"b1e83efd-09ad-4aec-acb6-9e4b7e631c8d\",                        [{\"type\":\"histogram\",\"x\":[216.687,216.74099999999999,217.63099999999997,218.00900000000001,218.178,217.965,218.011,218.312,218.43900000000002,218.71099999999998,218.803,219.179,220.22299999999998,221.30900000000003,223.467,224.90599999999998,225.96400000000003,225.722,225.922,226.545,226.889,226.421,226.23,225.672,226.665,227.66299999999998,229.392,230.085,229.815,229.47799999999998,229.104,230.37900000000002,231.407,231.317,230.22099999999998,229.601,230.28,232.166,232.773,232.53099999999998,232.945,233.50400000000002,233.59599999999998,233.877,234.149,233.546,233.06900000000002,233.049,233.916,234.78099999999998,236.293,237.072,237.9,238.343,238.25,237.852,238.03099999999998,237.433,236.15099999999998,234.812,233.707,234.722,236.11900000000003,236.59900000000002,237.805,238.638,238.65400000000002,238.31599999999997,237.945,237.838,237.33599999999998,236.525,236.916,237.111,238.132,239.261,240.229,241.018,240.628,240.84900000000002,241.428,241.729,241.35299999999998,241.43200000000002,242.83900000000003,243.60299999999998,243.801,244.524,244.733,244.955,244.78599999999997,245.519,246.81900000000002,246.66299999999998,246.669,246.524,247.86700000000002,248.99099999999999,249.554,250.546,251.588,251.989,252.00599999999997,252.146,252.43900000000002,252.885,252.03799999999998,251.233,251.71200000000002,252.77599999999998,254.202,255.548,256.092,256.143,256.57099999999997,256.558,256.759,257.346,257.20799999999997,256.974,257.971,258.678,258.115,256.389,256.394,257.797,259.101,259.918,260.28,260.388,260.22900000000004,260.474,261.582,263.014,264.877,267.05400000000003,269.195,271.69599999999997,273.003,273.567,274.31,276.589,277.948,278.802,281.14799999999997]}],                        {\"template\":{\"data\":{\"bar\":[{\"error_x\":{\"color\":\"#2a3f5f\"},\"error_y\":{\"color\":\"#2a3f5f\"},\"marker\":{\"line\":{\"color\":\"#E5ECF6\",\"width\":0.5},\"pattern\":{\"fillmode\":\"overlay\",\"size\":10,\"solidity\":0.2}},\"type\":\"bar\"}],\"barpolar\":[{\"marker\":{\"line\":{\"color\":\"#E5ECF6\",\"width\":0.5},\"pattern\":{\"fillmode\":\"overlay\",\"size\":10,\"solidity\":0.2}},\"type\":\"barpolar\"}],\"carpet\":[{\"aaxis\":{\"endlinecolor\":\"#2a3f5f\",\"gridcolor\":\"white\",\"linecolor\":\"white\",\"minorgridcolor\":\"white\",\"startlinecolor\":\"#2a3f5f\"},\"baxis\":{\"endlinecolor\":\"#2a3f5f\",\"gridcolor\":\"white\",\"linecolor\":\"white\",\"minorgridcolor\":\"white\",\"startlinecolor\":\"#2a3f5f\"},\"type\":\"carpet\"}],\"choropleth\":[{\"colorbar\":{\"outlinewidth\":0,\"ticks\":\"\"},\"type\":\"choropleth\"}],\"contour\":[{\"colorbar\":{\"outlinewidth\":0,\"ticks\":\"\"},\"colorscale\":[[0.0,\"#0d0887\"],[0.1111111111111111,\"#46039f\"],[0.2222222222222222,\"#7201a8\"],[0.3333333333333333,\"#9c179e\"],[0.4444444444444444,\"#bd3786\"],[0.5555555555555556,\"#d8576b\"],[0.6666666666666666,\"#ed7953\"],[0.7777777777777778,\"#fb9f3a\"],[0.8888888888888888,\"#fdca26\"],[1.0,\"#f0f921\"]],\"type\":\"contour\"}],\"contourcarpet\":[{\"colorbar\":{\"outlinewidth\":0,\"ticks\":\"\"},\"type\":\"contourcarpet\"}],\"heatmap\":[{\"colorbar\":{\"outlinewidth\":0,\"ticks\":\"\"},\"colorscale\":[[0.0,\"#0d0887\"],[0.1111111111111111,\"#46039f\"],[0.2222222222222222,\"#7201a8\"],[0.3333333333333333,\"#9c179e\"],[0.4444444444444444,\"#bd3786\"],[0.5555555555555556,\"#d8576b\"],[0.6666666666666666,\"#ed7953\"],[0.7777777777777778,\"#fb9f3a\"],[0.8888888888888888,\"#fdca26\"],[1.0,\"#f0f921\"]],\"type\":\"heatmap\"}],\"heatmapgl\":[{\"colorbar\":{\"outlinewidth\":0,\"ticks\":\"\"},\"colorscale\":[[0.0,\"#0d0887\"],[0.1111111111111111,\"#46039f\"],[0.2222222222222222,\"#7201a8\"],[0.3333333333333333,\"#9c179e\"],[0.4444444444444444,\"#bd3786\"],[0.5555555555555556,\"#d8576b\"],[0.6666666666666666,\"#ed7953\"],[0.7777777777777778,\"#fb9f3a\"],[0.8888888888888888,\"#fdca26\"],[1.0,\"#f0f921\"]],\"type\":\"heatmapgl\"}],\"histogram\":[{\"marker\":{\"pattern\":{\"fillmode\":\"overlay\",\"size\":10,\"solidity\":0.2}},\"type\":\"histogram\"}],\"histogram2d\":[{\"colorbar\":{\"outlinewidth\":0,\"ticks\":\"\"},\"colorscale\":[[0.0,\"#0d0887\"],[0.1111111111111111,\"#46039f\"],[0.2222222222222222,\"#7201a8\"],[0.3333333333333333,\"#9c179e\"],[0.4444444444444444,\"#bd3786\"],[0.5555555555555556,\"#d8576b\"],[0.6666666666666666,\"#ed7953\"],[0.7777777777777778,\"#fb9f3a\"],[0.8888888888888888,\"#fdca26\"],[1.0,\"#f0f921\"]],\"type\":\"histogram2d\"}],\"histogram2dcontour\":[{\"colorbar\":{\"outlinewidth\":0,\"ticks\":\"\"},\"colorscale\":[[0.0,\"#0d0887\"],[0.1111111111111111,\"#46039f\"],[0.2222222222222222,\"#7201a8\"],[0.3333333333333333,\"#9c179e\"],[0.4444444444444444,\"#bd3786\"],[0.5555555555555556,\"#d8576b\"],[0.6666666666666666,\"#ed7953\"],[0.7777777777777778,\"#fb9f3a\"],[0.8888888888888888,\"#fdca26\"],[1.0,\"#f0f921\"]],\"type\":\"histogram2dcontour\"}],\"mesh3d\":[{\"colorbar\":{\"outlinewidth\":0,\"ticks\":\"\"},\"type\":\"mesh3d\"}],\"parcoords\":[{\"line\":{\"colorbar\":{\"outlinewidth\":0,\"ticks\":\"\"}},\"type\":\"parcoords\"}],\"pie\":[{\"automargin\":true,\"type\":\"pie\"}],\"scatter\":[{\"marker\":{\"colorbar\":{\"outlinewidth\":0,\"ticks\":\"\"}},\"type\":\"scatter\"}],\"scatter3d\":[{\"line\":{\"colorbar\":{\"outlinewidth\":0,\"ticks\":\"\"}},\"marker\":{\"colorbar\":{\"outlinewidth\":0,\"ticks\":\"\"}},\"type\":\"scatter3d\"}],\"scattercarpet\":[{\"marker\":{\"colorbar\":{\"outlinewidth\":0,\"ticks\":\"\"}},\"type\":\"scattercarpet\"}],\"scattergeo\":[{\"marker\":{\"colorbar\":{\"outlinewidth\":0,\"ticks\":\"\"}},\"type\":\"scattergeo\"}],\"scattergl\":[{\"marker\":{\"colorbar\":{\"outlinewidth\":0,\"ticks\":\"\"}},\"type\":\"scattergl\"}],\"scattermapbox\":[{\"marker\":{\"colorbar\":{\"outlinewidth\":0,\"ticks\":\"\"}},\"type\":\"scattermapbox\"}],\"scatterpolar\":[{\"marker\":{\"colorbar\":{\"outlinewidth\":0,\"ticks\":\"\"}},\"type\":\"scatterpolar\"}],\"scatterpolargl\":[{\"marker\":{\"colorbar\":{\"outlinewidth\":0,\"ticks\":\"\"}},\"type\":\"scatterpolargl\"}],\"scatterternary\":[{\"marker\":{\"colorbar\":{\"outlinewidth\":0,\"ticks\":\"\"}},\"type\":\"scatterternary\"}],\"surface\":[{\"colorbar\":{\"outlinewidth\":0,\"ticks\":\"\"},\"colorscale\":[[0.0,\"#0d0887\"],[0.1111111111111111,\"#46039f\"],[0.2222222222222222,\"#7201a8\"],[0.3333333333333333,\"#9c179e\"],[0.4444444444444444,\"#bd3786\"],[0.5555555555555556,\"#d8576b\"],[0.6666666666666666,\"#ed7953\"],[0.7777777777777778,\"#fb9f3a\"],[0.8888888888888888,\"#fdca26\"],[1.0,\"#f0f921\"]],\"type\":\"surface\"}],\"table\":[{\"cells\":{\"fill\":{\"color\":\"#EBF0F8\"},\"line\":{\"color\":\"white\"}},\"header\":{\"fill\":{\"color\":\"#C8D4E3\"},\"line\":{\"color\":\"white\"}},\"type\":\"table\"}]},\"layout\":{\"annotationdefaults\":{\"arrowcolor\":\"#2a3f5f\",\"arrowhead\":0,\"arrowwidth\":1},\"autotypenumbers\":\"strict\",\"coloraxis\":{\"colorbar\":{\"outlinewidth\":0,\"ticks\":\"\"}},\"colorscale\":{\"diverging\":[[0,\"#8e0152\"],[0.1,\"#c51b7d\"],[0.2,\"#de77ae\"],[0.3,\"#f1b6da\"],[0.4,\"#fde0ef\"],[0.5,\"#f7f7f7\"],[0.6,\"#e6f5d0\"],[0.7,\"#b8e186\"],[0.8,\"#7fbc41\"],[0.9,\"#4d9221\"],[1,\"#276419\"]],\"sequential\":[[0.0,\"#0d0887\"],[0.1111111111111111,\"#46039f\"],[0.2222222222222222,\"#7201a8\"],[0.3333333333333333,\"#9c179e\"],[0.4444444444444444,\"#bd3786\"],[0.5555555555555556,\"#d8576b\"],[0.6666666666666666,\"#ed7953\"],[0.7777777777777778,\"#fb9f3a\"],[0.8888888888888888,\"#fdca26\"],[1.0,\"#f0f921\"]],\"sequentialminus\":[[0.0,\"#0d0887\"],[0.1111111111111111,\"#46039f\"],[0.2222222222222222,\"#7201a8\"],[0.3333333333333333,\"#9c179e\"],[0.4444444444444444,\"#bd3786\"],[0.5555555555555556,\"#d8576b\"],[0.6666666666666666,\"#ed7953\"],[0.7777777777777778,\"#fb9f3a\"],[0.8888888888888888,\"#fdca26\"],[1.0,\"#f0f921\"]]},\"colorway\":[\"#636efa\",\"#EF553B\",\"#00cc96\",\"#ab63fa\",\"#FFA15A\",\"#19d3f3\",\"#FF6692\",\"#B6E880\",\"#FF97FF\",\"#FECB52\"],\"font\":{\"color\":\"#2a3f5f\"},\"geo\":{\"bgcolor\":\"white\",\"lakecolor\":\"white\",\"landcolor\":\"#E5ECF6\",\"showlakes\":true,\"showland\":true,\"subunitcolor\":\"white\"},\"hoverlabel\":{\"align\":\"left\"},\"hovermode\":\"closest\",\"mapbox\":{\"style\":\"light\"},\"paper_bgcolor\":\"white\",\"plot_bgcolor\":\"#E5ECF6\",\"polar\":{\"angularaxis\":{\"gridcolor\":\"white\",\"linecolor\":\"white\",\"ticks\":\"\"},\"bgcolor\":\"#E5ECF6\",\"radialaxis\":{\"gridcolor\":\"white\",\"linecolor\":\"white\",\"ticks\":\"\"}},\"scene\":{\"xaxis\":{\"backgroundcolor\":\"#E5ECF6\",\"gridcolor\":\"white\",\"gridwidth\":2,\"linecolor\":\"white\",\"showbackground\":true,\"ticks\":\"\",\"zerolinecolor\":\"white\"},\"yaxis\":{\"backgroundcolor\":\"#E5ECF6\",\"gridcolor\":\"white\",\"gridwidth\":2,\"linecolor\":\"white\",\"showbackground\":true,\"ticks\":\"\",\"zerolinecolor\":\"white\"},\"zaxis\":{\"backgroundcolor\":\"#E5ECF6\",\"gridcolor\":\"white\",\"gridwidth\":2,\"linecolor\":\"white\",\"showbackground\":true,\"ticks\":\"\",\"zerolinecolor\":\"white\"}},\"shapedefaults\":{\"line\":{\"color\":\"#2a3f5f\"}},\"ternary\":{\"aaxis\":{\"gridcolor\":\"white\",\"linecolor\":\"white\",\"ticks\":\"\"},\"baxis\":{\"gridcolor\":\"white\",\"linecolor\":\"white\",\"ticks\":\"\"},\"bgcolor\":\"#E5ECF6\",\"caxis\":{\"gridcolor\":\"white\",\"linecolor\":\"white\",\"ticks\":\"\"}},\"title\":{\"x\":0.05},\"xaxis\":{\"automargin\":true,\"gridcolor\":\"white\",\"linecolor\":\"white\",\"ticks\":\"\",\"title\":{\"standoff\":15},\"zerolinecolor\":\"white\",\"zerolinewidth\":2},\"yaxis\":{\"automargin\":true,\"gridcolor\":\"white\",\"linecolor\":\"white\",\"ticks\":\"\",\"title\":{\"standoff\":15},\"zerolinecolor\":\"white\",\"zerolinewidth\":2}}}},                        {\"responsive\": true}                    ).then(function(){\n",
       "                            \n",
       "var gd = document.getElementById('b1e83efd-09ad-4aec-acb6-9e4b7e631c8d');\n",
       "var x = new MutationObserver(function (mutations, observer) {{\n",
       "        var display = window.getComputedStyle(gd).display;\n",
       "        if (!display || display === 'none') {{\n",
       "            console.log([gd, 'removed!']);\n",
       "            Plotly.purge(gd);\n",
       "            observer.disconnect();\n",
       "        }}\n",
       "}});\n",
       "\n",
       "// Listen for the removal of the full notebook cells\n",
       "var notebookContainer = gd.closest('#notebook-container');\n",
       "if (notebookContainer) {{\n",
       "    x.observe(notebookContainer, {childList: true});\n",
       "}}\n",
       "\n",
       "// Listen for the clearing of the current output cell\n",
       "var outputEl = gd.closest('.output');\n",
       "if (outputEl) {{\n",
       "    x.observe(outputEl, {childList: true});\n",
       "}}\n",
       "\n",
       "                        })                };                });            </script>        </div>"
      ]
     },
     "metadata": {},
     "output_type": "display_data"
    }
   ],
   "source": [
    "import plotly.graph_objects as go\n",
    "#go.Histogram(x=cpi['Value'])\n",
    "display(go.Figure(data=go.Histogram(x=cpi['Value'])))"
   ]
  },
  {
   "cell_type": "code",
   "execution_count": null,
   "metadata": {},
   "outputs": [],
   "source": [
    "\"\"\"\n",
    "What model can we use to predict the CPI? The only thing we need to do is \n",
    "a linear regression or random forest. However, we have an extremely small\n",
    "dataset.\n",
    "\"\"\"\n",
    "# How do we split the data into training and testing sets?\n",
    "# We can use the sklearn library to split the data into training and testing. \n",
    "# Our "
   ]
  },
  {
   "cell_type": "code",
   "execution_count": 55,
   "metadata": {},
   "outputs": [],
   "source": [
    "# Create a function to iterate through the months and years\n",
    "# for each observation\n",
    "\n",
    "def iterate_months(df):\n",
    "    for i in range(0, len(df)):\n",
    "        yield df.iloc[i]['Month'], df.iloc[i]['Year']"
   ]
  },
  {
   "cell_type": "code",
   "execution_count": null,
   "metadata": {},
   "outputs": [],
   "source": [
    "# Filter the values to .2f for example: 143.3452 ~> 143.35\n",
    "def filter_values(value):\n",
    "    return round(value, 2)"
   ]
  },
  {
   "cell_type": "code",
   "execution_count": null,
   "metadata": {},
   "outputs": [],
   "source": [
    "# We need to preprocess the data to get the values in the correct format\n",
    "# for the plotly graph\n",
    "def preprocess_data(df):\n",
    "    df['Period'] = df['Period'].apply(lambda x: x.split('-')[1])\n",
    "    df['Period'] = df['Period'].apply(lambda x: int(x))\n",
    "    df['Year'] = df['Year'].apply(lambda x: int(x))\n",
    "    df['Value'] = df['Value'].apply(lambda x: filter_values(x))\n",
    "    return df"
   ]
  },
  {
   "cell_type": "code",
   "execution_count": null,
   "metadata": {},
   "outputs": [],
   "source": [
    "# Standardize the data value column using sklearn\n",
    "from sklearn import preprocessing\n",
    "\n",
    "scaler = preprocessing.StandardScaler()\n",
    "scaler.fit(cpi['Value'].values.reshape(-1, 1))"
   ]
  },
  {
   "cell_type": "code",
   "execution_count": null,
   "metadata": {},
   "outputs": [],
   "source": [
    "# Scale the data\n",
    "cpi['Value'] = scaler.transform(cpi['Value'].values.reshape(-1, 1))"
   ]
  },
  {
   "cell_type": "code",
   "execution_count": null,
   "metadata": {},
   "outputs": [],
   "source": [
    "# Now we can split the data into training and testing sets\n",
    "from sklearn.model_selection import train_test_split\n",
    "\n",
    "X_train, X_test, y_train, y_test = train_test_split(cpi['Value'], cpi['Year'], test_size=0.2, random_state=42)\n",
    "\n",
    "X_train = X_train.reshape(-1, 1)\n",
    "X_test = X_test.reshape(-1, 1)\n",
    "y_train = y_train.reshape(-1, 1)\n",
    "y_test = y_test.reshape(-1, 1)"
   ]
  },
  {
   "cell_type": "code",
   "execution_count": null,
   "metadata": {},
   "outputs": [],
   "source": [
    "# We can now fit the model to the training data\n",
    "from sklearn.linear_model import LinearRegression\n",
    "\n",
    "lr = LinearRegression()\n",
    "lr.fit(X_train, y_train)\n",
    "\n",
    "# We can now predict the values for the test data\n",
    "y_pred = lr.predict(X_test)"
   ]
  },
  {
   "cell_type": "code",
   "execution_count": 84,
   "metadata": {
    "scrolled": true
   },
   "outputs": [
    {
     "data": {
      "application/vnd.plotly.v1+json": {
       "config": {
        "plotlyServerURL": "https://plot.ly"
       },
       "data": [
        {
         "hovertemplate": "Series ID=CUUR0000SA0<br>Year=%{y}<br>Value=%{marker.size}<extra></extra>",
         "legendgroup": "CUUR0000SA0",
         "marker": {
          "color": "#636efa",
          "size": [
           216.687,
           216.74099999999999,
           217.63099999999997,
           218.00900000000001,
           218.178,
           217.965,
           218.011,
           218.312,
           218.43900000000002,
           218.71099999999998,
           218.803,
           219.179
          ],
          "sizemode": "area",
          "sizeref": 0.7028699999999999,
          "symbol": "circle"
         },
         "mode": "markers",
         "name": "CUUR0000SA0",
         "orientation": "v",
         "showlegend": true,
         "type": "scatter",
         "x": [
          216.687,
          216.74099999999999,
          217.63099999999997,
          218.00900000000001,
          218.178,
          217.965,
          218.011,
          218.312,
          218.43900000000002,
          218.71099999999998,
          218.803,
          219.179
         ],
         "xaxis": "x",
         "y": [
          2010,
          2010,
          2010,
          2010,
          2010,
          2010,
          2010,
          2010,
          2010,
          2010,
          2010,
          2010
         ],
         "yaxis": "y"
        },
        {
         "hovertemplate": "<b>OLS trendline</b><br>Year = -1.13687e-13 * Value + 2010<br>R<sup>2</sup>=-inf<br><br>Series ID=CUUR0000SA0<br>Year=%{y} <b>(trend)</b><br>Value=%{x}<extra></extra>",
         "legendgroup": "CUUR0000SA0",
         "line": {
          "color": "#0072B2"
         },
         "marker": {
          "color": "#636efa",
          "symbol": "circle"
         },
         "mode": "lines",
         "name": "CUUR0000SA0",
         "showlegend": false,
         "type": "scatter",
         "x": [
          216.687,
          216.74099999999999,
          217.63099999999997,
          217.965,
          218.00900000000001,
          218.011,
          218.178,
          218.312,
          218.43900000000002,
          218.71099999999998,
          218.803,
          219.179
         ],
         "xaxis": "x",
         "y": [
          2010.0000000000045,
          2010.0000000000045,
          2010.0000000000043,
          2010.0000000000043,
          2010.0000000000043,
          2010.0000000000043,
          2010.0000000000043,
          2010.0000000000043,
          2010.0000000000043,
          2010.0000000000043,
          2010.0000000000043,
          2010.000000000004
         ],
         "yaxis": "y"
        }
       ],
       "frames": [
        {
         "data": [
          {
           "hovertemplate": "Series ID=CUUR0000SA0<br>Year=%{y}<br>Value=%{marker.size}<extra></extra>",
           "legendgroup": "CUUR0000SA0",
           "marker": {
            "color": "#636efa",
            "size": [
             216.687,
             216.74099999999999,
             217.63099999999997,
             218.00900000000001,
             218.178,
             217.965,
             218.011,
             218.312,
             218.43900000000002,
             218.71099999999998,
             218.803,
             219.179
            ],
            "sizemode": "area",
            "sizeref": 0.7028699999999999,
            "symbol": "circle"
           },
           "mode": "markers",
           "name": "CUUR0000SA0",
           "orientation": "v",
           "showlegend": true,
           "type": "scatter",
           "x": [
            216.687,
            216.74099999999999,
            217.63099999999997,
            218.00900000000001,
            218.178,
            217.965,
            218.011,
            218.312,
            218.43900000000002,
            218.71099999999998,
            218.803,
            219.179
           ],
           "xaxis": "x",
           "y": [
            2010,
            2010,
            2010,
            2010,
            2010,
            2010,
            2010,
            2010,
            2010,
            2010,
            2010,
            2010
           ],
           "yaxis": "y"
          },
          {
           "hovertemplate": "<b>OLS trendline</b><br>Year = -1.13687e-13 * Value + 2010<br>R<sup>2</sup>=-inf<br><br>Series ID=CUUR0000SA0<br>Year=%{y} <b>(trend)</b><br>Value=%{x}<extra></extra>",
           "legendgroup": "CUUR0000SA0",
           "line": {
            "color": "#0072B2"
           },
           "marker": {
            "color": "#636efa",
            "symbol": "circle"
           },
           "mode": "lines",
           "name": "CUUR0000SA0",
           "showlegend": false,
           "type": "scatter",
           "x": [
            216.687,
            216.74099999999999,
            217.63099999999997,
            217.965,
            218.00900000000001,
            218.011,
            218.178,
            218.312,
            218.43900000000002,
            218.71099999999998,
            218.803,
            219.179
           ],
           "xaxis": "x",
           "y": [
            2010.0000000000045,
            2010.0000000000045,
            2010.0000000000043,
            2010.0000000000043,
            2010.0000000000043,
            2010.0000000000043,
            2010.0000000000043,
            2010.0000000000043,
            2010.0000000000043,
            2010.0000000000043,
            2010.0000000000043,
            2010.000000000004
           ],
           "yaxis": "y"
          }
         ],
         "name": "2010"
        },
        {
         "data": [
          {
           "hovertemplate": "Series ID=CUUR0000SA0<br>Year=%{y}<br>Value=%{marker.size}<extra></extra>",
           "legendgroup": "CUUR0000SA0",
           "marker": {
            "color": "#636efa",
            "size": [
             220.22299999999998,
             221.30900000000003,
             223.467,
             224.90599999999998,
             225.96400000000003,
             225.722,
             225.922,
             226.545,
             226.889,
             226.421,
             226.23,
             225.672
            ],
            "sizemode": "area",
            "sizeref": 0.7028699999999999,
            "symbol": "circle"
           },
           "mode": "markers",
           "name": "CUUR0000SA0",
           "orientation": "v",
           "showlegend": true,
           "type": "scatter",
           "x": [
            220.22299999999998,
            221.30900000000003,
            223.467,
            224.90599999999998,
            225.96400000000003,
            225.722,
            225.922,
            226.545,
            226.889,
            226.421,
            226.23,
            225.672
           ],
           "xaxis": "x",
           "y": [
            2011,
            2011,
            2011,
            2011,
            2011,
            2011,
            2011,
            2011,
            2011,
            2011,
            2011,
            2011
           ],
           "yaxis": "y"
          },
          {
           "hovertemplate": "<b>OLS trendline</b><br>Year = -1.98952e-13 * Value + 2011<br>R<sup>2</sup>=-inf<br><br>Series ID=CUUR0000SA0<br>Year=%{y} <b>(trend)</b><br>Value=%{x}<extra></extra>",
           "legendgroup": "CUUR0000SA0",
           "line": {
            "color": "#0072B2"
           },
           "marker": {
            "color": "#636efa",
            "symbol": "circle"
           },
           "mode": "lines",
           "name": "CUUR0000SA0",
           "showlegend": false,
           "type": "scatter",
           "x": [
            220.22299999999998,
            221.30900000000003,
            223.467,
            224.90599999999998,
            225.672,
            225.722,
            225.922,
            225.96400000000003,
            226.23,
            226.421,
            226.545,
            226.889
           ],
           "xaxis": "x",
           "y": [
            2011.0000000000143,
            2011.000000000014,
            2011.0000000000136,
            2011.0000000000134,
            2011.0000000000134,
            2011.0000000000132,
            2011.0000000000132,
            2011.0000000000132,
            2011.0000000000132,
            2011.0000000000132,
            2011.0000000000132,
            2011.000000000013
           ],
           "yaxis": "y"
          }
         ],
         "name": "2011"
        },
        {
         "data": [
          {
           "hovertemplate": "Series ID=CUUR0000SA0<br>Year=%{y}<br>Value=%{marker.size}<extra></extra>",
           "legendgroup": "CUUR0000SA0",
           "marker": {
            "color": "#636efa",
            "size": [
             226.665,
             227.66299999999998,
             229.392,
             230.085,
             229.815,
             229.47799999999998,
             229.104,
             230.37900000000002,
             231.407,
             231.317,
             230.22099999999998,
             229.601
            ],
            "sizemode": "area",
            "sizeref": 0.7028699999999999,
            "symbol": "circle"
           },
           "mode": "markers",
           "name": "CUUR0000SA0",
           "orientation": "v",
           "showlegend": true,
           "type": "scatter",
           "x": [
            226.665,
            227.66299999999998,
            229.392,
            230.085,
            229.815,
            229.47799999999998,
            229.104,
            230.37900000000002,
            231.407,
            231.317,
            230.22099999999998,
            229.601
           ],
           "xaxis": "x",
           "y": [
            2012,
            2012,
            2012,
            2012,
            2012,
            2012,
            2012,
            2012,
            2012,
            2012,
            2012,
            2012
           ],
           "yaxis": "y"
          },
          {
           "hovertemplate": "<b>OLS trendline</b><br>Year = 1.13687e-13 * Value + 2012<br>R<sup>2</sup>=-inf<br><br>Series ID=CUUR0000SA0<br>Year=%{y} <b>(trend)</b><br>Value=%{x}<extra></extra>",
           "legendgroup": "CUUR0000SA0",
           "line": {
            "color": "#0072B2"
           },
           "marker": {
            "color": "#636efa",
            "symbol": "circle"
           },
           "mode": "lines",
           "name": "CUUR0000SA0",
           "showlegend": false,
           "type": "scatter",
           "x": [
            226.665,
            227.66299999999998,
            229.104,
            229.392,
            229.47799999999998,
            229.601,
            229.815,
            230.085,
            230.22099999999998,
            230.37900000000002,
            231.317,
            231.407
           ],
           "xaxis": "x",
           "y": [
            2012.0000000000257,
            2012.000000000026,
            2012.0000000000261,
            2012.0000000000261,
            2012.0000000000261,
            2012.0000000000261,
            2012.0000000000261,
            2012.0000000000261,
            2012.0000000000261,
            2012.0000000000261,
            2012.0000000000264,
            2012.0000000000264
           ],
           "yaxis": "y"
          }
         ],
         "name": "2012"
        },
        {
         "data": [
          {
           "hovertemplate": "Series ID=CUUR0000SA0<br>Year=%{y}<br>Value=%{marker.size}<extra></extra>",
           "legendgroup": "CUUR0000SA0",
           "marker": {
            "color": "#636efa",
            "size": [
             230.28,
             232.166,
             232.773,
             232.53099999999998,
             232.945,
             233.50400000000002,
             233.59599999999998,
             233.877,
             234.149,
             233.546,
             233.06900000000002,
             233.049
            ],
            "sizemode": "area",
            "sizeref": 0.7028699999999999,
            "symbol": "circle"
           },
           "mode": "markers",
           "name": "CUUR0000SA0",
           "orientation": "v",
           "showlegend": true,
           "type": "scatter",
           "x": [
            230.28,
            232.166,
            232.773,
            232.53099999999998,
            232.945,
            233.50400000000002,
            233.59599999999998,
            233.877,
            234.149,
            233.546,
            233.06900000000002,
            233.049
           ],
           "xaxis": "x",
           "y": [
            2013,
            2013,
            2013,
            2013,
            2013,
            2013,
            2013,
            2013,
            2013,
            2013,
            2013,
            2013
           ],
           "yaxis": "y"
          },
          {
           "hovertemplate": "<b>OLS trendline</b><br>Year = -2.27374e-13 * Value + 2013<br>R<sup>2</sup>=-inf<br><br>Series ID=CUUR0000SA0<br>Year=%{y} <b>(trend)</b><br>Value=%{x}<extra></extra>",
           "legendgroup": "CUUR0000SA0",
           "line": {
            "color": "#0072B2"
           },
           "marker": {
            "color": "#636efa",
            "symbol": "circle"
           },
           "mode": "lines",
           "name": "CUUR0000SA0",
           "showlegend": false,
           "type": "scatter",
           "x": [
            230.28,
            232.166,
            232.53099999999998,
            232.773,
            232.945,
            233.049,
            233.06900000000002,
            233.50400000000002,
            233.546,
            233.59599999999998,
            233.877,
            234.149
           ],
           "xaxis": "x",
           "y": [
            2013.000000000006,
            2013.0000000000055,
            2013.0000000000052,
            2013.0000000000052,
            2013.0000000000052,
            2013.0000000000052,
            2013.0000000000052,
            2013.000000000005,
            2013.000000000005,
            2013.000000000005,
            2013.000000000005,
            2013.000000000005
           ],
           "yaxis": "y"
          }
         ],
         "name": "2013"
        },
        {
         "data": [
          {
           "hovertemplate": "Series ID=CUUR0000SA0<br>Year=%{y}<br>Value=%{marker.size}<extra></extra>",
           "legendgroup": "CUUR0000SA0",
           "marker": {
            "color": "#636efa",
            "size": [
             233.916,
             234.78099999999998,
             236.293,
             237.072,
             237.9,
             238.343,
             238.25,
             237.852,
             238.03099999999998,
             237.433,
             236.15099999999998,
             234.812
            ],
            "sizemode": "area",
            "sizeref": 0.7028699999999999,
            "symbol": "circle"
           },
           "mode": "markers",
           "name": "CUUR0000SA0",
           "orientation": "v",
           "showlegend": true,
           "type": "scatter",
           "x": [
            233.916,
            234.78099999999998,
            236.293,
            237.072,
            237.9,
            238.343,
            238.25,
            237.852,
            238.03099999999998,
            237.433,
            236.15099999999998,
            234.812
           ],
           "xaxis": "x",
           "y": [
            2014,
            2014,
            2014,
            2014,
            2014,
            2014,
            2014,
            2014,
            2014,
            2014,
            2014,
            2014
           ],
           "yaxis": "y"
          },
          {
           "hovertemplate": "<b>OLS trendline</b><br>Year = -1.98952e-13 * Value + 2014<br>R<sup>2</sup>=-inf<br><br>Series ID=CUUR0000SA0<br>Year=%{y} <b>(trend)</b><br>Value=%{x}<extra></extra>",
           "legendgroup": "CUUR0000SA0",
           "line": {
            "color": "#0072B2"
           },
           "marker": {
            "color": "#636efa",
            "symbol": "circle"
           },
           "mode": "lines",
           "name": "CUUR0000SA0",
           "showlegend": false,
           "type": "scatter",
           "x": [
            233.916,
            234.78099999999998,
            234.812,
            236.15099999999998,
            236.293,
            237.072,
            237.433,
            237.852,
            237.9,
            238.03099999999998,
            238.25,
            238.343
           ],
           "xaxis": "x",
           "y": [
            2013.9999999999825,
            2013.9999999999825,
            2013.9999999999825,
            2013.999999999982,
            2013.999999999982,
            2013.999999999982,
            2013.9999999999818,
            2013.9999999999818,
            2013.9999999999818,
            2013.9999999999818,
            2013.9999999999818,
            2013.9999999999816
           ],
           "yaxis": "y"
          }
         ],
         "name": "2014"
        },
        {
         "data": [
          {
           "hovertemplate": "Series ID=CUUR0000SA0<br>Year=%{y}<br>Value=%{marker.size}<extra></extra>",
           "legendgroup": "CUUR0000SA0",
           "marker": {
            "color": "#636efa",
            "size": [
             233.707,
             234.722,
             236.11900000000003,
             236.59900000000002,
             237.805,
             238.638,
             238.65400000000002,
             238.31599999999997,
             237.945,
             237.838,
             237.33599999999998,
             236.525
            ],
            "sizemode": "area",
            "sizeref": 0.7028699999999999,
            "symbol": "circle"
           },
           "mode": "markers",
           "name": "CUUR0000SA0",
           "orientation": "v",
           "showlegend": true,
           "type": "scatter",
           "x": [
            233.707,
            234.722,
            236.11900000000003,
            236.59900000000002,
            237.805,
            238.638,
            238.65400000000002,
            238.31599999999997,
            237.945,
            237.838,
            237.33599999999998,
            236.525
           ],
           "xaxis": "x",
           "y": [
            2015,
            2015,
            2015,
            2015,
            2015,
            2015,
            2015,
            2015,
            2015,
            2015,
            2015,
            2015
           ],
           "yaxis": "y"
          },
          {
           "hovertemplate": "<b>OLS trendline</b><br>Year = -2.27374e-13 * Value + 2015<br>R<sup>2</sup>=-inf<br><br>Series ID=CUUR0000SA0<br>Year=%{y} <b>(trend)</b><br>Value=%{x}<extra></extra>",
           "legendgroup": "CUUR0000SA0",
           "line": {
            "color": "#0072B2"
           },
           "marker": {
            "color": "#636efa",
            "symbol": "circle"
           },
           "mode": "lines",
           "name": "CUUR0000SA0",
           "showlegend": false,
           "type": "scatter",
           "x": [
            233.707,
            234.722,
            236.11900000000003,
            236.525,
            236.59900000000002,
            237.33599999999998,
            237.805,
            237.838,
            237.945,
            238.31599999999997,
            238.638,
            238.65400000000002
           ],
           "xaxis": "x",
           "y": [
            2015.000000000005,
            2015.0000000000048,
            2015.0000000000045,
            2015.0000000000043,
            2015.0000000000043,
            2015.0000000000043,
            2015.000000000004,
            2015.000000000004,
            2015.000000000004,
            2015.000000000004,
            2015.0000000000039,
            2015.0000000000039
           ],
           "yaxis": "y"
          }
         ],
         "name": "2015"
        },
        {
         "data": [
          {
           "hovertemplate": "Series ID=CUUR0000SA0<br>Year=%{y}<br>Value=%{marker.size}<extra></extra>",
           "legendgroup": "CUUR0000SA0",
           "marker": {
            "color": "#636efa",
            "size": [
             236.916,
             237.111,
             238.132,
             239.261,
             240.229,
             241.018,
             240.628,
             240.84900000000002,
             241.428,
             241.729,
             241.35299999999998,
             241.43200000000002
            ],
            "sizemode": "area",
            "sizeref": 0.7028699999999999,
            "symbol": "circle"
           },
           "mode": "markers",
           "name": "CUUR0000SA0",
           "orientation": "v",
           "showlegend": true,
           "type": "scatter",
           "x": [
            236.916,
            237.111,
            238.132,
            239.261,
            240.229,
            241.018,
            240.628,
            240.84900000000002,
            241.428,
            241.729,
            241.35299999999998,
            241.43200000000002
           ],
           "xaxis": "x",
           "y": [
            2016,
            2016,
            2016,
            2016,
            2016,
            2016,
            2016,
            2016,
            2016,
            2016,
            2016,
            2016
           ],
           "yaxis": "y"
          },
          {
           "hovertemplate": "<b>OLS trendline</b><br>Year = -1.13687e-13 * Value + 2016<br>R<sup>2</sup>=-inf<br><br>Series ID=CUUR0000SA0<br>Year=%{y} <b>(trend)</b><br>Value=%{x}<extra></extra>",
           "legendgroup": "CUUR0000SA0",
           "line": {
            "color": "#0072B2"
           },
           "marker": {
            "color": "#636efa",
            "symbol": "circle"
           },
           "mode": "lines",
           "name": "CUUR0000SA0",
           "showlegend": false,
           "type": "scatter",
           "x": [
            236.916,
            237.111,
            238.132,
            239.261,
            240.229,
            240.628,
            240.84900000000002,
            241.018,
            241.35299999999998,
            241.428,
            241.43200000000002,
            241.729
           ],
           "xaxis": "x",
           "y": [
            2015.999999999995,
            2015.9999999999948,
            2015.9999999999948,
            2015.9999999999945,
            2015.9999999999945,
            2015.9999999999945,
            2015.9999999999945,
            2015.9999999999943,
            2015.9999999999943,
            2015.9999999999943,
            2015.9999999999943,
            2015.9999999999943
           ],
           "yaxis": "y"
          }
         ],
         "name": "2016"
        },
        {
         "data": [
          {
           "hovertemplate": "Series ID=CUUR0000SA0<br>Year=%{y}<br>Value=%{marker.size}<extra></extra>",
           "legendgroup": "CUUR0000SA0",
           "marker": {
            "color": "#636efa",
            "size": [
             242.83900000000003,
             243.60299999999998,
             243.801,
             244.524,
             244.733,
             244.955,
             244.78599999999997,
             245.519,
             246.81900000000002,
             246.66299999999998,
             246.669,
             246.524
            ],
            "sizemode": "area",
            "sizeref": 0.7028699999999999,
            "symbol": "circle"
           },
           "mode": "markers",
           "name": "CUUR0000SA0",
           "orientation": "v",
           "showlegend": true,
           "type": "scatter",
           "x": [
            242.83900000000003,
            243.60299999999998,
            243.801,
            244.524,
            244.733,
            244.955,
            244.78599999999997,
            245.519,
            246.81900000000002,
            246.66299999999998,
            246.669,
            246.524
           ],
           "xaxis": "x",
           "y": [
            2017,
            2017,
            2017,
            2017,
            2017,
            2017,
            2017,
            2017,
            2017,
            2017,
            2017,
            2017
           ],
           "yaxis": "y"
          },
          {
           "hovertemplate": "<b>OLS trendline</b><br>Year = 0 * Value + 2017<br>R<sup>2</sup>=-inf<br><br>Series ID=CUUR0000SA0<br>Year=%{y} <b>(trend)</b><br>Value=%{x}<extra></extra>",
           "legendgroup": "CUUR0000SA0",
           "line": {
            "color": "#0072B2"
           },
           "marker": {
            "color": "#636efa",
            "symbol": "circle"
           },
           "mode": "lines",
           "name": "CUUR0000SA0",
           "showlegend": false,
           "type": "scatter",
           "x": [
            242.83900000000003,
            243.60299999999998,
            243.801,
            244.524,
            244.733,
            244.78599999999997,
            244.955,
            245.519,
            246.524,
            246.66299999999998,
            246.669,
            246.81900000000002
           ],
           "xaxis": "x",
           "y": [
            2017.0000000000073,
            2017.0000000000073,
            2017.0000000000073,
            2017.0000000000073,
            2017.0000000000073,
            2017.0000000000073,
            2017.0000000000073,
            2017.0000000000073,
            2017.0000000000073,
            2017.0000000000073,
            2017.0000000000073,
            2017.0000000000073
           ],
           "yaxis": "y"
          }
         ],
         "name": "2017"
        },
        {
         "data": [
          {
           "hovertemplate": "Series ID=CUUR0000SA0<br>Year=%{y}<br>Value=%{marker.size}<extra></extra>",
           "legendgroup": "CUUR0000SA0",
           "marker": {
            "color": "#636efa",
            "size": [
             247.86700000000002,
             248.99099999999999,
             249.554,
             250.546,
             251.588,
             251.989,
             252.00599999999997,
             252.146,
             252.43900000000002,
             252.885,
             252.03799999999998,
             251.233
            ],
            "sizemode": "area",
            "sizeref": 0.7028699999999999,
            "symbol": "circle"
           },
           "mode": "markers",
           "name": "CUUR0000SA0",
           "orientation": "v",
           "showlegend": true,
           "type": "scatter",
           "x": [
            247.86700000000002,
            248.99099999999999,
            249.554,
            250.546,
            251.588,
            251.989,
            252.00599999999997,
            252.146,
            252.43900000000002,
            252.885,
            252.03799999999998,
            251.233
           ],
           "xaxis": "x",
           "y": [
            2018,
            2018,
            2018,
            2018,
            2018,
            2018,
            2018,
            2018,
            2018,
            2018,
            2018,
            2018
           ],
           "yaxis": "y"
          },
          {
           "hovertemplate": "<b>OLS trendline</b><br>Year = -1.98952e-13 * Value + 2018<br>R<sup>2</sup>=-inf<br><br>Series ID=CUUR0000SA0<br>Year=%{y} <b>(trend)</b><br>Value=%{x}<extra></extra>",
           "legendgroup": "CUUR0000SA0",
           "line": {
            "color": "#0072B2"
           },
           "marker": {
            "color": "#636efa",
            "symbol": "circle"
           },
           "mode": "lines",
           "name": "CUUR0000SA0",
           "showlegend": false,
           "type": "scatter",
           "x": [
            247.86700000000002,
            248.99099999999999,
            249.554,
            250.546,
            251.233,
            251.588,
            251.989,
            252.00599999999997,
            252.03799999999998,
            252.146,
            252.43900000000002,
            252.885
           ],
           "xaxis": "x",
           "y": [
            2018.0000000000016,
            2018.0000000000014,
            2018.0000000000014,
            2018.0000000000011,
            2018.000000000001,
            2018.000000000001,
            2018.000000000001,
            2018.0000000000007,
            2018.0000000000007,
            2018.0000000000007,
            2018.0000000000007,
            2018.0000000000007
           ],
           "yaxis": "y"
          }
         ],
         "name": "2018"
        },
        {
         "data": [
          {
           "hovertemplate": "Series ID=CUUR0000SA0<br>Year=%{y}<br>Value=%{marker.size}<extra></extra>",
           "legendgroup": "CUUR0000SA0",
           "marker": {
            "color": "#636efa",
            "size": [
             251.71200000000002,
             252.77599999999998,
             254.202,
             255.548,
             256.092,
             256.143,
             256.57099999999997,
             256.558,
             256.759,
             257.346,
             257.20799999999997,
             256.974
            ],
            "sizemode": "area",
            "sizeref": 0.7028699999999999,
            "symbol": "circle"
           },
           "mode": "markers",
           "name": "CUUR0000SA0",
           "orientation": "v",
           "showlegend": true,
           "type": "scatter",
           "x": [
            251.71200000000002,
            252.77599999999998,
            254.202,
            255.548,
            256.092,
            256.143,
            256.57099999999997,
            256.558,
            256.759,
            257.346,
            257.20799999999997,
            256.974
           ],
           "xaxis": "x",
           "y": [
            2019,
            2019,
            2019,
            2019,
            2019,
            2019,
            2019,
            2019,
            2019,
            2019,
            2019,
            2019
           ],
           "yaxis": "y"
          },
          {
           "hovertemplate": "<b>OLS trendline</b><br>Year = -1.98952e-13 * Value + 2019<br>R<sup>2</sup>=-inf<br><br>Series ID=CUUR0000SA0<br>Year=%{y} <b>(trend)</b><br>Value=%{x}<extra></extra>",
           "legendgroup": "CUUR0000SA0",
           "line": {
            "color": "#0072B2"
           },
           "marker": {
            "color": "#636efa",
            "symbol": "circle"
           },
           "mode": "lines",
           "name": "CUUR0000SA0",
           "showlegend": false,
           "type": "scatter",
           "x": [
            251.71200000000002,
            252.77599999999998,
            254.202,
            255.548,
            256.092,
            256.143,
            256.558,
            256.57099999999997,
            256.759,
            256.974,
            257.20799999999997,
            257.346
           ],
           "xaxis": "x",
           "y": [
            2019.000000000001,
            2019.0000000000007,
            2019.0000000000005,
            2019,
            2019,
            2019,
            2019,
            2019,
            2018.9999999999998,
            2018.9999999999998,
            2018.9999999999998,
            2018.9999999999998
           ],
           "yaxis": "y"
          }
         ],
         "name": "2019"
        },
        {
         "data": [
          {
           "hovertemplate": "Series ID=CUUR0000SA0<br>Year=%{y}<br>Value=%{marker.size}<extra></extra>",
           "legendgroup": "CUUR0000SA0",
           "marker": {
            "color": "#636efa",
            "size": [
             257.971,
             258.678,
             258.115,
             256.389,
             256.394,
             257.797,
             259.101,
             259.918,
             260.28,
             260.388,
             260.22900000000004,
             260.474
            ],
            "sizemode": "area",
            "sizeref": 0.7028699999999999,
            "symbol": "circle"
           },
           "mode": "markers",
           "name": "CUUR0000SA0",
           "orientation": "v",
           "showlegend": true,
           "type": "scatter",
           "x": [
            257.971,
            258.678,
            258.115,
            256.389,
            256.394,
            257.797,
            259.101,
            259.918,
            260.28,
            260.388,
            260.22900000000004,
            260.474
           ],
           "xaxis": "x",
           "y": [
            2020,
            2020,
            2020,
            2020,
            2020,
            2020,
            2020,
            2020,
            2020,
            2020,
            2020,
            2020
           ],
           "yaxis": "y"
          },
          {
           "hovertemplate": "<b>OLS trendline</b><br>Year = 0 * Value + 2020<br>R<sup>2</sup>=-inf<br><br>Series ID=CUUR0000SA0<br>Year=%{y} <b>(trend)</b><br>Value=%{x}<extra></extra>",
           "legendgroup": "CUUR0000SA0",
           "line": {
            "color": "#0072B2"
           },
           "marker": {
            "color": "#636efa",
            "symbol": "circle"
           },
           "mode": "lines",
           "name": "CUUR0000SA0",
           "showlegend": false,
           "type": "scatter",
           "x": [
            256.389,
            256.394,
            257.797,
            257.971,
            258.115,
            258.678,
            259.101,
            259.918,
            260.22900000000004,
            260.28,
            260.388,
            260.474
           ],
           "xaxis": "x",
           "y": [
            2020.0000000000146,
            2020.0000000000146,
            2020.0000000000146,
            2020.0000000000146,
            2020.0000000000146,
            2020.0000000000146,
            2020.0000000000146,
            2020.0000000000146,
            2020.0000000000146,
            2020.0000000000146,
            2020.0000000000146,
            2020.0000000000146
           ],
           "yaxis": "y"
          }
         ],
         "name": "2020"
        },
        {
         "data": [
          {
           "hovertemplate": "Series ID=CUUR0000SA0<br>Year=%{y}<br>Value=%{marker.size}<extra></extra>",
           "legendgroup": "CUUR0000SA0",
           "marker": {
            "color": "#636efa",
            "size": [
             261.582,
             263.014,
             264.877,
             267.05400000000003,
             269.195,
             271.69599999999997,
             273.003,
             273.567,
             274.31,
             276.589,
             277.948,
             278.802
            ],
            "sizemode": "area",
            "sizeref": 0.7028699999999999,
            "symbol": "circle"
           },
           "mode": "markers",
           "name": "CUUR0000SA0",
           "orientation": "v",
           "showlegend": true,
           "type": "scatter",
           "x": [
            261.582,
            263.014,
            264.877,
            267.05400000000003,
            269.195,
            271.69599999999997,
            273.003,
            273.567,
            274.31,
            276.589,
            277.948,
            278.802
           ],
           "xaxis": "x",
           "y": [
            2021,
            2021,
            2021,
            2021,
            2021,
            2021,
            2021,
            2021,
            2021,
            2021,
            2021,
            2021
           ],
           "yaxis": "y"
          },
          {
           "hovertemplate": "<b>OLS trendline</b><br>Year = -2.84217e-14 * Value + 2021<br>R<sup>2</sup>=-inf<br><br>Series ID=CUUR0000SA0<br>Year=%{y} <b>(trend)</b><br>Value=%{x}<extra></extra>",
           "legendgroup": "CUUR0000SA0",
           "line": {
            "color": "#0072B2"
           },
           "marker": {
            "color": "#636efa",
            "symbol": "circle"
           },
           "mode": "lines",
           "name": "CUUR0000SA0",
           "showlegend": false,
           "type": "scatter",
           "x": [
            261.582,
            263.014,
            264.877,
            267.05400000000003,
            269.195,
            271.69599999999997,
            273.003,
            273.567,
            274.31,
            276.589,
            277.948,
            278.802
           ],
           "xaxis": "x",
           "y": [
            2021.000000000007,
            2021.000000000007,
            2021.000000000007,
            2021.000000000007,
            2021.0000000000068,
            2021.0000000000068,
            2021.0000000000068,
            2021.0000000000068,
            2021.0000000000068,
            2021.0000000000066,
            2021.0000000000066,
            2021.0000000000066
           ],
           "yaxis": "y"
          }
         ],
         "name": "2021"
        },
        {
         "data": [
          {
           "hovertemplate": "Series ID=CUUR0000SA0<br>Year=%{y}<br>Value=%{marker.size}<extra></extra>",
           "legendgroup": "CUUR0000SA0",
           "marker": {
            "color": "#636efa",
            "size": [
             281.14799999999997
            ],
            "sizemode": "area",
            "sizeref": 0.7028699999999999,
            "symbol": "circle"
           },
           "mode": "markers",
           "name": "CUUR0000SA0",
           "orientation": "v",
           "showlegend": true,
           "type": "scatter",
           "x": [
            281.14799999999997
           ],
           "xaxis": "x",
           "y": [
            2022
           ],
           "yaxis": "y"
          },
          {
           "hovertemplate": "Series ID=CUUR0000SA0<br>Year=2022<extra></extra>",
           "legendgroup": "CUUR0000SA0",
           "line": {
            "color": "#0072B2"
           },
           "marker": {
            "color": "#636efa",
            "symbol": "circle"
           },
           "mode": "lines",
           "name": "CUUR0000SA0",
           "showlegend": false,
           "type": "scatter",
           "xaxis": "x",
           "yaxis": "y"
          }
         ],
         "name": "2022"
        }
       ],
       "layout": {
        "legend": {
         "itemsizing": "constant",
         "title": {
          "text": "Series ID"
         },
         "tracegroupgap": 0
        },
        "margin": {
         "t": 60
        },
        "sliders": [
         {
          "active": 0,
          "currentvalue": {
           "prefix": "Year="
          },
          "len": 0.9,
          "pad": {
           "b": 10,
           "t": 60
          },
          "steps": [
           {
            "args": [
             [
              "2010"
             ],
             {
              "frame": {
               "duration": 0,
               "redraw": false
              },
              "fromcurrent": true,
              "mode": "immediate",
              "transition": {
               "duration": 0,
               "easing": "linear"
              }
             }
            ],
            "label": "2010",
            "method": "animate"
           },
           {
            "args": [
             [
              "2011"
             ],
             {
              "frame": {
               "duration": 0,
               "redraw": false
              },
              "fromcurrent": true,
              "mode": "immediate",
              "transition": {
               "duration": 0,
               "easing": "linear"
              }
             }
            ],
            "label": "2011",
            "method": "animate"
           },
           {
            "args": [
             [
              "2012"
             ],
             {
              "frame": {
               "duration": 0,
               "redraw": false
              },
              "fromcurrent": true,
              "mode": "immediate",
              "transition": {
               "duration": 0,
               "easing": "linear"
              }
             }
            ],
            "label": "2012",
            "method": "animate"
           },
           {
            "args": [
             [
              "2013"
             ],
             {
              "frame": {
               "duration": 0,
               "redraw": false
              },
              "fromcurrent": true,
              "mode": "immediate",
              "transition": {
               "duration": 0,
               "easing": "linear"
              }
             }
            ],
            "label": "2013",
            "method": "animate"
           },
           {
            "args": [
             [
              "2014"
             ],
             {
              "frame": {
               "duration": 0,
               "redraw": false
              },
              "fromcurrent": true,
              "mode": "immediate",
              "transition": {
               "duration": 0,
               "easing": "linear"
              }
             }
            ],
            "label": "2014",
            "method": "animate"
           },
           {
            "args": [
             [
              "2015"
             ],
             {
              "frame": {
               "duration": 0,
               "redraw": false
              },
              "fromcurrent": true,
              "mode": "immediate",
              "transition": {
               "duration": 0,
               "easing": "linear"
              }
             }
            ],
            "label": "2015",
            "method": "animate"
           },
           {
            "args": [
             [
              "2016"
             ],
             {
              "frame": {
               "duration": 0,
               "redraw": false
              },
              "fromcurrent": true,
              "mode": "immediate",
              "transition": {
               "duration": 0,
               "easing": "linear"
              }
             }
            ],
            "label": "2016",
            "method": "animate"
           },
           {
            "args": [
             [
              "2017"
             ],
             {
              "frame": {
               "duration": 0,
               "redraw": false
              },
              "fromcurrent": true,
              "mode": "immediate",
              "transition": {
               "duration": 0,
               "easing": "linear"
              }
             }
            ],
            "label": "2017",
            "method": "animate"
           },
           {
            "args": [
             [
              "2018"
             ],
             {
              "frame": {
               "duration": 0,
               "redraw": false
              },
              "fromcurrent": true,
              "mode": "immediate",
              "transition": {
               "duration": 0,
               "easing": "linear"
              }
             }
            ],
            "label": "2018",
            "method": "animate"
           },
           {
            "args": [
             [
              "2019"
             ],
             {
              "frame": {
               "duration": 0,
               "redraw": false
              },
              "fromcurrent": true,
              "mode": "immediate",
              "transition": {
               "duration": 0,
               "easing": "linear"
              }
             }
            ],
            "label": "2019",
            "method": "animate"
           },
           {
            "args": [
             [
              "2020"
             ],
             {
              "frame": {
               "duration": 0,
               "redraw": false
              },
              "fromcurrent": true,
              "mode": "immediate",
              "transition": {
               "duration": 0,
               "easing": "linear"
              }
             }
            ],
            "label": "2020",
            "method": "animate"
           },
           {
            "args": [
             [
              "2021"
             ],
             {
              "frame": {
               "duration": 0,
               "redraw": false
              },
              "fromcurrent": true,
              "mode": "immediate",
              "transition": {
               "duration": 0,
               "easing": "linear"
              }
             }
            ],
            "label": "2021",
            "method": "animate"
           },
           {
            "args": [
             [
              "2022"
             ],
             {
              "frame": {
               "duration": 0,
               "redraw": false
              },
              "fromcurrent": true,
              "mode": "immediate",
              "transition": {
               "duration": 0,
               "easing": "linear"
              }
             }
            ],
            "label": "2022",
            "method": "animate"
           }
          ],
          "x": 0.1,
          "xanchor": "left",
          "y": 0,
          "yanchor": "top"
         }
        ],
        "template": {
         "data": {
          "bar": [
           {
            "error_x": {
             "color": "#2a3f5f"
            },
            "error_y": {
             "color": "#2a3f5f"
            },
            "marker": {
             "line": {
              "color": "#E5ECF6",
              "width": 0.5
             },
             "pattern": {
              "fillmode": "overlay",
              "size": 10,
              "solidity": 0.2
             }
            },
            "type": "bar"
           }
          ],
          "barpolar": [
           {
            "marker": {
             "line": {
              "color": "#E5ECF6",
              "width": 0.5
             },
             "pattern": {
              "fillmode": "overlay",
              "size": 10,
              "solidity": 0.2
             }
            },
            "type": "barpolar"
           }
          ],
          "carpet": [
           {
            "aaxis": {
             "endlinecolor": "#2a3f5f",
             "gridcolor": "white",
             "linecolor": "white",
             "minorgridcolor": "white",
             "startlinecolor": "#2a3f5f"
            },
            "baxis": {
             "endlinecolor": "#2a3f5f",
             "gridcolor": "white",
             "linecolor": "white",
             "minorgridcolor": "white",
             "startlinecolor": "#2a3f5f"
            },
            "type": "carpet"
           }
          ],
          "choropleth": [
           {
            "colorbar": {
             "outlinewidth": 0,
             "ticks": ""
            },
            "type": "choropleth"
           }
          ],
          "contour": [
           {
            "colorbar": {
             "outlinewidth": 0,
             "ticks": ""
            },
            "colorscale": [
             [
              0,
              "#0d0887"
             ],
             [
              0.1111111111111111,
              "#46039f"
             ],
             [
              0.2222222222222222,
              "#7201a8"
             ],
             [
              0.3333333333333333,
              "#9c179e"
             ],
             [
              0.4444444444444444,
              "#bd3786"
             ],
             [
              0.5555555555555556,
              "#d8576b"
             ],
             [
              0.6666666666666666,
              "#ed7953"
             ],
             [
              0.7777777777777778,
              "#fb9f3a"
             ],
             [
              0.8888888888888888,
              "#fdca26"
             ],
             [
              1,
              "#f0f921"
             ]
            ],
            "type": "contour"
           }
          ],
          "contourcarpet": [
           {
            "colorbar": {
             "outlinewidth": 0,
             "ticks": ""
            },
            "type": "contourcarpet"
           }
          ],
          "heatmap": [
           {
            "colorbar": {
             "outlinewidth": 0,
             "ticks": ""
            },
            "colorscale": [
             [
              0,
              "#0d0887"
             ],
             [
              0.1111111111111111,
              "#46039f"
             ],
             [
              0.2222222222222222,
              "#7201a8"
             ],
             [
              0.3333333333333333,
              "#9c179e"
             ],
             [
              0.4444444444444444,
              "#bd3786"
             ],
             [
              0.5555555555555556,
              "#d8576b"
             ],
             [
              0.6666666666666666,
              "#ed7953"
             ],
             [
              0.7777777777777778,
              "#fb9f3a"
             ],
             [
              0.8888888888888888,
              "#fdca26"
             ],
             [
              1,
              "#f0f921"
             ]
            ],
            "type": "heatmap"
           }
          ],
          "heatmapgl": [
           {
            "colorbar": {
             "outlinewidth": 0,
             "ticks": ""
            },
            "colorscale": [
             [
              0,
              "#0d0887"
             ],
             [
              0.1111111111111111,
              "#46039f"
             ],
             [
              0.2222222222222222,
              "#7201a8"
             ],
             [
              0.3333333333333333,
              "#9c179e"
             ],
             [
              0.4444444444444444,
              "#bd3786"
             ],
             [
              0.5555555555555556,
              "#d8576b"
             ],
             [
              0.6666666666666666,
              "#ed7953"
             ],
             [
              0.7777777777777778,
              "#fb9f3a"
             ],
             [
              0.8888888888888888,
              "#fdca26"
             ],
             [
              1,
              "#f0f921"
             ]
            ],
            "type": "heatmapgl"
           }
          ],
          "histogram": [
           {
            "marker": {
             "pattern": {
              "fillmode": "overlay",
              "size": 10,
              "solidity": 0.2
             }
            },
            "type": "histogram"
           }
          ],
          "histogram2d": [
           {
            "colorbar": {
             "outlinewidth": 0,
             "ticks": ""
            },
            "colorscale": [
             [
              0,
              "#0d0887"
             ],
             [
              0.1111111111111111,
              "#46039f"
             ],
             [
              0.2222222222222222,
              "#7201a8"
             ],
             [
              0.3333333333333333,
              "#9c179e"
             ],
             [
              0.4444444444444444,
              "#bd3786"
             ],
             [
              0.5555555555555556,
              "#d8576b"
             ],
             [
              0.6666666666666666,
              "#ed7953"
             ],
             [
              0.7777777777777778,
              "#fb9f3a"
             ],
             [
              0.8888888888888888,
              "#fdca26"
             ],
             [
              1,
              "#f0f921"
             ]
            ],
            "type": "histogram2d"
           }
          ],
          "histogram2dcontour": [
           {
            "colorbar": {
             "outlinewidth": 0,
             "ticks": ""
            },
            "colorscale": [
             [
              0,
              "#0d0887"
             ],
             [
              0.1111111111111111,
              "#46039f"
             ],
             [
              0.2222222222222222,
              "#7201a8"
             ],
             [
              0.3333333333333333,
              "#9c179e"
             ],
             [
              0.4444444444444444,
              "#bd3786"
             ],
             [
              0.5555555555555556,
              "#d8576b"
             ],
             [
              0.6666666666666666,
              "#ed7953"
             ],
             [
              0.7777777777777778,
              "#fb9f3a"
             ],
             [
              0.8888888888888888,
              "#fdca26"
             ],
             [
              1,
              "#f0f921"
             ]
            ],
            "type": "histogram2dcontour"
           }
          ],
          "mesh3d": [
           {
            "colorbar": {
             "outlinewidth": 0,
             "ticks": ""
            },
            "type": "mesh3d"
           }
          ],
          "parcoords": [
           {
            "line": {
             "colorbar": {
              "outlinewidth": 0,
              "ticks": ""
             }
            },
            "type": "parcoords"
           }
          ],
          "pie": [
           {
            "automargin": true,
            "type": "pie"
           }
          ],
          "scatter": [
           {
            "marker": {
             "colorbar": {
              "outlinewidth": 0,
              "ticks": ""
             }
            },
            "type": "scatter"
           }
          ],
          "scatter3d": [
           {
            "line": {
             "colorbar": {
              "outlinewidth": 0,
              "ticks": ""
             }
            },
            "marker": {
             "colorbar": {
              "outlinewidth": 0,
              "ticks": ""
             }
            },
            "type": "scatter3d"
           }
          ],
          "scattercarpet": [
           {
            "marker": {
             "colorbar": {
              "outlinewidth": 0,
              "ticks": ""
             }
            },
            "type": "scattercarpet"
           }
          ],
          "scattergeo": [
           {
            "marker": {
             "colorbar": {
              "outlinewidth": 0,
              "ticks": ""
             }
            },
            "type": "scattergeo"
           }
          ],
          "scattergl": [
           {
            "marker": {
             "colorbar": {
              "outlinewidth": 0,
              "ticks": ""
             }
            },
            "type": "scattergl"
           }
          ],
          "scattermapbox": [
           {
            "marker": {
             "colorbar": {
              "outlinewidth": 0,
              "ticks": ""
             }
            },
            "type": "scattermapbox"
           }
          ],
          "scatterpolar": [
           {
            "marker": {
             "colorbar": {
              "outlinewidth": 0,
              "ticks": ""
             }
            },
            "type": "scatterpolar"
           }
          ],
          "scatterpolargl": [
           {
            "marker": {
             "colorbar": {
              "outlinewidth": 0,
              "ticks": ""
             }
            },
            "type": "scatterpolargl"
           }
          ],
          "scatterternary": [
           {
            "marker": {
             "colorbar": {
              "outlinewidth": 0,
              "ticks": ""
             }
            },
            "type": "scatterternary"
           }
          ],
          "surface": [
           {
            "colorbar": {
             "outlinewidth": 0,
             "ticks": ""
            },
            "colorscale": [
             [
              0,
              "#0d0887"
             ],
             [
              0.1111111111111111,
              "#46039f"
             ],
             [
              0.2222222222222222,
              "#7201a8"
             ],
             [
              0.3333333333333333,
              "#9c179e"
             ],
             [
              0.4444444444444444,
              "#bd3786"
             ],
             [
              0.5555555555555556,
              "#d8576b"
             ],
             [
              0.6666666666666666,
              "#ed7953"
             ],
             [
              0.7777777777777778,
              "#fb9f3a"
             ],
             [
              0.8888888888888888,
              "#fdca26"
             ],
             [
              1,
              "#f0f921"
             ]
            ],
            "type": "surface"
           }
          ],
          "table": [
           {
            "cells": {
             "fill": {
              "color": "#EBF0F8"
             },
             "line": {
              "color": "white"
             }
            },
            "header": {
             "fill": {
              "color": "#C8D4E3"
             },
             "line": {
              "color": "white"
             }
            },
            "type": "table"
           }
          ]
         },
         "layout": {
          "annotationdefaults": {
           "arrowcolor": "#2a3f5f",
           "arrowhead": 0,
           "arrowwidth": 1
          },
          "autotypenumbers": "strict",
          "coloraxis": {
           "colorbar": {
            "outlinewidth": 0,
            "ticks": ""
           }
          },
          "colorscale": {
           "diverging": [
            [
             0,
             "#8e0152"
            ],
            [
             0.1,
             "#c51b7d"
            ],
            [
             0.2,
             "#de77ae"
            ],
            [
             0.3,
             "#f1b6da"
            ],
            [
             0.4,
             "#fde0ef"
            ],
            [
             0.5,
             "#f7f7f7"
            ],
            [
             0.6,
             "#e6f5d0"
            ],
            [
             0.7,
             "#b8e186"
            ],
            [
             0.8,
             "#7fbc41"
            ],
            [
             0.9,
             "#4d9221"
            ],
            [
             1,
             "#276419"
            ]
           ],
           "sequential": [
            [
             0,
             "#0d0887"
            ],
            [
             0.1111111111111111,
             "#46039f"
            ],
            [
             0.2222222222222222,
             "#7201a8"
            ],
            [
             0.3333333333333333,
             "#9c179e"
            ],
            [
             0.4444444444444444,
             "#bd3786"
            ],
            [
             0.5555555555555556,
             "#d8576b"
            ],
            [
             0.6666666666666666,
             "#ed7953"
            ],
            [
             0.7777777777777778,
             "#fb9f3a"
            ],
            [
             0.8888888888888888,
             "#fdca26"
            ],
            [
             1,
             "#f0f921"
            ]
           ],
           "sequentialminus": [
            [
             0,
             "#0d0887"
            ],
            [
             0.1111111111111111,
             "#46039f"
            ],
            [
             0.2222222222222222,
             "#7201a8"
            ],
            [
             0.3333333333333333,
             "#9c179e"
            ],
            [
             0.4444444444444444,
             "#bd3786"
            ],
            [
             0.5555555555555556,
             "#d8576b"
            ],
            [
             0.6666666666666666,
             "#ed7953"
            ],
            [
             0.7777777777777778,
             "#fb9f3a"
            ],
            [
             0.8888888888888888,
             "#fdca26"
            ],
            [
             1,
             "#f0f921"
            ]
           ]
          },
          "colorway": [
           "#636efa",
           "#EF553B",
           "#00cc96",
           "#ab63fa",
           "#FFA15A",
           "#19d3f3",
           "#FF6692",
           "#B6E880",
           "#FF97FF",
           "#FECB52"
          ],
          "font": {
           "color": "#2a3f5f"
          },
          "geo": {
           "bgcolor": "white",
           "lakecolor": "white",
           "landcolor": "#E5ECF6",
           "showlakes": true,
           "showland": true,
           "subunitcolor": "white"
          },
          "hoverlabel": {
           "align": "left"
          },
          "hovermode": "closest",
          "mapbox": {
           "style": "light"
          },
          "paper_bgcolor": "white",
          "plot_bgcolor": "#E5ECF6",
          "polar": {
           "angularaxis": {
            "gridcolor": "white",
            "linecolor": "white",
            "ticks": ""
           },
           "bgcolor": "#E5ECF6",
           "radialaxis": {
            "gridcolor": "white",
            "linecolor": "white",
            "ticks": ""
           }
          },
          "scene": {
           "xaxis": {
            "backgroundcolor": "#E5ECF6",
            "gridcolor": "white",
            "gridwidth": 2,
            "linecolor": "white",
            "showbackground": true,
            "ticks": "",
            "zerolinecolor": "white"
           },
           "yaxis": {
            "backgroundcolor": "#E5ECF6",
            "gridcolor": "white",
            "gridwidth": 2,
            "linecolor": "white",
            "showbackground": true,
            "ticks": "",
            "zerolinecolor": "white"
           },
           "zaxis": {
            "backgroundcolor": "#E5ECF6",
            "gridcolor": "white",
            "gridwidth": 2,
            "linecolor": "white",
            "showbackground": true,
            "ticks": "",
            "zerolinecolor": "white"
           }
          },
          "shapedefaults": {
           "line": {
            "color": "#2a3f5f"
           }
          },
          "ternary": {
           "aaxis": {
            "gridcolor": "white",
            "linecolor": "white",
            "ticks": ""
           },
           "baxis": {
            "gridcolor": "white",
            "linecolor": "white",
            "ticks": ""
           },
           "bgcolor": "#E5ECF6",
           "caxis": {
            "gridcolor": "white",
            "linecolor": "white",
            "ticks": ""
           }
          },
          "title": {
           "x": 0.05
          },
          "xaxis": {
           "automargin": true,
           "gridcolor": "white",
           "linecolor": "white",
           "ticks": "",
           "title": {
            "standoff": 15
           },
           "zerolinecolor": "white",
           "zerolinewidth": 2
          },
          "yaxis": {
           "automargin": true,
           "gridcolor": "white",
           "linecolor": "white",
           "ticks": "",
           "title": {
            "standoff": 15
           },
           "zerolinecolor": "white",
           "zerolinewidth": 2
          }
         }
        },
        "updatemenus": [
         {
          "buttons": [
           {
            "args": [
             null,
             {
              "frame": {
               "duration": 500,
               "redraw": false
              },
              "fromcurrent": true,
              "mode": "immediate",
              "transition": {
               "duration": 500,
               "easing": "linear"
              }
             }
            ],
            "label": "&#9654;",
            "method": "animate"
           },
           {
            "args": [
             [
              null
             ],
             {
              "frame": {
               "duration": 0,
               "redraw": false
              },
              "fromcurrent": true,
              "mode": "immediate",
              "transition": {
               "duration": 0,
               "easing": "linear"
              }
             }
            ],
            "label": "&#9724;",
            "method": "animate"
           }
          ],
          "direction": "left",
          "pad": {
           "r": 10,
           "t": 70
          },
          "showactive": false,
          "type": "buttons",
          "x": 0.1,
          "xanchor": "right",
          "y": 0,
          "yanchor": "top"
         }
        ],
        "xaxis": {
         "anchor": "y",
         "domain": [
          0,
          1
         ],
         "title": {
          "text": "Value"
         }
        },
        "yaxis": {
         "anchor": "x",
         "categoryarray": [
          2022,
          2021,
          2020,
          2019,
          2018,
          2017,
          2016,
          2015,
          2014,
          2013,
          2012,
          2011,
          2010
         ],
         "categoryorder": "array",
         "domain": [
          0,
          1
         ],
         "title": {
          "text": "Year"
         }
        }
       }
      },
      "text/html": [
       "<div>                            <div id=\"1e559dcb-ac28-4b66-88c3-bfb84b3a8ed4\" class=\"plotly-graph-div\" style=\"height:525px; width:100%;\"></div>            <script type=\"text/javascript\">                require([\"plotly\"], function(Plotly) {                    window.PLOTLYENV=window.PLOTLYENV || {};                                    if (document.getElementById(\"1e559dcb-ac28-4b66-88c3-bfb84b3a8ed4\")) {                    Plotly.newPlot(                        \"1e559dcb-ac28-4b66-88c3-bfb84b3a8ed4\",                        [{\"hovertemplate\":\"Series ID=CUUR0000SA0<br>Year=%{y}<br>Value=%{marker.size}<extra></extra>\",\"legendgroup\":\"CUUR0000SA0\",\"marker\":{\"color\":\"#636efa\",\"size\":[216.687,216.74099999999999,217.63099999999997,218.00900000000001,218.178,217.965,218.011,218.312,218.43900000000002,218.71099999999998,218.803,219.179],\"sizemode\":\"area\",\"sizeref\":0.7028699999999999,\"symbol\":\"circle\"},\"mode\":\"markers\",\"name\":\"CUUR0000SA0\",\"orientation\":\"v\",\"showlegend\":true,\"type\":\"scatter\",\"x\":[216.687,216.74099999999999,217.63099999999997,218.00900000000001,218.178,217.965,218.011,218.312,218.43900000000002,218.71099999999998,218.803,219.179],\"xaxis\":\"x\",\"y\":[2010,2010,2010,2010,2010,2010,2010,2010,2010,2010,2010,2010],\"yaxis\":\"y\"},{\"hovertemplate\":\"<b>OLS trendline</b><br>Year = -1.13687e-13 * Value + 2010<br>R<sup>2</sup>=-inf<br><br>Series ID=CUUR0000SA0<br>Year=%{y} <b>(trend)</b><br>Value=%{x}<extra></extra>\",\"legendgroup\":\"CUUR0000SA0\",\"line\":{\"color\":\"#0072B2\"},\"marker\":{\"color\":\"#636efa\",\"symbol\":\"circle\"},\"mode\":\"lines\",\"name\":\"CUUR0000SA0\",\"showlegend\":false,\"type\":\"scatter\",\"x\":[216.687,216.74099999999999,217.63099999999997,217.965,218.00900000000001,218.011,218.178,218.312,218.43900000000002,218.71099999999998,218.803,219.179],\"xaxis\":\"x\",\"y\":[2010.0000000000045,2010.0000000000045,2010.0000000000043,2010.0000000000043,2010.0000000000043,2010.0000000000043,2010.0000000000043,2010.0000000000043,2010.0000000000043,2010.0000000000043,2010.0000000000043,2010.000000000004],\"yaxis\":\"y\"}],                        {\"legend\":{\"itemsizing\":\"constant\",\"title\":{\"text\":\"Series ID\"},\"tracegroupgap\":0},\"margin\":{\"t\":60},\"sliders\":[{\"active\":0,\"currentvalue\":{\"prefix\":\"Year=\"},\"len\":0.9,\"pad\":{\"b\":10,\"t\":60},\"steps\":[{\"args\":[[\"2010\"],{\"frame\":{\"duration\":0,\"redraw\":false},\"fromcurrent\":true,\"mode\":\"immediate\",\"transition\":{\"duration\":0,\"easing\":\"linear\"}}],\"label\":\"2010\",\"method\":\"animate\"},{\"args\":[[\"2011\"],{\"frame\":{\"duration\":0,\"redraw\":false},\"fromcurrent\":true,\"mode\":\"immediate\",\"transition\":{\"duration\":0,\"easing\":\"linear\"}}],\"label\":\"2011\",\"method\":\"animate\"},{\"args\":[[\"2012\"],{\"frame\":{\"duration\":0,\"redraw\":false},\"fromcurrent\":true,\"mode\":\"immediate\",\"transition\":{\"duration\":0,\"easing\":\"linear\"}}],\"label\":\"2012\",\"method\":\"animate\"},{\"args\":[[\"2013\"],{\"frame\":{\"duration\":0,\"redraw\":false},\"fromcurrent\":true,\"mode\":\"immediate\",\"transition\":{\"duration\":0,\"easing\":\"linear\"}}],\"label\":\"2013\",\"method\":\"animate\"},{\"args\":[[\"2014\"],{\"frame\":{\"duration\":0,\"redraw\":false},\"fromcurrent\":true,\"mode\":\"immediate\",\"transition\":{\"duration\":0,\"easing\":\"linear\"}}],\"label\":\"2014\",\"method\":\"animate\"},{\"args\":[[\"2015\"],{\"frame\":{\"duration\":0,\"redraw\":false},\"fromcurrent\":true,\"mode\":\"immediate\",\"transition\":{\"duration\":0,\"easing\":\"linear\"}}],\"label\":\"2015\",\"method\":\"animate\"},{\"args\":[[\"2016\"],{\"frame\":{\"duration\":0,\"redraw\":false},\"fromcurrent\":true,\"mode\":\"immediate\",\"transition\":{\"duration\":0,\"easing\":\"linear\"}}],\"label\":\"2016\",\"method\":\"animate\"},{\"args\":[[\"2017\"],{\"frame\":{\"duration\":0,\"redraw\":false},\"fromcurrent\":true,\"mode\":\"immediate\",\"transition\":{\"duration\":0,\"easing\":\"linear\"}}],\"label\":\"2017\",\"method\":\"animate\"},{\"args\":[[\"2018\"],{\"frame\":{\"duration\":0,\"redraw\":false},\"fromcurrent\":true,\"mode\":\"immediate\",\"transition\":{\"duration\":0,\"easing\":\"linear\"}}],\"label\":\"2018\",\"method\":\"animate\"},{\"args\":[[\"2019\"],{\"frame\":{\"duration\":0,\"redraw\":false},\"fromcurrent\":true,\"mode\":\"immediate\",\"transition\":{\"duration\":0,\"easing\":\"linear\"}}],\"label\":\"2019\",\"method\":\"animate\"},{\"args\":[[\"2020\"],{\"frame\":{\"duration\":0,\"redraw\":false},\"fromcurrent\":true,\"mode\":\"immediate\",\"transition\":{\"duration\":0,\"easing\":\"linear\"}}],\"label\":\"2020\",\"method\":\"animate\"},{\"args\":[[\"2021\"],{\"frame\":{\"duration\":0,\"redraw\":false},\"fromcurrent\":true,\"mode\":\"immediate\",\"transition\":{\"duration\":0,\"easing\":\"linear\"}}],\"label\":\"2021\",\"method\":\"animate\"},{\"args\":[[\"2022\"],{\"frame\":{\"duration\":0,\"redraw\":false},\"fromcurrent\":true,\"mode\":\"immediate\",\"transition\":{\"duration\":0,\"easing\":\"linear\"}}],\"label\":\"2022\",\"method\":\"animate\"}],\"x\":0.1,\"xanchor\":\"left\",\"y\":0,\"yanchor\":\"top\"}],\"template\":{\"data\":{\"bar\":[{\"error_x\":{\"color\":\"#2a3f5f\"},\"error_y\":{\"color\":\"#2a3f5f\"},\"marker\":{\"line\":{\"color\":\"#E5ECF6\",\"width\":0.5},\"pattern\":{\"fillmode\":\"overlay\",\"size\":10,\"solidity\":0.2}},\"type\":\"bar\"}],\"barpolar\":[{\"marker\":{\"line\":{\"color\":\"#E5ECF6\",\"width\":0.5},\"pattern\":{\"fillmode\":\"overlay\",\"size\":10,\"solidity\":0.2}},\"type\":\"barpolar\"}],\"carpet\":[{\"aaxis\":{\"endlinecolor\":\"#2a3f5f\",\"gridcolor\":\"white\",\"linecolor\":\"white\",\"minorgridcolor\":\"white\",\"startlinecolor\":\"#2a3f5f\"},\"baxis\":{\"endlinecolor\":\"#2a3f5f\",\"gridcolor\":\"white\",\"linecolor\":\"white\",\"minorgridcolor\":\"white\",\"startlinecolor\":\"#2a3f5f\"},\"type\":\"carpet\"}],\"choropleth\":[{\"colorbar\":{\"outlinewidth\":0,\"ticks\":\"\"},\"type\":\"choropleth\"}],\"contour\":[{\"colorbar\":{\"outlinewidth\":0,\"ticks\":\"\"},\"colorscale\":[[0.0,\"#0d0887\"],[0.1111111111111111,\"#46039f\"],[0.2222222222222222,\"#7201a8\"],[0.3333333333333333,\"#9c179e\"],[0.4444444444444444,\"#bd3786\"],[0.5555555555555556,\"#d8576b\"],[0.6666666666666666,\"#ed7953\"],[0.7777777777777778,\"#fb9f3a\"],[0.8888888888888888,\"#fdca26\"],[1.0,\"#f0f921\"]],\"type\":\"contour\"}],\"contourcarpet\":[{\"colorbar\":{\"outlinewidth\":0,\"ticks\":\"\"},\"type\":\"contourcarpet\"}],\"heatmap\":[{\"colorbar\":{\"outlinewidth\":0,\"ticks\":\"\"},\"colorscale\":[[0.0,\"#0d0887\"],[0.1111111111111111,\"#46039f\"],[0.2222222222222222,\"#7201a8\"],[0.3333333333333333,\"#9c179e\"],[0.4444444444444444,\"#bd3786\"],[0.5555555555555556,\"#d8576b\"],[0.6666666666666666,\"#ed7953\"],[0.7777777777777778,\"#fb9f3a\"],[0.8888888888888888,\"#fdca26\"],[1.0,\"#f0f921\"]],\"type\":\"heatmap\"}],\"heatmapgl\":[{\"colorbar\":{\"outlinewidth\":0,\"ticks\":\"\"},\"colorscale\":[[0.0,\"#0d0887\"],[0.1111111111111111,\"#46039f\"],[0.2222222222222222,\"#7201a8\"],[0.3333333333333333,\"#9c179e\"],[0.4444444444444444,\"#bd3786\"],[0.5555555555555556,\"#d8576b\"],[0.6666666666666666,\"#ed7953\"],[0.7777777777777778,\"#fb9f3a\"],[0.8888888888888888,\"#fdca26\"],[1.0,\"#f0f921\"]],\"type\":\"heatmapgl\"}],\"histogram\":[{\"marker\":{\"pattern\":{\"fillmode\":\"overlay\",\"size\":10,\"solidity\":0.2}},\"type\":\"histogram\"}],\"histogram2d\":[{\"colorbar\":{\"outlinewidth\":0,\"ticks\":\"\"},\"colorscale\":[[0.0,\"#0d0887\"],[0.1111111111111111,\"#46039f\"],[0.2222222222222222,\"#7201a8\"],[0.3333333333333333,\"#9c179e\"],[0.4444444444444444,\"#bd3786\"],[0.5555555555555556,\"#d8576b\"],[0.6666666666666666,\"#ed7953\"],[0.7777777777777778,\"#fb9f3a\"],[0.8888888888888888,\"#fdca26\"],[1.0,\"#f0f921\"]],\"type\":\"histogram2d\"}],\"histogram2dcontour\":[{\"colorbar\":{\"outlinewidth\":0,\"ticks\":\"\"},\"colorscale\":[[0.0,\"#0d0887\"],[0.1111111111111111,\"#46039f\"],[0.2222222222222222,\"#7201a8\"],[0.3333333333333333,\"#9c179e\"],[0.4444444444444444,\"#bd3786\"],[0.5555555555555556,\"#d8576b\"],[0.6666666666666666,\"#ed7953\"],[0.7777777777777778,\"#fb9f3a\"],[0.8888888888888888,\"#fdca26\"],[1.0,\"#f0f921\"]],\"type\":\"histogram2dcontour\"}],\"mesh3d\":[{\"colorbar\":{\"outlinewidth\":0,\"ticks\":\"\"},\"type\":\"mesh3d\"}],\"parcoords\":[{\"line\":{\"colorbar\":{\"outlinewidth\":0,\"ticks\":\"\"}},\"type\":\"parcoords\"}],\"pie\":[{\"automargin\":true,\"type\":\"pie\"}],\"scatter\":[{\"marker\":{\"colorbar\":{\"outlinewidth\":0,\"ticks\":\"\"}},\"type\":\"scatter\"}],\"scatter3d\":[{\"line\":{\"colorbar\":{\"outlinewidth\":0,\"ticks\":\"\"}},\"marker\":{\"colorbar\":{\"outlinewidth\":0,\"ticks\":\"\"}},\"type\":\"scatter3d\"}],\"scattercarpet\":[{\"marker\":{\"colorbar\":{\"outlinewidth\":0,\"ticks\":\"\"}},\"type\":\"scattercarpet\"}],\"scattergeo\":[{\"marker\":{\"colorbar\":{\"outlinewidth\":0,\"ticks\":\"\"}},\"type\":\"scattergeo\"}],\"scattergl\":[{\"marker\":{\"colorbar\":{\"outlinewidth\":0,\"ticks\":\"\"}},\"type\":\"scattergl\"}],\"scattermapbox\":[{\"marker\":{\"colorbar\":{\"outlinewidth\":0,\"ticks\":\"\"}},\"type\":\"scattermapbox\"}],\"scatterpolar\":[{\"marker\":{\"colorbar\":{\"outlinewidth\":0,\"ticks\":\"\"}},\"type\":\"scatterpolar\"}],\"scatterpolargl\":[{\"marker\":{\"colorbar\":{\"outlinewidth\":0,\"ticks\":\"\"}},\"type\":\"scatterpolargl\"}],\"scatterternary\":[{\"marker\":{\"colorbar\":{\"outlinewidth\":0,\"ticks\":\"\"}},\"type\":\"scatterternary\"}],\"surface\":[{\"colorbar\":{\"outlinewidth\":0,\"ticks\":\"\"},\"colorscale\":[[0.0,\"#0d0887\"],[0.1111111111111111,\"#46039f\"],[0.2222222222222222,\"#7201a8\"],[0.3333333333333333,\"#9c179e\"],[0.4444444444444444,\"#bd3786\"],[0.5555555555555556,\"#d8576b\"],[0.6666666666666666,\"#ed7953\"],[0.7777777777777778,\"#fb9f3a\"],[0.8888888888888888,\"#fdca26\"],[1.0,\"#f0f921\"]],\"type\":\"surface\"}],\"table\":[{\"cells\":{\"fill\":{\"color\":\"#EBF0F8\"},\"line\":{\"color\":\"white\"}},\"header\":{\"fill\":{\"color\":\"#C8D4E3\"},\"line\":{\"color\":\"white\"}},\"type\":\"table\"}]},\"layout\":{\"annotationdefaults\":{\"arrowcolor\":\"#2a3f5f\",\"arrowhead\":0,\"arrowwidth\":1},\"autotypenumbers\":\"strict\",\"coloraxis\":{\"colorbar\":{\"outlinewidth\":0,\"ticks\":\"\"}},\"colorscale\":{\"diverging\":[[0,\"#8e0152\"],[0.1,\"#c51b7d\"],[0.2,\"#de77ae\"],[0.3,\"#f1b6da\"],[0.4,\"#fde0ef\"],[0.5,\"#f7f7f7\"],[0.6,\"#e6f5d0\"],[0.7,\"#b8e186\"],[0.8,\"#7fbc41\"],[0.9,\"#4d9221\"],[1,\"#276419\"]],\"sequential\":[[0.0,\"#0d0887\"],[0.1111111111111111,\"#46039f\"],[0.2222222222222222,\"#7201a8\"],[0.3333333333333333,\"#9c179e\"],[0.4444444444444444,\"#bd3786\"],[0.5555555555555556,\"#d8576b\"],[0.6666666666666666,\"#ed7953\"],[0.7777777777777778,\"#fb9f3a\"],[0.8888888888888888,\"#fdca26\"],[1.0,\"#f0f921\"]],\"sequentialminus\":[[0.0,\"#0d0887\"],[0.1111111111111111,\"#46039f\"],[0.2222222222222222,\"#7201a8\"],[0.3333333333333333,\"#9c179e\"],[0.4444444444444444,\"#bd3786\"],[0.5555555555555556,\"#d8576b\"],[0.6666666666666666,\"#ed7953\"],[0.7777777777777778,\"#fb9f3a\"],[0.8888888888888888,\"#fdca26\"],[1.0,\"#f0f921\"]]},\"colorway\":[\"#636efa\",\"#EF553B\",\"#00cc96\",\"#ab63fa\",\"#FFA15A\",\"#19d3f3\",\"#FF6692\",\"#B6E880\",\"#FF97FF\",\"#FECB52\"],\"font\":{\"color\":\"#2a3f5f\"},\"geo\":{\"bgcolor\":\"white\",\"lakecolor\":\"white\",\"landcolor\":\"#E5ECF6\",\"showlakes\":true,\"showland\":true,\"subunitcolor\":\"white\"},\"hoverlabel\":{\"align\":\"left\"},\"hovermode\":\"closest\",\"mapbox\":{\"style\":\"light\"},\"paper_bgcolor\":\"white\",\"plot_bgcolor\":\"#E5ECF6\",\"polar\":{\"angularaxis\":{\"gridcolor\":\"white\",\"linecolor\":\"white\",\"ticks\":\"\"},\"bgcolor\":\"#E5ECF6\",\"radialaxis\":{\"gridcolor\":\"white\",\"linecolor\":\"white\",\"ticks\":\"\"}},\"scene\":{\"xaxis\":{\"backgroundcolor\":\"#E5ECF6\",\"gridcolor\":\"white\",\"gridwidth\":2,\"linecolor\":\"white\",\"showbackground\":true,\"ticks\":\"\",\"zerolinecolor\":\"white\"},\"yaxis\":{\"backgroundcolor\":\"#E5ECF6\",\"gridcolor\":\"white\",\"gridwidth\":2,\"linecolor\":\"white\",\"showbackground\":true,\"ticks\":\"\",\"zerolinecolor\":\"white\"},\"zaxis\":{\"backgroundcolor\":\"#E5ECF6\",\"gridcolor\":\"white\",\"gridwidth\":2,\"linecolor\":\"white\",\"showbackground\":true,\"ticks\":\"\",\"zerolinecolor\":\"white\"}},\"shapedefaults\":{\"line\":{\"color\":\"#2a3f5f\"}},\"ternary\":{\"aaxis\":{\"gridcolor\":\"white\",\"linecolor\":\"white\",\"ticks\":\"\"},\"baxis\":{\"gridcolor\":\"white\",\"linecolor\":\"white\",\"ticks\":\"\"},\"bgcolor\":\"#E5ECF6\",\"caxis\":{\"gridcolor\":\"white\",\"linecolor\":\"white\",\"ticks\":\"\"}},\"title\":{\"x\":0.05},\"xaxis\":{\"automargin\":true,\"gridcolor\":\"white\",\"linecolor\":\"white\",\"ticks\":\"\",\"title\":{\"standoff\":15},\"zerolinecolor\":\"white\",\"zerolinewidth\":2},\"yaxis\":{\"automargin\":true,\"gridcolor\":\"white\",\"linecolor\":\"white\",\"ticks\":\"\",\"title\":{\"standoff\":15},\"zerolinecolor\":\"white\",\"zerolinewidth\":2}}},\"updatemenus\":[{\"buttons\":[{\"args\":[null,{\"frame\":{\"duration\":500,\"redraw\":false},\"fromcurrent\":true,\"mode\":\"immediate\",\"transition\":{\"duration\":500,\"easing\":\"linear\"}}],\"label\":\"&#9654;\",\"method\":\"animate\"},{\"args\":[[null],{\"frame\":{\"duration\":0,\"redraw\":false},\"fromcurrent\":true,\"mode\":\"immediate\",\"transition\":{\"duration\":0,\"easing\":\"linear\"}}],\"label\":\"&#9724;\",\"method\":\"animate\"}],\"direction\":\"left\",\"pad\":{\"r\":10,\"t\":70},\"showactive\":false,\"type\":\"buttons\",\"x\":0.1,\"xanchor\":\"right\",\"y\":0,\"yanchor\":\"top\"}],\"xaxis\":{\"anchor\":\"y\",\"domain\":[0.0,1.0],\"title\":{\"text\":\"Value\"}},\"yaxis\":{\"anchor\":\"x\",\"categoryarray\":[2022,2021,2020,2019,2018,2017,2016,2015,2014,2013,2012,2011,2010],\"categoryorder\":\"array\",\"domain\":[0.0,1.0],\"title\":{\"text\":\"Year\"}}},                        {\"responsive\": true}                    ).then(function(){\n",
       "                            Plotly.addFrames('1e559dcb-ac28-4b66-88c3-bfb84b3a8ed4', [{\"data\":[{\"hovertemplate\":\"Series ID=CUUR0000SA0<br>Year=%{y}<br>Value=%{marker.size}<extra></extra>\",\"legendgroup\":\"CUUR0000SA0\",\"marker\":{\"color\":\"#636efa\",\"size\":[216.687,216.74099999999999,217.63099999999997,218.00900000000001,218.178,217.965,218.011,218.312,218.43900000000002,218.71099999999998,218.803,219.179],\"sizemode\":\"area\",\"sizeref\":0.7028699999999999,\"symbol\":\"circle\"},\"mode\":\"markers\",\"name\":\"CUUR0000SA0\",\"orientation\":\"v\",\"showlegend\":true,\"type\":\"scatter\",\"x\":[216.687,216.74099999999999,217.63099999999997,218.00900000000001,218.178,217.965,218.011,218.312,218.43900000000002,218.71099999999998,218.803,219.179],\"xaxis\":\"x\",\"y\":[2010,2010,2010,2010,2010,2010,2010,2010,2010,2010,2010,2010],\"yaxis\":\"y\"},{\"hovertemplate\":\"<b>OLS trendline</b><br>Year = -1.13687e-13 * Value + 2010<br>R<sup>2</sup>=-inf<br><br>Series ID=CUUR0000SA0<br>Year=%{y} <b>(trend)</b><br>Value=%{x}<extra></extra>\",\"legendgroup\":\"CUUR0000SA0\",\"line\":{\"color\":\"#0072B2\"},\"marker\":{\"color\":\"#636efa\",\"symbol\":\"circle\"},\"mode\":\"lines\",\"name\":\"CUUR0000SA0\",\"showlegend\":false,\"type\":\"scatter\",\"x\":[216.687,216.74099999999999,217.63099999999997,217.965,218.00900000000001,218.011,218.178,218.312,218.43900000000002,218.71099999999998,218.803,219.179],\"xaxis\":\"x\",\"y\":[2010.0000000000045,2010.0000000000045,2010.0000000000043,2010.0000000000043,2010.0000000000043,2010.0000000000043,2010.0000000000043,2010.0000000000043,2010.0000000000043,2010.0000000000043,2010.0000000000043,2010.000000000004],\"yaxis\":\"y\"}],\"name\":\"2010\"},{\"data\":[{\"hovertemplate\":\"Series ID=CUUR0000SA0<br>Year=%{y}<br>Value=%{marker.size}<extra></extra>\",\"legendgroup\":\"CUUR0000SA0\",\"marker\":{\"color\":\"#636efa\",\"size\":[220.22299999999998,221.30900000000003,223.467,224.90599999999998,225.96400000000003,225.722,225.922,226.545,226.889,226.421,226.23,225.672],\"sizemode\":\"area\",\"sizeref\":0.7028699999999999,\"symbol\":\"circle\"},\"mode\":\"markers\",\"name\":\"CUUR0000SA0\",\"orientation\":\"v\",\"showlegend\":true,\"type\":\"scatter\",\"x\":[220.22299999999998,221.30900000000003,223.467,224.90599999999998,225.96400000000003,225.722,225.922,226.545,226.889,226.421,226.23,225.672],\"xaxis\":\"x\",\"y\":[2011,2011,2011,2011,2011,2011,2011,2011,2011,2011,2011,2011],\"yaxis\":\"y\"},{\"hovertemplate\":\"<b>OLS trendline</b><br>Year = -1.98952e-13 * Value + 2011<br>R<sup>2</sup>=-inf<br><br>Series ID=CUUR0000SA0<br>Year=%{y} <b>(trend)</b><br>Value=%{x}<extra></extra>\",\"legendgroup\":\"CUUR0000SA0\",\"line\":{\"color\":\"#0072B2\"},\"marker\":{\"color\":\"#636efa\",\"symbol\":\"circle\"},\"mode\":\"lines\",\"name\":\"CUUR0000SA0\",\"showlegend\":false,\"type\":\"scatter\",\"x\":[220.22299999999998,221.30900000000003,223.467,224.90599999999998,225.672,225.722,225.922,225.96400000000003,226.23,226.421,226.545,226.889],\"xaxis\":\"x\",\"y\":[2011.0000000000143,2011.000000000014,2011.0000000000136,2011.0000000000134,2011.0000000000134,2011.0000000000132,2011.0000000000132,2011.0000000000132,2011.0000000000132,2011.0000000000132,2011.0000000000132,2011.000000000013],\"yaxis\":\"y\"}],\"name\":\"2011\"},{\"data\":[{\"hovertemplate\":\"Series ID=CUUR0000SA0<br>Year=%{y}<br>Value=%{marker.size}<extra></extra>\",\"legendgroup\":\"CUUR0000SA0\",\"marker\":{\"color\":\"#636efa\",\"size\":[226.665,227.66299999999998,229.392,230.085,229.815,229.47799999999998,229.104,230.37900000000002,231.407,231.317,230.22099999999998,229.601],\"sizemode\":\"area\",\"sizeref\":0.7028699999999999,\"symbol\":\"circle\"},\"mode\":\"markers\",\"name\":\"CUUR0000SA0\",\"orientation\":\"v\",\"showlegend\":true,\"type\":\"scatter\",\"x\":[226.665,227.66299999999998,229.392,230.085,229.815,229.47799999999998,229.104,230.37900000000002,231.407,231.317,230.22099999999998,229.601],\"xaxis\":\"x\",\"y\":[2012,2012,2012,2012,2012,2012,2012,2012,2012,2012,2012,2012],\"yaxis\":\"y\"},{\"hovertemplate\":\"<b>OLS trendline</b><br>Year = 1.13687e-13 * Value + 2012<br>R<sup>2</sup>=-inf<br><br>Series ID=CUUR0000SA0<br>Year=%{y} <b>(trend)</b><br>Value=%{x}<extra></extra>\",\"legendgroup\":\"CUUR0000SA0\",\"line\":{\"color\":\"#0072B2\"},\"marker\":{\"color\":\"#636efa\",\"symbol\":\"circle\"},\"mode\":\"lines\",\"name\":\"CUUR0000SA0\",\"showlegend\":false,\"type\":\"scatter\",\"x\":[226.665,227.66299999999998,229.104,229.392,229.47799999999998,229.601,229.815,230.085,230.22099999999998,230.37900000000002,231.317,231.407],\"xaxis\":\"x\",\"y\":[2012.0000000000257,2012.000000000026,2012.0000000000261,2012.0000000000261,2012.0000000000261,2012.0000000000261,2012.0000000000261,2012.0000000000261,2012.0000000000261,2012.0000000000261,2012.0000000000264,2012.0000000000264],\"yaxis\":\"y\"}],\"name\":\"2012\"},{\"data\":[{\"hovertemplate\":\"Series ID=CUUR0000SA0<br>Year=%{y}<br>Value=%{marker.size}<extra></extra>\",\"legendgroup\":\"CUUR0000SA0\",\"marker\":{\"color\":\"#636efa\",\"size\":[230.28,232.166,232.773,232.53099999999998,232.945,233.50400000000002,233.59599999999998,233.877,234.149,233.546,233.06900000000002,233.049],\"sizemode\":\"area\",\"sizeref\":0.7028699999999999,\"symbol\":\"circle\"},\"mode\":\"markers\",\"name\":\"CUUR0000SA0\",\"orientation\":\"v\",\"showlegend\":true,\"type\":\"scatter\",\"x\":[230.28,232.166,232.773,232.53099999999998,232.945,233.50400000000002,233.59599999999998,233.877,234.149,233.546,233.06900000000002,233.049],\"xaxis\":\"x\",\"y\":[2013,2013,2013,2013,2013,2013,2013,2013,2013,2013,2013,2013],\"yaxis\":\"y\"},{\"hovertemplate\":\"<b>OLS trendline</b><br>Year = -2.27374e-13 * Value + 2013<br>R<sup>2</sup>=-inf<br><br>Series ID=CUUR0000SA0<br>Year=%{y} <b>(trend)</b><br>Value=%{x}<extra></extra>\",\"legendgroup\":\"CUUR0000SA0\",\"line\":{\"color\":\"#0072B2\"},\"marker\":{\"color\":\"#636efa\",\"symbol\":\"circle\"},\"mode\":\"lines\",\"name\":\"CUUR0000SA0\",\"showlegend\":false,\"type\":\"scatter\",\"x\":[230.28,232.166,232.53099999999998,232.773,232.945,233.049,233.06900000000002,233.50400000000002,233.546,233.59599999999998,233.877,234.149],\"xaxis\":\"x\",\"y\":[2013.000000000006,2013.0000000000055,2013.0000000000052,2013.0000000000052,2013.0000000000052,2013.0000000000052,2013.0000000000052,2013.000000000005,2013.000000000005,2013.000000000005,2013.000000000005,2013.000000000005],\"yaxis\":\"y\"}],\"name\":\"2013\"},{\"data\":[{\"hovertemplate\":\"Series ID=CUUR0000SA0<br>Year=%{y}<br>Value=%{marker.size}<extra></extra>\",\"legendgroup\":\"CUUR0000SA0\",\"marker\":{\"color\":\"#636efa\",\"size\":[233.916,234.78099999999998,236.293,237.072,237.9,238.343,238.25,237.852,238.03099999999998,237.433,236.15099999999998,234.812],\"sizemode\":\"area\",\"sizeref\":0.7028699999999999,\"symbol\":\"circle\"},\"mode\":\"markers\",\"name\":\"CUUR0000SA0\",\"orientation\":\"v\",\"showlegend\":true,\"type\":\"scatter\",\"x\":[233.916,234.78099999999998,236.293,237.072,237.9,238.343,238.25,237.852,238.03099999999998,237.433,236.15099999999998,234.812],\"xaxis\":\"x\",\"y\":[2014,2014,2014,2014,2014,2014,2014,2014,2014,2014,2014,2014],\"yaxis\":\"y\"},{\"hovertemplate\":\"<b>OLS trendline</b><br>Year = -1.98952e-13 * Value + 2014<br>R<sup>2</sup>=-inf<br><br>Series ID=CUUR0000SA0<br>Year=%{y} <b>(trend)</b><br>Value=%{x}<extra></extra>\",\"legendgroup\":\"CUUR0000SA0\",\"line\":{\"color\":\"#0072B2\"},\"marker\":{\"color\":\"#636efa\",\"symbol\":\"circle\"},\"mode\":\"lines\",\"name\":\"CUUR0000SA0\",\"showlegend\":false,\"type\":\"scatter\",\"x\":[233.916,234.78099999999998,234.812,236.15099999999998,236.293,237.072,237.433,237.852,237.9,238.03099999999998,238.25,238.343],\"xaxis\":\"x\",\"y\":[2013.9999999999825,2013.9999999999825,2013.9999999999825,2013.999999999982,2013.999999999982,2013.999999999982,2013.9999999999818,2013.9999999999818,2013.9999999999818,2013.9999999999818,2013.9999999999818,2013.9999999999816],\"yaxis\":\"y\"}],\"name\":\"2014\"},{\"data\":[{\"hovertemplate\":\"Series ID=CUUR0000SA0<br>Year=%{y}<br>Value=%{marker.size}<extra></extra>\",\"legendgroup\":\"CUUR0000SA0\",\"marker\":{\"color\":\"#636efa\",\"size\":[233.707,234.722,236.11900000000003,236.59900000000002,237.805,238.638,238.65400000000002,238.31599999999997,237.945,237.838,237.33599999999998,236.525],\"sizemode\":\"area\",\"sizeref\":0.7028699999999999,\"symbol\":\"circle\"},\"mode\":\"markers\",\"name\":\"CUUR0000SA0\",\"orientation\":\"v\",\"showlegend\":true,\"type\":\"scatter\",\"x\":[233.707,234.722,236.11900000000003,236.59900000000002,237.805,238.638,238.65400000000002,238.31599999999997,237.945,237.838,237.33599999999998,236.525],\"xaxis\":\"x\",\"y\":[2015,2015,2015,2015,2015,2015,2015,2015,2015,2015,2015,2015],\"yaxis\":\"y\"},{\"hovertemplate\":\"<b>OLS trendline</b><br>Year = -2.27374e-13 * Value + 2015<br>R<sup>2</sup>=-inf<br><br>Series ID=CUUR0000SA0<br>Year=%{y} <b>(trend)</b><br>Value=%{x}<extra></extra>\",\"legendgroup\":\"CUUR0000SA0\",\"line\":{\"color\":\"#0072B2\"},\"marker\":{\"color\":\"#636efa\",\"symbol\":\"circle\"},\"mode\":\"lines\",\"name\":\"CUUR0000SA0\",\"showlegend\":false,\"type\":\"scatter\",\"x\":[233.707,234.722,236.11900000000003,236.525,236.59900000000002,237.33599999999998,237.805,237.838,237.945,238.31599999999997,238.638,238.65400000000002],\"xaxis\":\"x\",\"y\":[2015.000000000005,2015.0000000000048,2015.0000000000045,2015.0000000000043,2015.0000000000043,2015.0000000000043,2015.000000000004,2015.000000000004,2015.000000000004,2015.000000000004,2015.0000000000039,2015.0000000000039],\"yaxis\":\"y\"}],\"name\":\"2015\"},{\"data\":[{\"hovertemplate\":\"Series ID=CUUR0000SA0<br>Year=%{y}<br>Value=%{marker.size}<extra></extra>\",\"legendgroup\":\"CUUR0000SA0\",\"marker\":{\"color\":\"#636efa\",\"size\":[236.916,237.111,238.132,239.261,240.229,241.018,240.628,240.84900000000002,241.428,241.729,241.35299999999998,241.43200000000002],\"sizemode\":\"area\",\"sizeref\":0.7028699999999999,\"symbol\":\"circle\"},\"mode\":\"markers\",\"name\":\"CUUR0000SA0\",\"orientation\":\"v\",\"showlegend\":true,\"type\":\"scatter\",\"x\":[236.916,237.111,238.132,239.261,240.229,241.018,240.628,240.84900000000002,241.428,241.729,241.35299999999998,241.43200000000002],\"xaxis\":\"x\",\"y\":[2016,2016,2016,2016,2016,2016,2016,2016,2016,2016,2016,2016],\"yaxis\":\"y\"},{\"hovertemplate\":\"<b>OLS trendline</b><br>Year = -1.13687e-13 * Value + 2016<br>R<sup>2</sup>=-inf<br><br>Series ID=CUUR0000SA0<br>Year=%{y} <b>(trend)</b><br>Value=%{x}<extra></extra>\",\"legendgroup\":\"CUUR0000SA0\",\"line\":{\"color\":\"#0072B2\"},\"marker\":{\"color\":\"#636efa\",\"symbol\":\"circle\"},\"mode\":\"lines\",\"name\":\"CUUR0000SA0\",\"showlegend\":false,\"type\":\"scatter\",\"x\":[236.916,237.111,238.132,239.261,240.229,240.628,240.84900000000002,241.018,241.35299999999998,241.428,241.43200000000002,241.729],\"xaxis\":\"x\",\"y\":[2015.999999999995,2015.9999999999948,2015.9999999999948,2015.9999999999945,2015.9999999999945,2015.9999999999945,2015.9999999999945,2015.9999999999943,2015.9999999999943,2015.9999999999943,2015.9999999999943,2015.9999999999943],\"yaxis\":\"y\"}],\"name\":\"2016\"},{\"data\":[{\"hovertemplate\":\"Series ID=CUUR0000SA0<br>Year=%{y}<br>Value=%{marker.size}<extra></extra>\",\"legendgroup\":\"CUUR0000SA0\",\"marker\":{\"color\":\"#636efa\",\"size\":[242.83900000000003,243.60299999999998,243.801,244.524,244.733,244.955,244.78599999999997,245.519,246.81900000000002,246.66299999999998,246.669,246.524],\"sizemode\":\"area\",\"sizeref\":0.7028699999999999,\"symbol\":\"circle\"},\"mode\":\"markers\",\"name\":\"CUUR0000SA0\",\"orientation\":\"v\",\"showlegend\":true,\"type\":\"scatter\",\"x\":[242.83900000000003,243.60299999999998,243.801,244.524,244.733,244.955,244.78599999999997,245.519,246.81900000000002,246.66299999999998,246.669,246.524],\"xaxis\":\"x\",\"y\":[2017,2017,2017,2017,2017,2017,2017,2017,2017,2017,2017,2017],\"yaxis\":\"y\"},{\"hovertemplate\":\"<b>OLS trendline</b><br>Year = 0 * Value + 2017<br>R<sup>2</sup>=-inf<br><br>Series ID=CUUR0000SA0<br>Year=%{y} <b>(trend)</b><br>Value=%{x}<extra></extra>\",\"legendgroup\":\"CUUR0000SA0\",\"line\":{\"color\":\"#0072B2\"},\"marker\":{\"color\":\"#636efa\",\"symbol\":\"circle\"},\"mode\":\"lines\",\"name\":\"CUUR0000SA0\",\"showlegend\":false,\"type\":\"scatter\",\"x\":[242.83900000000003,243.60299999999998,243.801,244.524,244.733,244.78599999999997,244.955,245.519,246.524,246.66299999999998,246.669,246.81900000000002],\"xaxis\":\"x\",\"y\":[2017.0000000000073,2017.0000000000073,2017.0000000000073,2017.0000000000073,2017.0000000000073,2017.0000000000073,2017.0000000000073,2017.0000000000073,2017.0000000000073,2017.0000000000073,2017.0000000000073,2017.0000000000073],\"yaxis\":\"y\"}],\"name\":\"2017\"},{\"data\":[{\"hovertemplate\":\"Series ID=CUUR0000SA0<br>Year=%{y}<br>Value=%{marker.size}<extra></extra>\",\"legendgroup\":\"CUUR0000SA0\",\"marker\":{\"color\":\"#636efa\",\"size\":[247.86700000000002,248.99099999999999,249.554,250.546,251.588,251.989,252.00599999999997,252.146,252.43900000000002,252.885,252.03799999999998,251.233],\"sizemode\":\"area\",\"sizeref\":0.7028699999999999,\"symbol\":\"circle\"},\"mode\":\"markers\",\"name\":\"CUUR0000SA0\",\"orientation\":\"v\",\"showlegend\":true,\"type\":\"scatter\",\"x\":[247.86700000000002,248.99099999999999,249.554,250.546,251.588,251.989,252.00599999999997,252.146,252.43900000000002,252.885,252.03799999999998,251.233],\"xaxis\":\"x\",\"y\":[2018,2018,2018,2018,2018,2018,2018,2018,2018,2018,2018,2018],\"yaxis\":\"y\"},{\"hovertemplate\":\"<b>OLS trendline</b><br>Year = -1.98952e-13 * Value + 2018<br>R<sup>2</sup>=-inf<br><br>Series ID=CUUR0000SA0<br>Year=%{y} <b>(trend)</b><br>Value=%{x}<extra></extra>\",\"legendgroup\":\"CUUR0000SA0\",\"line\":{\"color\":\"#0072B2\"},\"marker\":{\"color\":\"#636efa\",\"symbol\":\"circle\"},\"mode\":\"lines\",\"name\":\"CUUR0000SA0\",\"showlegend\":false,\"type\":\"scatter\",\"x\":[247.86700000000002,248.99099999999999,249.554,250.546,251.233,251.588,251.989,252.00599999999997,252.03799999999998,252.146,252.43900000000002,252.885],\"xaxis\":\"x\",\"y\":[2018.0000000000016,2018.0000000000014,2018.0000000000014,2018.0000000000011,2018.000000000001,2018.000000000001,2018.000000000001,2018.0000000000007,2018.0000000000007,2018.0000000000007,2018.0000000000007,2018.0000000000007],\"yaxis\":\"y\"}],\"name\":\"2018\"},{\"data\":[{\"hovertemplate\":\"Series ID=CUUR0000SA0<br>Year=%{y}<br>Value=%{marker.size}<extra></extra>\",\"legendgroup\":\"CUUR0000SA0\",\"marker\":{\"color\":\"#636efa\",\"size\":[251.71200000000002,252.77599999999998,254.202,255.548,256.092,256.143,256.57099999999997,256.558,256.759,257.346,257.20799999999997,256.974],\"sizemode\":\"area\",\"sizeref\":0.7028699999999999,\"symbol\":\"circle\"},\"mode\":\"markers\",\"name\":\"CUUR0000SA0\",\"orientation\":\"v\",\"showlegend\":true,\"type\":\"scatter\",\"x\":[251.71200000000002,252.77599999999998,254.202,255.548,256.092,256.143,256.57099999999997,256.558,256.759,257.346,257.20799999999997,256.974],\"xaxis\":\"x\",\"y\":[2019,2019,2019,2019,2019,2019,2019,2019,2019,2019,2019,2019],\"yaxis\":\"y\"},{\"hovertemplate\":\"<b>OLS trendline</b><br>Year = -1.98952e-13 * Value + 2019<br>R<sup>2</sup>=-inf<br><br>Series ID=CUUR0000SA0<br>Year=%{y} <b>(trend)</b><br>Value=%{x}<extra></extra>\",\"legendgroup\":\"CUUR0000SA0\",\"line\":{\"color\":\"#0072B2\"},\"marker\":{\"color\":\"#636efa\",\"symbol\":\"circle\"},\"mode\":\"lines\",\"name\":\"CUUR0000SA0\",\"showlegend\":false,\"type\":\"scatter\",\"x\":[251.71200000000002,252.77599999999998,254.202,255.548,256.092,256.143,256.558,256.57099999999997,256.759,256.974,257.20799999999997,257.346],\"xaxis\":\"x\",\"y\":[2019.000000000001,2019.0000000000007,2019.0000000000005,2019.0,2019.0,2019.0,2019.0,2019.0,2018.9999999999998,2018.9999999999998,2018.9999999999998,2018.9999999999998],\"yaxis\":\"y\"}],\"name\":\"2019\"},{\"data\":[{\"hovertemplate\":\"Series ID=CUUR0000SA0<br>Year=%{y}<br>Value=%{marker.size}<extra></extra>\",\"legendgroup\":\"CUUR0000SA0\",\"marker\":{\"color\":\"#636efa\",\"size\":[257.971,258.678,258.115,256.389,256.394,257.797,259.101,259.918,260.28,260.388,260.22900000000004,260.474],\"sizemode\":\"area\",\"sizeref\":0.7028699999999999,\"symbol\":\"circle\"},\"mode\":\"markers\",\"name\":\"CUUR0000SA0\",\"orientation\":\"v\",\"showlegend\":true,\"type\":\"scatter\",\"x\":[257.971,258.678,258.115,256.389,256.394,257.797,259.101,259.918,260.28,260.388,260.22900000000004,260.474],\"xaxis\":\"x\",\"y\":[2020,2020,2020,2020,2020,2020,2020,2020,2020,2020,2020,2020],\"yaxis\":\"y\"},{\"hovertemplate\":\"<b>OLS trendline</b><br>Year = 0 * Value + 2020<br>R<sup>2</sup>=-inf<br><br>Series ID=CUUR0000SA0<br>Year=%{y} <b>(trend)</b><br>Value=%{x}<extra></extra>\",\"legendgroup\":\"CUUR0000SA0\",\"line\":{\"color\":\"#0072B2\"},\"marker\":{\"color\":\"#636efa\",\"symbol\":\"circle\"},\"mode\":\"lines\",\"name\":\"CUUR0000SA0\",\"showlegend\":false,\"type\":\"scatter\",\"x\":[256.389,256.394,257.797,257.971,258.115,258.678,259.101,259.918,260.22900000000004,260.28,260.388,260.474],\"xaxis\":\"x\",\"y\":[2020.0000000000146,2020.0000000000146,2020.0000000000146,2020.0000000000146,2020.0000000000146,2020.0000000000146,2020.0000000000146,2020.0000000000146,2020.0000000000146,2020.0000000000146,2020.0000000000146,2020.0000000000146],\"yaxis\":\"y\"}],\"name\":\"2020\"},{\"data\":[{\"hovertemplate\":\"Series ID=CUUR0000SA0<br>Year=%{y}<br>Value=%{marker.size}<extra></extra>\",\"legendgroup\":\"CUUR0000SA0\",\"marker\":{\"color\":\"#636efa\",\"size\":[261.582,263.014,264.877,267.05400000000003,269.195,271.69599999999997,273.003,273.567,274.31,276.589,277.948,278.802],\"sizemode\":\"area\",\"sizeref\":0.7028699999999999,\"symbol\":\"circle\"},\"mode\":\"markers\",\"name\":\"CUUR0000SA0\",\"orientation\":\"v\",\"showlegend\":true,\"type\":\"scatter\",\"x\":[261.582,263.014,264.877,267.05400000000003,269.195,271.69599999999997,273.003,273.567,274.31,276.589,277.948,278.802],\"xaxis\":\"x\",\"y\":[2021,2021,2021,2021,2021,2021,2021,2021,2021,2021,2021,2021],\"yaxis\":\"y\"},{\"hovertemplate\":\"<b>OLS trendline</b><br>Year = -2.84217e-14 * Value + 2021<br>R<sup>2</sup>=-inf<br><br>Series ID=CUUR0000SA0<br>Year=%{y} <b>(trend)</b><br>Value=%{x}<extra></extra>\",\"legendgroup\":\"CUUR0000SA0\",\"line\":{\"color\":\"#0072B2\"},\"marker\":{\"color\":\"#636efa\",\"symbol\":\"circle\"},\"mode\":\"lines\",\"name\":\"CUUR0000SA0\",\"showlegend\":false,\"type\":\"scatter\",\"x\":[261.582,263.014,264.877,267.05400000000003,269.195,271.69599999999997,273.003,273.567,274.31,276.589,277.948,278.802],\"xaxis\":\"x\",\"y\":[2021.000000000007,2021.000000000007,2021.000000000007,2021.000000000007,2021.0000000000068,2021.0000000000068,2021.0000000000068,2021.0000000000068,2021.0000000000068,2021.0000000000066,2021.0000000000066,2021.0000000000066],\"yaxis\":\"y\"}],\"name\":\"2021\"},{\"data\":[{\"hovertemplate\":\"Series ID=CUUR0000SA0<br>Year=%{y}<br>Value=%{marker.size}<extra></extra>\",\"legendgroup\":\"CUUR0000SA0\",\"marker\":{\"color\":\"#636efa\",\"size\":[281.14799999999997],\"sizemode\":\"area\",\"sizeref\":0.7028699999999999,\"symbol\":\"circle\"},\"mode\":\"markers\",\"name\":\"CUUR0000SA0\",\"orientation\":\"v\",\"showlegend\":true,\"type\":\"scatter\",\"x\":[281.14799999999997],\"xaxis\":\"x\",\"y\":[2022],\"yaxis\":\"y\"},{\"hovertemplate\":\"Series ID=CUUR0000SA0<br>Year=2022<extra></extra>\",\"legendgroup\":\"CUUR0000SA0\",\"line\":{\"color\":\"#0072B2\"},\"marker\":{\"color\":\"#636efa\",\"symbol\":\"circle\"},\"mode\":\"lines\",\"name\":\"CUUR0000SA0\",\"showlegend\":false,\"type\":\"scatter\",\"xaxis\":\"x\",\"yaxis\":\"y\"}],\"name\":\"2022\"}]);\n",
       "                        }).then(function(){\n",
       "                            \n",
       "var gd = document.getElementById('1e559dcb-ac28-4b66-88c3-bfb84b3a8ed4');\n",
       "var x = new MutationObserver(function (mutations, observer) {{\n",
       "        var display = window.getComputedStyle(gd).display;\n",
       "        if (!display || display === 'none') {{\n",
       "            console.log([gd, 'removed!']);\n",
       "            Plotly.purge(gd);\n",
       "            observer.disconnect();\n",
       "        }}\n",
       "}});\n",
       "\n",
       "// Listen for the removal of the full notebook cells\n",
       "var notebookContainer = gd.closest('#notebook-container');\n",
       "if (notebookContainer) {{\n",
       "    x.observe(notebookContainer, {childList: true});\n",
       "}}\n",
       "\n",
       "// Listen for the clearing of the current output cell\n",
       "var outputEl = gd.closest('.output');\n",
       "if (outputEl) {{\n",
       "    x.observe(outputEl, {childList: true});\n",
       "}}\n",
       "\n",
       "                        })                };                });            </script>        </div>"
      ]
     },
     "metadata": {},
     "output_type": "display_data"
    }
   ],
   "source": [
    "# Now we can plot the data\n",
    "import plotly.graph_objects as go\n",
    "import plotly.express as px\n",
    "\n",
    "fig = px.scatter(\n",
    "    cpi, x=\"Value\", y=\"Year\", color=\"Series ID\",\n",
    "    trendline=\"ols\", trendline_color_override=\"#0072B2\",\n",
    "        size=\"Value\", animation_frame=\"Year\")\n",
    "fig.show()"
   ]
  },
  {
   "cell_type": "code",
   "execution_count": null,
   "metadata": {},
   "outputs": [],
   "source": []
  },
  {
   "cell_type": "code",
   "execution_count": null,
   "metadata": {},
   "outputs": [],
   "source": []
  },
  {
   "cell_type": "code",
   "execution_count": null,
   "metadata": {},
   "outputs": [],
   "source": []
  }
 ],
 "metadata": {
  "kernelspec": {
   "display_name": "Python 3",
   "language": "python",
   "name": "python3"
  },
  "language_info": {
   "codemirror_mode": {
    "name": "ipython",
    "version": 3
   },
   "file_extension": ".py",
   "mimetype": "text/x-python",
   "name": "python",
   "nbconvert_exporter": "python",
   "pygments_lexer": "ipython3",
   "version": "3.8.3"
  }
 },
 "nbformat": 4,
 "nbformat_minor": 4
}
